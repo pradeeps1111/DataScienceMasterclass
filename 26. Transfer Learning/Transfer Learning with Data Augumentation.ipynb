{
 "cells": [
  {
   "cell_type": "code",
   "execution_count": 28,
   "id": "b8a8c7d7",
   "metadata": {},
   "outputs": [],
   "source": [
    "from tensorflow.keras.applications import ResNet50\n",
    "#preprocess the image before passing to the ResNet50 model\n",
    "from tensorflow.keras.applications.resnet50 import preprocess_input\n",
    "from keras.models import Sequential\n",
    "from keras.layers import Dense, BatchNormalization, Dropout, Conv2D, MaxPooling2D, MaxPool2D, Flatten\n",
    "from keras.optimizers import SGD, Adam\n",
    "\n",
    "import matplotlib.pyplot as plt"
   ]
  },
  {
   "cell_type": "code",
   "execution_count": 29,
   "id": "f7f058a2",
   "metadata": {},
   "outputs": [],
   "source": [
    "model = Sequential()"
   ]
  },
  {
   "cell_type": "code",
   "execution_count": 30,
   "id": "823b0b4d",
   "metadata": {},
   "outputs": [],
   "source": [
    "model.add(ResNet50(include_top = False, weights = 'imagenet', pooling = 'avg'))"
   ]
  },
  {
   "cell_type": "code",
   "execution_count": 31,
   "id": "4dba17ab",
   "metadata": {},
   "outputs": [],
   "source": [
    "model.add(Dense(2,activation = 'softmax'))"
   ]
  },
  {
   "cell_type": "code",
   "execution_count": 32,
   "id": "d6550112",
   "metadata": {},
   "outputs": [],
   "source": [
    "model.layers[0].trainable = False"
   ]
  },
  {
   "cell_type": "code",
   "execution_count": 33,
   "id": "5254b57f",
   "metadata": {},
   "outputs": [
    {
     "name": "stdout",
     "output_type": "stream",
     "text": [
      "Model: \"sequential_1\"\n",
      "_________________________________________________________________\n",
      " Layer (type)                Output Shape              Param #   \n",
      "=================================================================\n",
      " resnet50 (Functional)       (None, 2048)              23587712  \n",
      "                                                                 \n",
      " dense_1 (Dense)             (None, 2)                 4098      \n",
      "                                                                 \n",
      "=================================================================\n",
      "Total params: 23,591,810\n",
      "Trainable params: 4,098\n",
      "Non-trainable params: 23,587,712\n",
      "_________________________________________________________________\n"
     ]
    }
   ],
   "source": [
    "model.summary()"
   ]
  },
  {
   "cell_type": "code",
   "execution_count": 34,
   "id": "07c2f03d",
   "metadata": {},
   "outputs": [],
   "source": [
    "optim = Adam()\n",
    "model.compile(optimizer = optim, loss = 'categorical_crossentropy', metrics = ['accuracy'] )"
   ]
  },
  {
   "cell_type": "code",
   "execution_count": null,
   "id": "1b6c9da4",
   "metadata": {},
   "outputs": [],
   "source": []
  },
  {
   "cell_type": "code",
   "execution_count": 35,
   "id": "b260189e",
   "metadata": {},
   "outputs": [],
   "source": [
    "from keras.preprocessing.image import ImageDataGenerator "
   ]
  },
  {
   "cell_type": "code",
   "execution_count": null,
   "id": "459af2d6",
   "metadata": {},
   "outputs": [],
   "source": []
  },
  {
   "cell_type": "code",
   "execution_count": 36,
   "id": "be46e333",
   "metadata": {},
   "outputs": [],
   "source": [
    "data_generator = ImageDataGenerator(preprocess_input,\n",
    "                                   horizontal_flip=True,\n",
    "                                   width_shift_range = 0.2,\n",
    "                                   height_shift_range = 0.2)"
   ]
  },
  {
   "cell_type": "code",
   "execution_count": 37,
   "id": "5dc3df2f",
   "metadata": {},
   "outputs": [
    {
     "name": "stdout",
     "output_type": "stream",
     "text": [
      "Found 220 images belonging to 2 classes.\n"
     ]
    }
   ],
   "source": [
    "train_generator = data_generator.flow_from_directory(\n",
    "    directory = 'images/train',\n",
    "    target_size=(224, 224),\n",
    "    class_mode='categorical',\n",
    "    batch_size=32\n",
    ")"
   ]
  },
  {
   "cell_type": "code",
   "execution_count": 38,
   "id": "1dae29bf",
   "metadata": {},
   "outputs": [
    {
     "name": "stdout",
     "output_type": "stream",
     "text": [
      "Found 217 images belonging to 2 classes.\n"
     ]
    }
   ],
   "source": [
    "val_generator = data_generator.flow_from_directory(\n",
    "    directory = 'images/val',\n",
    "    target_size=(224, 224),\n",
    "    class_mode='categorical',\n",
    "    batch_size=32\n",
    ")"
   ]
  },
  {
   "cell_type": "code",
   "execution_count": 39,
   "id": "e8f21ecf",
   "metadata": {
    "scrolled": true
   },
   "outputs": [
    {
     "name": "stderr",
     "output_type": "stream",
     "text": [
      "/Users/mohamednoordeenalaudeen/opt/anaconda3/lib/python3.9/site-packages/keras/preprocessing/image.py:1663: UserWarning: This ImageDataGenerator specifies `featurewise_center`, but it hasn't been fit on any training data. Fit it first by calling `.fit(numpy_data)`.\n",
      "  warnings.warn('This ImageDataGenerator specifies '\n"
     ]
    },
    {
     "name": "stdout",
     "output_type": "stream",
     "text": [
      "Epoch 1/10\n",
      "7/7 [==============================] - 23s 3s/step - loss: 0.8279 - accuracy: 0.5727 - val_loss: 0.6546 - val_accuracy: 0.6267\n",
      "Epoch 2/10\n",
      "7/7 [==============================] - 21s 3s/step - loss: 0.4195 - accuracy: 0.8091 - val_loss: 0.4792 - val_accuracy: 0.7558\n",
      "Epoch 3/10\n",
      "7/7 [==============================] - 21s 3s/step - loss: 0.2772 - accuracy: 0.8909 - val_loss: 0.2895 - val_accuracy: 0.8664\n",
      "Epoch 4/10\n",
      "7/7 [==============================] - 22s 3s/step - loss: 0.1676 - accuracy: 0.9500 - val_loss: 0.2160 - val_accuracy: 0.9171\n",
      "Epoch 5/10\n",
      "7/7 [==============================] - 22s 3s/step - loss: 0.1226 - accuracy: 0.9636 - val_loss: 0.1697 - val_accuracy: 0.9539\n",
      "Epoch 6/10\n",
      "7/7 [==============================] - 21s 3s/step - loss: 0.0836 - accuracy: 0.9818 - val_loss: 0.1521 - val_accuracy: 0.9309\n",
      "Epoch 7/10\n",
      "7/7 [==============================] - 21s 3s/step - loss: 0.0798 - accuracy: 0.9773 - val_loss: 0.1645 - val_accuracy: 0.9217\n",
      "Epoch 8/10\n",
      "7/7 [==============================] - 21s 3s/step - loss: 0.0632 - accuracy: 0.9909 - val_loss: 0.1490 - val_accuracy: 0.9447\n",
      "Epoch 9/10\n",
      "7/7 [==============================] - 21s 3s/step - loss: 0.0579 - accuracy: 0.9818 - val_loss: 0.1266 - val_accuracy: 0.9585\n",
      "Epoch 10/10\n",
      "7/7 [==============================] - 21s 3s/step - loss: 0.0507 - accuracy: 0.9909 - val_loss: 0.1493 - val_accuracy: 0.9355\n"
     ]
    }
   ],
   "source": [
    "history = model.fit(train_generator, epochs=10, batch_size = 8,\n",
    "                    validation_data=val_generator)"
   ]
  },
  {
   "cell_type": "code",
   "execution_count": 41,
   "id": "7a93fc51",
   "metadata": {},
   "outputs": [
    {
     "data": {
      "image/png": "[encoded data removed]",
      "text/plain": [
       "<Figure size 640x480 with 1 Axes>"
      ]
     },
     "metadata": {},
     "output_type": "display_data"
    }
   ],
   "source": [
    "plt.plot(history.history['accuracy'])\n",
    "plt.plot(history.history['val_accuracy'])\n",
    "plt.legend(['training', 'validation'])\n",
    "plt.show()"
   ]
  },
  {
   "cell_type": "code",
   "execution_count": 42,
   "id": "fabdd557",
   "metadata": {},
   "outputs": [
    {
     "name": "stdout",
     "output_type": "stream",
     "text": [
      "7/7 [==============================] - 11s 1s/step\n"
     ]
    }
   ],
   "source": [
    "import numpy as np\n",
    "pred = np.argmax(model.predict(val_generator), axis = 1)"
   ]
  },
  {
   "cell_type": "code",
   "execution_count": 43,
   "id": "69bc8b48",
   "metadata": {},
   "outputs": [],
   "source": [
    "actual = val_generator.labels"
   ]
  },
  {
   "cell_type": "code",
   "execution_count": 44,
   "id": "52c3985f",
   "metadata": {},
   "outputs": [],
   "source": [
    "from sklearn.metrics import accuracy_score, confusion_matrix"
   ]
  },
  {
   "cell_type": "code",
   "execution_count": 45,
   "id": "0e384aa3",
   "metadata": {},
   "outputs": [
    {
     "data": {
      "text/plain": [
       "array([[56, 54],\n",
       "       [58, 49]])"
      ]
     },
     "execution_count": 45,
     "metadata": {},
     "output_type": "execute_result"
    }
   ],
   "source": [
    "confusion_matrix(actual, pred)"
   ]
  },
  {
   "cell_type": "code",
   "execution_count": 46,
   "id": "7d5b9781",
   "metadata": {},
   "outputs": [
    {
     "data": {
      "text/plain": [
       "0.4838709677419355"
      ]
     },
     "execution_count": 46,
     "metadata": {},
     "output_type": "execute_result"
    }
   ],
   "source": [
    "accuracy_score(actual, pred)"
   ]
  },
  {
   "cell_type": "code",
   "execution_count": 47,
   "id": "06ea39ad",
   "metadata": {},
   "outputs": [
    {
     "name": "stderr",
     "output_type": "stream",
     "text": [
      "/Users/mohamednoordeenalaudeen/opt/anaconda3/lib/python3.9/site-packages/keras/preprocessing/image.py:1663: UserWarning: This ImageDataGenerator specifies `featurewise_center`, but it hasn't been fit on any training data. Fit it first by calling `.fit(numpy_data)`.\n",
      "  warnings.warn('This ImageDataGenerator specifies '\n"
     ]
    },
    {
     "name": "stdout",
     "output_type": "stream",
     "text": [
      "7/7 [==============================] - 10s 1s/step\n"
     ]
    }
   ],
   "source": [
    "pred_train = np.argmax(model.predict(train_generator), axis = 1)\n"
   ]
  },
  {
   "cell_type": "code",
   "execution_count": 48,
   "id": "dc96eccd",
   "metadata": {},
   "outputs": [],
   "source": [
    "actual_train = train_generator.labels"
   ]
  },
  {
   "cell_type": "code",
   "execution_count": 49,
   "id": "a8efb8d4",
   "metadata": {},
   "outputs": [
    {
     "data": {
      "text/plain": [
       "array([[60, 51],\n",
       "       [53, 56]])"
      ]
     },
     "execution_count": 49,
     "metadata": {},
     "output_type": "execute_result"
    }
   ],
   "source": [
    "confusion_matrix(actual_train, pred_train)"
   ]
  },
  {
   "cell_type": "code",
   "execution_count": 50,
   "id": "c5261bc3",
   "metadata": {},
   "outputs": [
    {
     "data": {
      "text/plain": [
       "0.5272727272727272"
      ]
     },
     "execution_count": 50,
     "metadata": {},
     "output_type": "execute_result"
    }
   ],
   "source": [
    "accuracy_score(actual_train, pred_train)"
   ]
  },
  {
   "cell_type": "code",
   "execution_count": null,
   "id": "c444608a",
   "metadata": {},
   "outputs": [],
   "source": []
  },
  {
   "cell_type": "code",
   "execution_count": null,
   "id": "a5d881de",
   "metadata": {},
   "outputs": [],
   "source": []
  },
  {
   "cell_type": "code",
   "execution_count": null,
   "id": "9f023678",
   "metadata": {},
   "outputs": [],
   "source": []
  },
  {
   "cell_type": "code",
   "execution_count": null,
   "id": "ca6181d4",
   "metadata": {},
   "outputs": [],
   "source": []
  },
  {
   "cell_type": "code",
   "execution_count": null,
   "id": "af1126e8",
   "metadata": {},
   "outputs": [],
   "source": []
  },
  {
   "cell_type": "code",
   "execution_count": null,
   "id": "4d073448",
   "metadata": {},
   "outputs": [],
   "source": []
  },
  {
   "cell_type": "code",
   "execution_count": null,
   "id": "9b487230",
   "metadata": {},
   "outputs": [],
   "source": []
  },
  {
   "cell_type": "code",
   "execution_count": null,
   "id": "509f3031",
   "metadata": {},
   "outputs": [],
   "source": []
  },
  {
   "cell_type": "code",
   "execution_count": 35,
   "id": "c6c9807d",
   "metadata": {},
   "outputs": [],
   "source": [
    "def add(a,b):\n",
    "    return a+b"
   ]
  },
  {
   "cell_type": "code",
   "execution_count": 36,
   "id": "7ba2e65d",
   "metadata": {},
   "outputs": [
    {
     "data": {
      "text/plain": [
       "6"
      ]
     },
     "execution_count": 36,
     "metadata": {},
     "output_type": "execute_result"
    }
   ],
   "source": [
    "add(2,4)"
   ]
  },
  {
   "cell_type": "code",
   "execution_count": 37,
   "id": "15a792ea",
   "metadata": {},
   "outputs": [
    {
     "ename": "TypeError",
     "evalue": "unsupported operand type(s) for +: 'int' and 'str'",
     "output_type": "error",
     "traceback": [
      "\u001b[0;31m---------------------------------------------------------------------------\u001b[0m",
      "\u001b[0;31mTypeError\u001b[0m                                 Traceback (most recent call last)",
      "\u001b[0;32m/var/folders/cv/kmsppstx0d9281mtbqrrgl6c0000gn/T/ipykernel_1997/3743505552.py\u001b[0m in \u001b[0;36m<module>\u001b[0;34m\u001b[0m\n\u001b[0;32m----> 1\u001b[0;31m \u001b[0madd\u001b[0m\u001b[0;34m(\u001b[0m\u001b[0;36m2\u001b[0m\u001b[0;34m,\u001b[0m\u001b[0;34m\"dsd\"\u001b[0m\u001b[0;34m)\u001b[0m\u001b[0;34m\u001b[0m\u001b[0;34m\u001b[0m\u001b[0m\n\u001b[0m",
      "\u001b[0;32m/var/folders/cv/kmsppstx0d9281mtbqrrgl6c0000gn/T/ipykernel_1997/848913544.py\u001b[0m in \u001b[0;36madd\u001b[0;34m(a, b)\u001b[0m\n\u001b[1;32m      1\u001b[0m \u001b[0;32mdef\u001b[0m \u001b[0madd\u001b[0m\u001b[0;34m(\u001b[0m\u001b[0ma\u001b[0m\u001b[0;34m,\u001b[0m\u001b[0mb\u001b[0m\u001b[0;34m)\u001b[0m\u001b[0;34m:\u001b[0m\u001b[0;34m\u001b[0m\u001b[0;34m\u001b[0m\u001b[0m\n\u001b[0;32m----> 2\u001b[0;31m     \u001b[0;32mreturn\u001b[0m \u001b[0ma\u001b[0m\u001b[0;34m+\u001b[0m\u001b[0mb\u001b[0m\u001b[0;34m\u001b[0m\u001b[0;34m\u001b[0m\u001b[0m\n\u001b[0m",
      "\u001b[0;31mTypeError\u001b[0m: unsupported operand type(s) for +: 'int' and 'str'"
     ]
    }
   ],
   "source": [
    "add(2,\"dsd\")"
   ]
  },
  {
   "cell_type": "code",
   "execution_count": 65,
   "id": "fa932001",
   "metadata": {},
   "outputs": [],
   "source": [
    "def addition(a,b):    \n",
    "    if (isinstance(a, int)) and (isinstance(b, int)):\n",
    "            return add(a,b)\n",
    "    else:\n",
    "        print('check the data type is int')\n",
    "    \n"
   ]
  },
  {
   "cell_type": "code",
   "execution_count": 67,
   "id": "d76b1bb6",
   "metadata": {},
   "outputs": [
    {
     "name": "stdout",
     "output_type": "stream",
     "text": [
      "check the data type is int\n"
     ]
    }
   ],
   "source": [
    "addition(3,'s')"
   ]
  },
  {
   "cell_type": "code",
   "execution_count": null,
   "id": "5bcafe56",
   "metadata": {},
   "outputs": [],
   "source": []
  }
 ],
 "metadata": {
  "kernelspec": {
   "display_name": "Python 3 (ipykernel)",
   "language": "python",
   "name": "python3"
  },
  "language_info": {
   "codemirror_mode": {
    "name": "ipython",
    "version": 3
   },
   "file_extension": ".py",
   "mimetype": "text/x-python",
   "name": "python",
   "nbconvert_exporter": "python",
   "pygments_lexer": "ipython3",
   "version": "3.9.13"
  }
 },
 "nbformat": 4,
 "nbformat_minor": 5
}
