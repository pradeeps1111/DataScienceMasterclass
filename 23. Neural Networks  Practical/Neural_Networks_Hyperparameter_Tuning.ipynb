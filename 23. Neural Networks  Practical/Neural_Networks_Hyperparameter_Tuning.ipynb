{
 "cells": [
  {
   "cell_type": "markdown",
   "metadata": {
    "id": "DTtJ9L_FuWDU"
   },
   "source": [
    "1. Proper Intialization of Weight\n",
    "2. Batch Normalization\n",
    "3. Choosing Less saturated Activstion Function(Relu, Elu)\n",
    "4. Best Optimizer (ADAM)\n",
    "5. Dropout (Overfitting)"
   ]
  },
  {
   "cell_type": "code",
   "execution_count": 135,
   "metadata": {
    "id": "iYKmEOwLtvzI"
   },
   "outputs": [],
   "source": [
    "import matplotlib.pyplot as plt\n",
    "from keras.utils import to_categorical\n",
    "\n",
    "from keras.models import Sequential\n",
    "from keras.layers import Dense, BatchNormalization, Dropout\n",
    "from keras.optimizers import SGD, Adam"
   ]
  },
  {
   "cell_type": "code",
   "execution_count": 1,
   "metadata": {
    "colab": {
     "base_uri": "https://localhost:8080/"
    },
    "id": "cKkjj-xouYpd",
    "outputId": "b4099780-5c49-4491-a090-9b1498ba88d6"
   },
   "outputs": [
    {
     "name": "stdout",
     "output_type": "stream",
     "text": [
      "Downloading data from https://storage.googleapis.com/tensorflow/tf-keras-datasets/mnist.npz\n",
      "11490434/11490434 [==============================] - 0s 0us/step\n"
     ]
    }
   ],
   "source": [
    "from keras.datasets import mnist\n",
    "\n",
    "(x_train, y_train), (x_test, y_test)  = mnist.load_data()"
   ]
  },
  {
   "cell_type": "code",
   "execution_count": 2,
   "metadata": {
    "colab": {
     "base_uri": "https://localhost:8080/"
    },
    "id": "3Pt3HhhFvlMT",
    "outputId": "2db2b37d-2c72-47e7-8a3b-3f226c658277"
   },
   "outputs": [
    {
     "data": {
      "text/plain": [
       "(60000, 28, 28)"
      ]
     },
     "execution_count": 2,
     "metadata": {},
     "output_type": "execute_result"
    }
   ],
   "source": [
    "x_train.shape"
   ]
  },
  {
   "cell_type": "code",
   "execution_count": 3,
   "metadata": {
    "colab": {
     "base_uri": "https://localhost:8080/"
    },
    "id": "laCdWoc-tXz3",
    "outputId": "c2b52b3a-23d3-4e32-ac7b-f33dc5d9b3cd"
   },
   "outputs": [
    {
     "data": {
      "text/plain": [
       "(10000, 28, 28)"
      ]
     },
     "execution_count": 3,
     "metadata": {},
     "output_type": "execute_result"
    }
   ],
   "source": [
    "x_test.shape"
   ]
  },
  {
   "cell_type": "code",
   "execution_count": 5,
   "metadata": {
    "colab": {
     "base_uri": "https://localhost:8080/"
    },
    "id": "Phqoiob1td35",
    "outputId": "de0f899c-98de-438f-b51a-70237ba455a8"
   },
   "outputs": [
    {
     "data": {
      "text/plain": [
       "(28, 28)"
      ]
     },
     "execution_count": 5,
     "metadata": {},
     "output_type": "execute_result"
    }
   ],
   "source": [
    "x_train[0].shape"
   ]
  },
  {
   "cell_type": "code",
   "execution_count": 8,
   "metadata": {
    "colab": {
     "base_uri": "https://localhost:8080/"
    },
    "id": "dvyTXfhMt79q",
    "outputId": "02fb27e1-82d9-42b4-d782-6cf9e3ce7410"
   },
   "outputs": [
    {
     "data": {
      "text/plain": [
       "array([[  0,   0,   0,   0,   0,   0,   0,   0,   0,   0,   0,   0,   0,\n",
       "          0,   0,   0,   0,   0,   0,   0,   0,   0,   0,   0,   0,   0,\n",
       "          0,   0],\n",
       "       [  0,   0,   0,   0,   0,   0,   0,   0,   0,   0,   0,   0,   0,\n",
       "          0,   0,   0,   0,   0,   0,   0,   0,   0,   0,   0,   0,   0,\n",
       "          0,   0],\n",
       "       [  0,   0,   0,   0,   0,   0,   0,   0,   0,   0,   0,   0,   0,\n",
       "          0,   0,   0,   0,   0,   0,   0,   0,   0,   0,   0,   0,   0,\n",
       "          0,   0],\n",
       "       [  0,   0,   0,   0,   0,   0,   0,   0,   0,   0,   0,   0,   0,\n",
       "          0,   0,   0,   0,   0,   0,   0,   0,   0,   0,   0,   0,   0,\n",
       "          0,   0],\n",
       "       [  0,   0,   0,   0,   0,   0,   0,   0,   0,   0,   0,   0,   0,\n",
       "          0,   0,   0,   0,   0,   0,   0,   0,   0,   0,   0,   0,   0,\n",
       "          0,   0],\n",
       "       [  0,   0,   0,   0,   0,   0,   0,   0,   0,   0,   0,   0,   3,\n",
       "         18,  18,  18, 126, 136, 175,  26, 166, 255, 247, 127,   0,   0,\n",
       "          0,   0],\n",
       "       [  0,   0,   0,   0,   0,   0,   0,   0,  30,  36,  94, 154, 170,\n",
       "        253, 253, 253, 253, 253, 225, 172, 253, 242, 195,  64,   0,   0,\n",
       "          0,   0],\n",
       "       [  0,   0,   0,   0,   0,   0,   0,  49, 238, 253, 253, 253, 253,\n",
       "        253, 253, 253, 253, 251,  93,  82,  82,  56,  39,   0,   0,   0,\n",
       "          0,   0],\n",
       "       [  0,   0,   0,   0,   0,   0,   0,  18, 219, 253, 253, 253, 253,\n",
       "        253, 198, 182, 247, 241,   0,   0,   0,   0,   0,   0,   0,   0,\n",
       "          0,   0],\n",
       "       [  0,   0,   0,   0,   0,   0,   0,   0,  80, 156, 107, 253, 253,\n",
       "        205,  11,   0,  43, 154,   0,   0,   0,   0,   0,   0,   0,   0,\n",
       "          0,   0],\n",
       "       [  0,   0,   0,   0,   0,   0,   0,   0,   0,  14,   1, 154, 253,\n",
       "         90,   0,   0,   0,   0,   0,   0,   0,   0,   0,   0,   0,   0,\n",
       "          0,   0],\n",
       "       [  0,   0,   0,   0,   0,   0,   0,   0,   0,   0,   0, 139, 253,\n",
       "        190,   2,   0,   0,   0,   0,   0,   0,   0,   0,   0,   0,   0,\n",
       "          0,   0],\n",
       "       [  0,   0,   0,   0,   0,   0,   0,   0,   0,   0,   0,  11, 190,\n",
       "        253,  70,   0,   0,   0,   0,   0,   0,   0,   0,   0,   0,   0,\n",
       "          0,   0],\n",
       "       [  0,   0,   0,   0,   0,   0,   0,   0,   0,   0,   0,   0,  35,\n",
       "        241, 225, 160, 108,   1,   0,   0,   0,   0,   0,   0,   0,   0,\n",
       "          0,   0],\n",
       "       [  0,   0,   0,   0,   0,   0,   0,   0,   0,   0,   0,   0,   0,\n",
       "         81, 240, 253, 253, 119,  25,   0,   0,   0,   0,   0,   0,   0,\n",
       "          0,   0],\n",
       "       [  0,   0,   0,   0,   0,   0,   0,   0,   0,   0,   0,   0,   0,\n",
       "          0,  45, 186, 253, 253, 150,  27,   0,   0,   0,   0,   0,   0,\n",
       "          0,   0],\n",
       "       [  0,   0,   0,   0,   0,   0,   0,   0,   0,   0,   0,   0,   0,\n",
       "          0,   0,  16,  93, 252, 253, 187,   0,   0,   0,   0,   0,   0,\n",
       "          0,   0],\n",
       "       [  0,   0,   0,   0,   0,   0,   0,   0,   0,   0,   0,   0,   0,\n",
       "          0,   0,   0,   0, 249, 253, 249,  64,   0,   0,   0,   0,   0,\n",
       "          0,   0],\n",
       "       [  0,   0,   0,   0,   0,   0,   0,   0,   0,   0,   0,   0,   0,\n",
       "          0,  46, 130, 183, 253, 253, 207,   2,   0,   0,   0,   0,   0,\n",
       "          0,   0],\n",
       "       [  0,   0,   0,   0,   0,   0,   0,   0,   0,   0,   0,   0,  39,\n",
       "        148, 229, 253, 253, 253, 250, 182,   0,   0,   0,   0,   0,   0,\n",
       "          0,   0],\n",
       "       [  0,   0,   0,   0,   0,   0,   0,   0,   0,   0,  24, 114, 221,\n",
       "        253, 253, 253, 253, 201,  78,   0,   0,   0,   0,   0,   0,   0,\n",
       "          0,   0],\n",
       "       [  0,   0,   0,   0,   0,   0,   0,   0,  23,  66, 213, 253, 253,\n",
       "        253, 253, 198,  81,   2,   0,   0,   0,   0,   0,   0,   0,   0,\n",
       "          0,   0],\n",
       "       [  0,   0,   0,   0,   0,   0,  18, 171, 219, 253, 253, 253, 253,\n",
       "        195,  80,   9,   0,   0,   0,   0,   0,   0,   0,   0,   0,   0,\n",
       "          0,   0],\n",
       "       [  0,   0,   0,   0,  55, 172, 226, 253, 253, 253, 253, 244, 133,\n",
       "         11,   0,   0,   0,   0,   0,   0,   0,   0,   0,   0,   0,   0,\n",
       "          0,   0],\n",
       "       [  0,   0,   0,   0, 136, 253, 253, 253, 212, 135, 132,  16,   0,\n",
       "          0,   0,   0,   0,   0,   0,   0,   0,   0,   0,   0,   0,   0,\n",
       "          0,   0],\n",
       "       [  0,   0,   0,   0,   0,   0,   0,   0,   0,   0,   0,   0,   0,\n",
       "          0,   0,   0,   0,   0,   0,   0,   0,   0,   0,   0,   0,   0,\n",
       "          0,   0],\n",
       "       [  0,   0,   0,   0,   0,   0,   0,   0,   0,   0,   0,   0,   0,\n",
       "          0,   0,   0,   0,   0,   0,   0,   0,   0,   0,   0,   0,   0,\n",
       "          0,   0],\n",
       "       [  0,   0,   0,   0,   0,   0,   0,   0,   0,   0,   0,   0,   0,\n",
       "          0,   0,   0,   0,   0,   0,   0,   0,   0,   0,   0,   0,   0,\n",
       "          0,   0]], dtype=uint8)"
      ]
     },
     "execution_count": 8,
     "metadata": {},
     "output_type": "execute_result"
    }
   ],
   "source": [
    "x_train[0]"
   ]
  },
  {
   "cell_type": "code",
   "execution_count": 10,
   "metadata": {
    "colab": {
     "base_uri": "https://localhost:8080/",
     "height": 447
    },
    "id": "gY_bn9UDtoCA",
    "outputId": "5e50dcfc-a8bc-4611-f49f-89d756f25a11"
   },
   "outputs": [
    {
     "name": "stdout",
     "output_type": "stream",
     "text": [
      "Label =  5\n"
     ]
    },
    {
     "data": {
      "image/png": "[encoded data removed]",
      "text/plain": [
       "<Figure size 640x480 with 1 Axes>"
      ]
     },
     "metadata": {},
     "output_type": "display_data"
    }
   ],
   "source": [
    "plt.imshow(x_train[0])\n",
    "print(\"Label = \",y_train[0])"
   ]
  },
  {
   "cell_type": "code",
   "execution_count": null,
   "metadata": {
    "id": "63onlPist5dO"
   },
   "outputs": [],
   "source": [
    "for i in range(32,40):\n",
    "  plt.imshow(x_train[i])\n",
    "  plt.show()\n",
    "  print(\"Label = \",y_train[i])"
   ]
  },
  {
   "cell_type": "code",
   "execution_count": 14,
   "metadata": {
    "colab": {
     "base_uri": "https://localhost:8080/"
    },
    "id": "4TheU2UBuuei",
    "outputId": "594e6172-a1f0-48ed-bdad-bed106b33401"
   },
   "outputs": [
    {
     "data": {
      "text/plain": [
       "784"
      ]
     },
     "execution_count": 14,
     "metadata": {},
     "output_type": "execute_result"
    }
   ],
   "source": [
    "28*28"
   ]
  },
  {
   "cell_type": "code",
   "execution_count": null,
   "metadata": {
    "id": "DtEQ_z9RvfGu"
   },
   "outputs": [],
   "source": [
    "1 2 3\n",
    "4 5 6\n",
    "7 8 9\n",
    "\n",
    "\n",
    "1 2 3 4 5 6 7 8 9"
   ]
  },
  {
   "cell_type": "code",
   "execution_count": 22,
   "metadata": {
    "id": "P4hJ7h3_wUat"
   },
   "outputs": [],
   "source": [
    "import numpy as np\n",
    "a = np.array([[1,2,3],[4,5,6],[7,8,9]])"
   ]
  },
  {
   "cell_type": "code",
   "execution_count": 23,
   "metadata": {
    "colab": {
     "base_uri": "https://localhost:8080/"
    },
    "id": "Qhjkp5KuwY8t",
    "outputId": "2e916de2-0d69-4afa-c738-110f67562f50"
   },
   "outputs": [
    {
     "data": {
      "text/plain": [
       "array([[1, 2, 3],\n",
       "       [4, 5, 6],\n",
       "       [7, 8, 9]])"
      ]
     },
     "execution_count": 23,
     "metadata": {},
     "output_type": "execute_result"
    }
   ],
   "source": [
    "a"
   ]
  },
  {
   "cell_type": "code",
   "execution_count": 24,
   "metadata": {
    "colab": {
     "base_uri": "https://localhost:8080/"
    },
    "id": "4RdTCKOawe5R",
    "outputId": "a3f39eac-2536-4845-8730-746c582b82c2"
   },
   "outputs": [
    {
     "data": {
      "text/plain": [
       "(3, 3)"
      ]
     },
     "execution_count": 24,
     "metadata": {},
     "output_type": "execute_result"
    }
   ],
   "source": [
    "a.shape"
   ]
  },
  {
   "cell_type": "code",
   "execution_count": 25,
   "metadata": {
    "colab": {
     "base_uri": "https://localhost:8080/"
    },
    "id": "A_cS9PrhwaTC",
    "outputId": "db11ba66-b6cb-4719-cd5a-9b2dbed8b963"
   },
   "outputs": [
    {
     "data": {
      "text/plain": [
       "array([1, 2, 3, 4, 5, 6, 7, 8, 9])"
      ]
     },
     "execution_count": 25,
     "metadata": {},
     "output_type": "execute_result"
    }
   ],
   "source": [
    "a.reshape(9)"
   ]
  },
  {
   "cell_type": "code",
   "execution_count": 17,
   "metadata": {
    "colab": {
     "base_uri": "https://localhost:8080/"
    },
    "id": "NsXWaBmJvsOI",
    "outputId": "ab1bda26-3e15-4412-8600-015b8b426679"
   },
   "outputs": [
    {
     "data": {
      "text/plain": [
       "(60000, 784)"
      ]
     },
     "execution_count": 17,
     "metadata": {},
     "output_type": "execute_result"
    }
   ],
   "source": [
    "x_train.reshape(x_train.shape[0],x_train.shape[1]*x_train.shape[2]).shape"
   ]
  },
  {
   "cell_type": "code",
   "execution_count": 27,
   "metadata": {
    "id": "VkhF0nLwvxWp"
   },
   "outputs": [],
   "source": [
    "X_train = x_train.reshape(60000,784)\n",
    "X_test = x_test.reshape(10000,784)"
   ]
  },
  {
   "cell_type": "code",
   "execution_count": 30,
   "metadata": {
    "colab": {
     "base_uri": "https://localhost:8080/"
    },
    "id": "3V2uIxflwv-n",
    "outputId": "3be71f8d-fa25-4815-e7b3-74d3ec2a4f35"
   },
   "outputs": [
    {
     "data": {
      "text/plain": [
       "(array([[0, 0, 0, ..., 0, 0, 0],\n",
       "        [0, 0, 0, ..., 0, 0, 0],\n",
       "        [0, 0, 0, ..., 0, 0, 0],\n",
       "        ...,\n",
       "        [0, 0, 0, ..., 0, 0, 0],\n",
       "        [0, 0, 0, ..., 0, 0, 0],\n",
       "        [0, 0, 0, ..., 0, 0, 0]], dtype=uint8),\n",
       " (60000, 784))"
      ]
     },
     "execution_count": 30,
     "metadata": {},
     "output_type": "execute_result"
    }
   ],
   "source": [
    "X_train,X_train.shape"
   ]
  },
  {
   "cell_type": "code",
   "execution_count": 31,
   "metadata": {
    "colab": {
     "base_uri": "https://localhost:8080/"
    },
    "id": "vBKpBmTDzuEr",
    "outputId": "70fa4bc9-3e42-4e8d-c133-e780cdb0eac0"
   },
   "outputs": [
    {
     "data": {
      "text/plain": [
       "(array([[0, 0, 0, ..., 0, 0, 0],\n",
       "        [0, 0, 0, ..., 0, 0, 0],\n",
       "        [0, 0, 0, ..., 0, 0, 0],\n",
       "        ...,\n",
       "        [0, 0, 0, ..., 0, 0, 0],\n",
       "        [0, 0, 0, ..., 0, 0, 0],\n",
       "        [0, 0, 0, ..., 0, 0, 0]], dtype=uint8),\n",
       " (10000, 784))"
      ]
     },
     "execution_count": 31,
     "metadata": {},
     "output_type": "execute_result"
    }
   ],
   "source": [
    "X_test, X_test.shape"
   ]
  },
  {
   "cell_type": "code",
   "execution_count": 35,
   "metadata": {
    "colab": {
     "base_uri": "https://localhost:8080/"
    },
    "id": "dXp4DYtDzvi7",
    "outputId": "c00afe83-cc2c-4196-fe2b-7d16d1055705"
   },
   "outputs": [
    {
     "data": {
      "text/plain": [
       "(2, 2, 3)"
      ]
     },
     "execution_count": 35,
     "metadata": {},
     "output_type": "execute_result"
    }
   ],
   "source": [
    "a = np.array([[[1,2,3],[4,5,6]],[[4,6,4],[7,89,9]]])\n",
    "a.shape"
   ]
  },
  {
   "cell_type": "code",
   "execution_count": 39,
   "metadata": {
    "id": "UPDlT_Ov0U95"
   },
   "outputs": [],
   "source": [
    "Y_train = to_categorical(y_train )\n",
    "Y_test = to_categorical(y_test )"
   ]
  },
  {
   "cell_type": "code",
   "execution_count": 38,
   "metadata": {
    "colab": {
     "base_uri": "https://localhost:8080/"
    },
    "id": "ZXHW9sGV1fWp",
    "outputId": "40008566-2fe2-492e-8fff-24e402cc281c"
   },
   "outputs": [
    {
     "data": {
      "text/plain": [
       "array([5, 0, 4, ..., 5, 6, 8], dtype=uint8)"
      ]
     },
     "execution_count": 38,
     "metadata": {},
     "output_type": "execute_result"
    }
   ],
   "source": [
    "y_train"
   ]
  },
  {
   "cell_type": "code",
   "execution_count": null,
   "metadata": {
    "id": "_m5k2_GS1hHN"
   },
   "outputs": [],
   "source": []
  },
  {
   "cell_type": "code",
   "execution_count": 68,
   "metadata": {
    "id": "IdZtcMNc14lx"
   },
   "outputs": [],
   "source": [
    "model = Sequential()"
   ]
  },
  {
   "cell_type": "code",
   "execution_count": 69,
   "metadata": {
    "id": "u2EZis4l16-N"
   },
   "outputs": [],
   "source": [
    "model.add(Dense(32, input_shape = (X_train.shape[1],), activation = 'sigmoid'))\n",
    "model.add(Dense(16, activation = 'sigmoid'))\n",
    "model.add(Dense(8, activation = 'sigmoid'))\n",
    "model.add(Dense(4, activation = 'sigmoid'))\n",
    "model.add(Dense(2, activation = 'sigmoid'))\n",
    "model.add(Dense(10, activation = 'softmax'))"
   ]
  },
  {
   "cell_type": "code",
   "execution_count": 70,
   "metadata": {
    "id": "uvrVEFeV2RSU"
   },
   "outputs": [],
   "source": [
    "optim = SGD()\n",
    "model.compile(optimizer = optim, loss = 'binary_crossentropy', metrics = ['accuracy'] )"
   ]
  },
  {
   "cell_type": "code",
   "execution_count": 71,
   "metadata": {
    "colab": {
     "base_uri": "https://localhost:8080/"
    },
    "id": "GcrXiXP_2TWT",
    "outputId": "0271bf4f-c952-4665-d3f1-a8d32aa49802"
   },
   "outputs": [
    {
     "name": "stdout",
     "output_type": "stream",
     "text": [
      "Model: \"sequential_5\"\n",
      "_________________________________________________________________\n",
      " Layer (type)                Output Shape              Param #   \n",
      "=================================================================\n",
      " dense_24 (Dense)            (None, 32)                25120     \n",
      "                                                                 \n",
      " dense_25 (Dense)            (None, 16)                528       \n",
      "                                                                 \n",
      " dense_26 (Dense)            (None, 8)                 136       \n",
      "                                                                 \n",
      " dense_27 (Dense)            (None, 4)                 36        \n",
      "                                                                 \n",
      " dense_28 (Dense)            (None, 2)                 10        \n",
      "                                                                 \n",
      " dense_29 (Dense)            (None, 10)                30        \n",
      "                                                                 \n",
      "=================================================================\n",
      "Total params: 25860 (101.02 KB)\n",
      "Trainable params: 25860 (101.02 KB)\n",
      "Non-trainable params: 0 (0.00 Byte)\n",
      "_________________________________________________________________\n"
     ]
    }
   ],
   "source": [
    "model.summary()"
   ]
  },
  {
   "cell_type": "code",
   "execution_count": 72,
   "metadata": {
    "colab": {
     "base_uri": "https://localhost:8080/"
    },
    "id": "XiwhabVT2Whx",
    "outputId": "ebd36642-82f7-4aa5-9ffe-ecfa4e2cc4b1"
   },
   "outputs": [
    {
     "name": "stdout",
     "output_type": "stream",
     "text": [
      "Epoch 1/25\n",
      "600/600 - 3s - loss: 0.6846 - accuracy: 0.1044 - val_loss: 0.6179 - val_accuracy: 0.1028 - 3s/epoch - 5ms/step\n",
      "Epoch 2/25\n",
      "600/600 - 3s - loss: 0.5697 - accuracy: 0.1044 - val_loss: 0.5280 - val_accuracy: 0.1028 - 3s/epoch - 4ms/step\n",
      "Epoch 3/25\n",
      "600/600 - 2s - loss: 0.4963 - accuracy: 0.1044 - val_loss: 0.4684 - val_accuracy: 0.1028 - 2s/epoch - 4ms/step\n",
      "Epoch 4/25\n",
      "600/600 - 2s - loss: 0.4465 - accuracy: 0.1044 - val_loss: 0.4272 - val_accuracy: 0.1028 - 2s/epoch - 3ms/step\n",
      "Epoch 5/25\n",
      "600/600 - 2s - loss: 0.4120 - accuracy: 0.1044 - val_loss: 0.3985 - val_accuracy: 0.1028 - 2s/epoch - 3ms/step\n",
      "Epoch 6/25\n",
      "600/600 - 2s - loss: 0.3877 - accuracy: 0.1044 - val_loss: 0.3782 - val_accuracy: 0.1028 - 2s/epoch - 3ms/step\n",
      "Epoch 7/25\n",
      "600/600 - 2s - loss: 0.3706 - accuracy: 0.1044 - val_loss: 0.3639 - val_accuracy: 0.1028 - 2s/epoch - 3ms/step\n",
      "Epoch 8/25\n",
      "600/600 - 2s - loss: 0.3584 - accuracy: 0.1044 - val_loss: 0.3536 - val_accuracy: 0.1028 - 2s/epoch - 4ms/step\n",
      "Epoch 9/25\n",
      "600/600 - 3s - loss: 0.3497 - accuracy: 0.1044 - val_loss: 0.3463 - val_accuracy: 0.1028 - 3s/epoch - 4ms/step\n",
      "Epoch 10/25\n",
      "600/600 - 2s - loss: 0.3434 - accuracy: 0.1044 - val_loss: 0.3409 - val_accuracy: 0.1028 - 2s/epoch - 3ms/step\n",
      "Epoch 11/25\n",
      "600/600 - 2s - loss: 0.3388 - accuracy: 0.1044 - val_loss: 0.3370 - val_accuracy: 0.1028 - 2s/epoch - 3ms/step\n",
      "Epoch 12/25\n",
      "600/600 - 2s - loss: 0.3354 - accuracy: 0.1044 - val_loss: 0.3341 - val_accuracy: 0.1028 - 2s/epoch - 3ms/step\n",
      "Epoch 13/25\n",
      "600/600 - 2s - loss: 0.3329 - accuracy: 0.1044 - val_loss: 0.3319 - val_accuracy: 0.1028 - 2s/epoch - 3ms/step\n",
      "Epoch 14/25\n",
      "600/600 - 2s - loss: 0.3310 - accuracy: 0.1044 - val_loss: 0.3303 - val_accuracy: 0.1028 - 2s/epoch - 4ms/step\n",
      "Epoch 15/25\n",
      "600/600 - 3s - loss: 0.3296 - accuracy: 0.1044 - val_loss: 0.3291 - val_accuracy: 0.1028 - 3s/epoch - 5ms/step\n",
      "Epoch 16/25\n",
      "600/600 - 2s - loss: 0.3286 - accuracy: 0.1044 - val_loss: 0.3281 - val_accuracy: 0.1028 - 2s/epoch - 4ms/step\n",
      "Epoch 17/25\n",
      "600/600 - 2s - loss: 0.3277 - accuracy: 0.1044 - val_loss: 0.3274 - val_accuracy: 0.1028 - 2s/epoch - 3ms/step\n",
      "Epoch 18/25\n",
      "600/600 - 2s - loss: 0.3271 - accuracy: 0.1044 - val_loss: 0.3268 - val_accuracy: 0.1028 - 2s/epoch - 3ms/step\n",
      "Epoch 19/25\n",
      "600/600 - 2s - loss: 0.3266 - accuracy: 0.1044 - val_loss: 0.3264 - val_accuracy: 0.1028 - 2s/epoch - 3ms/step\n",
      "Epoch 20/25\n",
      "600/600 - 2s - loss: 0.3263 - accuracy: 0.1044 - val_loss: 0.3261 - val_accuracy: 0.1028 - 2s/epoch - 3ms/step\n",
      "Epoch 21/25\n",
      "600/600 - 2s - loss: 0.3260 - accuracy: 0.1044 - val_loss: 0.3258 - val_accuracy: 0.1029 - 2s/epoch - 4ms/step\n",
      "Epoch 22/25\n",
      "600/600 - 3s - loss: 0.3257 - accuracy: 0.1182 - val_loss: 0.3256 - val_accuracy: 0.1135 - 3s/epoch - 5ms/step\n",
      "Epoch 23/25\n",
      "600/600 - 2s - loss: 0.3256 - accuracy: 0.1124 - val_loss: 0.3255 - val_accuracy: 0.1135 - 2s/epoch - 3ms/step\n",
      "Epoch 24/25\n",
      "600/600 - 2s - loss: 0.3254 - accuracy: 0.1124 - val_loss: 0.3254 - val_accuracy: 0.1135 - 2s/epoch - 3ms/step\n",
      "Epoch 25/25\n",
      "600/600 - 2s - loss: 0.3253 - accuracy: 0.1124 - val_loss: 0.3253 - val_accuracy: 0.1135 - 2s/epoch - 3ms/step\n"
     ]
    }
   ],
   "source": [
    "history = model.fit(X_train, Y_train, epochs = 25, batch_size = 100, verbose = 2, validation_data= (X_test,Y_test))"
   ]
  },
  {
   "cell_type": "code",
   "execution_count": 73,
   "metadata": {
    "colab": {
     "base_uri": "https://localhost:8080/"
    },
    "id": "40Bwq6KR21zS",
    "outputId": "951ccd2e-0777-4f3a-c8c3-a40fa493f92e"
   },
   "outputs": [
    {
     "data": {
      "text/plain": [
       "{'loss': [0.6845902800559998,\n",
       "  0.5696660280227661,\n",
       "  0.4962502717971802,\n",
       "  0.4465194344520569,\n",
       "  0.41196805238723755,\n",
       "  0.387722373008728,\n",
       "  0.3706071674823761,\n",
       "  0.35844382643699646,\n",
       "  0.3497289717197418,\n",
       "  0.3434275984764099,\n",
       "  0.33882877230644226,\n",
       "  0.3354419469833374,\n",
       "  0.33292680978775024,\n",
       "  0.33104509115219116,\n",
       "  0.3296276330947876,\n",
       "  0.32855290174484253,\n",
       "  0.32773393392562866,\n",
       "  0.32710668444633484,\n",
       "  0.3266241252422333,\n",
       "  0.32625147700309753,\n",
       "  0.32596278190612793,\n",
       "  0.3257388472557068,\n",
       "  0.3255639374256134,\n",
       "  0.3254273533821106,\n",
       "  0.3253202736377716],\n",
       " 'accuracy': [0.10441666841506958,\n",
       "  0.10441666841506958,\n",
       "  0.10441666841506958,\n",
       "  0.10441666841506958,\n",
       "  0.10441666841506958,\n",
       "  0.10441666841506958,\n",
       "  0.10441666841506958,\n",
       "  0.10441666841506958,\n",
       "  0.10441666841506958,\n",
       "  0.10441666841506958,\n",
       "  0.10441666841506958,\n",
       "  0.10441666841506958,\n",
       "  0.10441666841506958,\n",
       "  0.10441666841506958,\n",
       "  0.10441666841506958,\n",
       "  0.10441666841506958,\n",
       "  0.10441666841506958,\n",
       "  0.10441666841506958,\n",
       "  0.10441666841506958,\n",
       "  0.10441666841506958,\n",
       "  0.10441666841506958,\n",
       "  0.11819999665021896,\n",
       "  0.11236666887998581,\n",
       "  0.11236666887998581,\n",
       "  0.11236666887998581],\n",
       " 'val_loss': [0.6179108619689941,\n",
       "  0.5280256867408752,\n",
       "  0.4683569371700287,\n",
       "  0.4272335469722748,\n",
       "  0.39847129583358765,\n",
       "  0.37822234630584717,\n",
       "  0.36387911438941956,\n",
       "  0.35364317893981934,\n",
       "  0.34627288579940796,\n",
       "  0.3409161865711212,\n",
       "  0.3369871973991394,\n",
       "  0.3340801000595093,\n",
       "  0.33191150426864624,\n",
       "  0.33028241991996765,\n",
       "  0.3290505111217499,\n",
       "  0.328113317489624,\n",
       "  0.327396959066391,\n",
       "  0.326846718788147,\n",
       "  0.3264223337173462,\n",
       "  0.32609376311302185,\n",
       "  0.32583853602409363,\n",
       "  0.3256397545337677,\n",
       "  0.3254845440387726,\n",
       "  0.3253628611564636,\n",
       "  0.32526734471321106],\n",
       " 'val_accuracy': [0.10279999673366547,\n",
       "  0.10279999673366547,\n",
       "  0.10279999673366547,\n",
       "  0.10279999673366547,\n",
       "  0.10279999673366547,\n",
       "  0.10279999673366547,\n",
       "  0.10279999673366547,\n",
       "  0.10279999673366547,\n",
       "  0.10279999673366547,\n",
       "  0.10279999673366547,\n",
       "  0.10279999673366547,\n",
       "  0.10279999673366547,\n",
       "  0.10279999673366547,\n",
       "  0.10279999673366547,\n",
       "  0.10279999673366547,\n",
       "  0.10279999673366547,\n",
       "  0.10279999673366547,\n",
       "  0.10279999673366547,\n",
       "  0.10279999673366547,\n",
       "  0.10279999673366547,\n",
       "  0.10289999842643738,\n",
       "  0.11349999904632568,\n",
       "  0.11349999904632568,\n",
       "  0.11349999904632568,\n",
       "  0.11349999904632568]}"
      ]
     },
     "execution_count": 73,
     "metadata": {},
     "output_type": "execute_result"
    }
   ],
   "source": [
    "history.history"
   ]
  },
  {
   "cell_type": "code",
   "execution_count": 74,
   "metadata": {
    "colab": {
     "base_uri": "https://localhost:8080/",
     "height": 430
    },
    "id": "QCrcUg1h3qhJ",
    "outputId": "1f17e94d-d0fd-43fc-fdda-0882ea984f9f"
   },
   "outputs": [
    {
     "data": {
      "image/png": "[encoded data removed]",
      "text/plain": [
       "<Figure size 640x480 with 1 Axes>"
      ]
     },
     "metadata": {},
     "output_type": "display_data"
    }
   ],
   "source": [
    "plt.plot(history.history['accuracy'])\n",
    "plt.plot(history.history['val_accuracy'])\n",
    "plt.legend(['training','validation'])\n",
    "plt.show()"
   ]
  },
  {
   "cell_type": "code",
   "execution_count": 75,
   "metadata": {
    "colab": {
     "base_uri": "https://localhost:8080/"
    },
    "id": "50nMaDOF3yt2",
    "outputId": "7c26d990-cd58-474b-bfff-96c7df47fe1f"
   },
   "outputs": [
    {
     "name": "stdout",
     "output_type": "stream",
     "text": [
      "1875/1875 [==============================] - 6s 3ms/step - loss: 0.3253 - accuracy: 0.1124\n"
     ]
    },
    {
     "data": {
      "text/plain": [
       "[0.32527419924736023, 0.11236666887998581]"
      ]
     },
     "execution_count": 75,
     "metadata": {},
     "output_type": "execute_result"
    }
   ],
   "source": [
    "model.evaluate(X_train, Y_train)"
   ]
  },
  {
   "cell_type": "code",
   "execution_count": 76,
   "metadata": {
    "colab": {
     "base_uri": "https://localhost:8080/"
    },
    "id": "_Pg4sQuf4LYz",
    "outputId": "43811101-9d7b-489b-e6cb-d9bc1f043aa0"
   },
   "outputs": [
    {
     "name": "stdout",
     "output_type": "stream",
     "text": [
      "313/313 [==============================] - 1s 4ms/step - loss: 0.3253 - accuracy: 0.1135\n"
     ]
    },
    {
     "data": {
      "text/plain": [
       "[0.3252674639225006, 0.11349999904632568]"
      ]
     },
     "execution_count": 76,
     "metadata": {},
     "output_type": "execute_result"
    }
   ],
   "source": [
    "model.evaluate(X_test, Y_test)"
   ]
  },
  {
   "cell_type": "code",
   "execution_count": 76,
   "metadata": {
    "id": "hTMebbyW4RwZ"
   },
   "outputs": [],
   "source": []
  },
  {
   "cell_type": "code",
   "execution_count": 76,
   "metadata": {
    "id": "HB0-ci1L4aIf"
   },
   "outputs": [],
   "source": []
  },
  {
   "cell_type": "code",
   "execution_count": 76,
   "metadata": {
    "id": "f-bpL2qv4aLQ"
   },
   "outputs": [],
   "source": []
  },
  {
   "cell_type": "markdown",
   "metadata": {
    "id": "LETPRb6Z4iMD"
   },
   "source": [
    "# 1. Proper Initialization of Weights"
   ]
  },
  {
   "cell_type": "code",
   "execution_count": 85,
   "metadata": {
    "id": "dHECtiUX4gYg"
   },
   "outputs": [],
   "source": [
    "model = Sequential()"
   ]
  },
  {
   "cell_type": "code",
   "execution_count": 78,
   "metadata": {
    "id": "iMy3YFJM4gYh"
   },
   "outputs": [],
   "source": [
    "model.add(Dense(32, input_shape = (X_train.shape[1],), kernel_initializer = 'he_normal' ,activation = 'sigmoid'))\n",
    "model.add(Dense(16,  kernel_initializer = 'he_normal', activation = 'sigmoid'))\n",
    "model.add(Dense(8, kernel_initializer = 'he_normal' ,activation = 'sigmoid'))\n",
    "model.add(Dense(4, kernel_initializer = 'he_normal' ,activation = 'sigmoid'))\n",
    "model.add(Dense(2, kernel_initializer = 'he_normal' ,activation = 'sigmoid'))\n",
    "model.add(Dense(10, kernel_initializer = 'he_normal' ,activation = 'softmax'))"
   ]
  },
  {
   "cell_type": "code",
   "execution_count": 79,
   "metadata": {
    "id": "RRfd6CPC4gYh"
   },
   "outputs": [],
   "source": [
    "optim = SGD()\n",
    "model.compile(optimizer = optim, loss = 'binary_crossentropy', metrics = ['accuracy'] )"
   ]
  },
  {
   "cell_type": "code",
   "execution_count": 80,
   "metadata": {
    "colab": {
     "base_uri": "https://localhost:8080/"
    },
    "id": "MNYDhok84gYh",
    "outputId": "60ee6f99-5713-4115-fd02-c2af13440304"
   },
   "outputs": [
    {
     "name": "stdout",
     "output_type": "stream",
     "text": [
      "Model: \"sequential_6\"\n",
      "_________________________________________________________________\n",
      " Layer (type)                Output Shape              Param #   \n",
      "=================================================================\n",
      " dense_30 (Dense)            (None, 32)                25120     \n",
      "                                                                 \n",
      " dense_31 (Dense)            (None, 16)                528       \n",
      "                                                                 \n",
      " dense_32 (Dense)            (None, 8)                 136       \n",
      "                                                                 \n",
      " dense_33 (Dense)            (None, 4)                 36        \n",
      "                                                                 \n",
      " dense_34 (Dense)            (None, 2)                 10        \n",
      "                                                                 \n",
      " dense_35 (Dense)            (None, 10)                30        \n",
      "                                                                 \n",
      "=================================================================\n",
      "Total params: 25860 (101.02 KB)\n",
      "Trainable params: 25860 (101.02 KB)\n",
      "Non-trainable params: 0 (0.00 Byte)\n",
      "_________________________________________________________________\n"
     ]
    }
   ],
   "source": [
    "model.summary()"
   ]
  },
  {
   "cell_type": "code",
   "execution_count": 81,
   "metadata": {
    "colab": {
     "base_uri": "https://localhost:8080/"
    },
    "id": "3pFnU7IK4gYi",
    "outputId": "e60916a1-caa8-41a2-94d7-9ddb97bfafba"
   },
   "outputs": [
    {
     "name": "stdout",
     "output_type": "stream",
     "text": [
      "Epoch 1/25\n",
      "600/600 - 3s - loss: 0.5343 - accuracy: 0.0992 - val_loss: 0.4860 - val_accuracy: 0.1009 - 3s/epoch - 5ms/step\n",
      "Epoch 2/25\n",
      "600/600 - 2s - loss: 0.4543 - accuracy: 0.0992 - val_loss: 0.4270 - val_accuracy: 0.1009 - 2s/epoch - 3ms/step\n",
      "Epoch 3/25\n",
      "600/600 - 2s - loss: 0.4087 - accuracy: 0.0992 - val_loss: 0.3924 - val_accuracy: 0.1009 - 2s/epoch - 3ms/step\n",
      "Epoch 4/25\n",
      "600/600 - 2s - loss: 0.3812 - accuracy: 0.0992 - val_loss: 0.3710 - val_accuracy: 0.1009 - 2s/epoch - 3ms/step\n",
      "Epoch 5/25\n",
      "600/600 - 2s - loss: 0.3639 - accuracy: 0.0992 - val_loss: 0.3572 - val_accuracy: 0.1009 - 2s/epoch - 4ms/step\n",
      "Epoch 6/25\n",
      "600/600 - 3s - loss: 0.3526 - accuracy: 0.0992 - val_loss: 0.3481 - val_accuracy: 0.1009 - 3s/epoch - 4ms/step\n",
      "Epoch 7/25\n",
      "600/600 - 2s - loss: 0.3450 - accuracy: 0.0992 - val_loss: 0.3418 - val_accuracy: 0.1009 - 2s/epoch - 3ms/step\n",
      "Epoch 8/25\n",
      "600/600 - 2s - loss: 0.3396 - accuracy: 0.0992 - val_loss: 0.3374 - val_accuracy: 0.1009 - 2s/epoch - 3ms/step\n",
      "Epoch 9/25\n",
      "600/600 - 2s - loss: 0.3359 - accuracy: 0.0992 - val_loss: 0.3342 - val_accuracy: 0.1009 - 2s/epoch - 3ms/step\n",
      "Epoch 10/25\n",
      "600/600 - 2s - loss: 0.3331 - accuracy: 0.0992 - val_loss: 0.3319 - val_accuracy: 0.1009 - 2s/epoch - 3ms/step\n",
      "Epoch 11/25\n",
      "600/600 - 2s - loss: 0.3312 - accuracy: 0.0992 - val_loss: 0.3302 - val_accuracy: 0.1009 - 2s/epoch - 4ms/step\n",
      "Epoch 12/25\n",
      "600/600 - 3s - loss: 0.3297 - accuracy: 0.0992 - val_loss: 0.3289 - val_accuracy: 0.1009 - 3s/epoch - 5ms/step\n",
      "Epoch 13/25\n",
      "600/600 - 2s - loss: 0.3286 - accuracy: 0.0992 - val_loss: 0.3280 - val_accuracy: 0.1009 - 2s/epoch - 3ms/step\n",
      "Epoch 14/25\n",
      "600/600 - 2s - loss: 0.3277 - accuracy: 0.0992 - val_loss: 0.3273 - val_accuracy: 0.1010 - 2s/epoch - 3ms/step\n",
      "Epoch 15/25\n",
      "600/600 - 2s - loss: 0.3271 - accuracy: 0.1049 - val_loss: 0.3267 - val_accuracy: 0.1240 - 2s/epoch - 3ms/step\n",
      "Epoch 16/25\n",
      "600/600 - 2s - loss: 0.3266 - accuracy: 0.1245 - val_loss: 0.3263 - val_accuracy: 0.1142 - 2s/epoch - 3ms/step\n",
      "Epoch 17/25\n",
      "600/600 - 2s - loss: 0.3262 - accuracy: 0.1124 - val_loss: 0.3260 - val_accuracy: 0.1135 - 2s/epoch - 3ms/step\n",
      "Epoch 18/25\n",
      "600/600 - 3s - loss: 0.3259 - accuracy: 0.1124 - val_loss: 0.3257 - val_accuracy: 0.1135 - 3s/epoch - 4ms/step\n",
      "Epoch 19/25\n",
      "600/600 - 2s - loss: 0.3257 - accuracy: 0.1124 - val_loss: 0.3255 - val_accuracy: 0.1135 - 2s/epoch - 4ms/step\n",
      "Epoch 20/25\n",
      "600/600 - 2s - loss: 0.3255 - accuracy: 0.1124 - val_loss: 0.3254 - val_accuracy: 0.1135 - 2s/epoch - 3ms/step\n",
      "Epoch 21/25\n",
      "600/600 - 2s - loss: 0.3254 - accuracy: 0.1124 - val_loss: 0.3252 - val_accuracy: 0.1135 - 2s/epoch - 3ms/step\n",
      "Epoch 22/25\n",
      "600/600 - 2s - loss: 0.3253 - accuracy: 0.1124 - val_loss: 0.3252 - val_accuracy: 0.1135 - 2s/epoch - 3ms/step\n",
      "Epoch 23/25\n",
      "600/600 - 2s - loss: 0.3252 - accuracy: 0.1124 - val_loss: 0.3251 - val_accuracy: 0.1135 - 2s/epoch - 3ms/step\n",
      "Epoch 24/25\n",
      "600/600 - 2s - loss: 0.3251 - accuracy: 0.1124 - val_loss: 0.3250 - val_accuracy: 0.1135 - 2s/epoch - 4ms/step\n",
      "Epoch 25/25\n",
      "600/600 - 3s - loss: 0.3250 - accuracy: 0.1124 - val_loss: 0.3250 - val_accuracy: 0.1135 - 3s/epoch - 4ms/step\n"
     ]
    }
   ],
   "source": [
    "history = model.fit(X_train, Y_train, epochs = 25, batch_size = 100, verbose = 2, validation_data= (X_test,Y_test))"
   ]
  },
  {
   "cell_type": "code",
   "execution_count": 82,
   "metadata": {
    "colab": {
     "base_uri": "https://localhost:8080/"
    },
    "id": "ZuZ0oP-T4gYi",
    "outputId": "01940cf4-5a30-4705-cf69-30ac533e05e9"
   },
   "outputs": [
    {
     "data": {
      "text/plain": [
       "{'loss': [0.5343465209007263,\n",
       "  0.45429956912994385,\n",
       "  0.4086919128894806,\n",
       "  0.3812364339828491,\n",
       "  0.3639377951622009,\n",
       "  0.35260990262031555,\n",
       "  0.3449524939060211,\n",
       "  0.3396376967430115,\n",
       "  0.33586904406547546,\n",
       "  0.33314821124076843,\n",
       "  0.3311549127101898,\n",
       "  0.3296761214733124,\n",
       "  0.3285674750804901,\n",
       "  0.32772812247276306,\n",
       "  0.3270877003669739,\n",
       "  0.32659634947776794,\n",
       "  0.32621636986732483,\n",
       "  0.32592135667800903,\n",
       "  0.3256910741329193,\n",
       "  0.3255103826522827,\n",
       "  0.3253682255744934,\n",
       "  0.32525619864463806,\n",
       "  0.3251669704914093,\n",
       "  0.32509636878967285,\n",
       "  0.3250396251678467],\n",
       " 'accuracy': [0.09915000200271606,\n",
       "  0.09915000200271606,\n",
       "  0.09915000200271606,\n",
       "  0.09915000200271606,\n",
       "  0.09915000200271606,\n",
       "  0.09915000200271606,\n",
       "  0.09915000200271606,\n",
       "  0.09915000200271606,\n",
       "  0.09915000200271606,\n",
       "  0.09915000200271606,\n",
       "  0.09915000200271606,\n",
       "  0.09915000200271606,\n",
       "  0.09915000200271606,\n",
       "  0.09916666895151138,\n",
       "  0.10491666942834854,\n",
       "  0.12451666593551636,\n",
       "  0.11243333667516708,\n",
       "  0.11236666887998581,\n",
       "  0.11236666887998581,\n",
       "  0.11236666887998581,\n",
       "  0.11236666887998581,\n",
       "  0.11236666887998581,\n",
       "  0.11236666887998581,\n",
       "  0.11236666887998581,\n",
       "  0.11236666887998581],\n",
       " 'val_loss': [0.4860022962093353,\n",
       "  0.42704468965530396,\n",
       "  0.39238399267196655,\n",
       "  0.37099266052246094,\n",
       "  0.3572249710559845,\n",
       "  0.34805160760879517,\n",
       "  0.3417642116546631,\n",
       "  0.33735010027885437,\n",
       "  0.33419275283813477,\n",
       "  0.33189669251441956,\n",
       "  0.33020517230033875,\n",
       "  0.3289443254470825,\n",
       "  0.3279955983161926,\n",
       "  0.32727572321891785,\n",
       "  0.32672572135925293,\n",
       "  0.3263029456138611,\n",
       "  0.3259761333465576,\n",
       "  0.32572227716445923,\n",
       "  0.3255241811275482,\n",
       "  0.32536908984184265,\n",
       "  0.3252474367618561,\n",
       "  0.3251516819000244,\n",
       "  0.325075626373291,\n",
       "  0.32501524686813354,\n",
       "  0.3249671161174774],\n",
       " 'val_accuracy': [0.10090000182390213,\n",
       "  0.10090000182390213,\n",
       "  0.10090000182390213,\n",
       "  0.10090000182390213,\n",
       "  0.10090000182390213,\n",
       "  0.10090000182390213,\n",
       "  0.10090000182390213,\n",
       "  0.10090000182390213,\n",
       "  0.10090000182390213,\n",
       "  0.10090000182390213,\n",
       "  0.10090000182390213,\n",
       "  0.10090000182390213,\n",
       "  0.10090000182390213,\n",
       "  0.10100000351667404,\n",
       "  0.12399999797344208,\n",
       "  0.11420000344514847,\n",
       "  0.11349999904632568,\n",
       "  0.11349999904632568,\n",
       "  0.11349999904632568,\n",
       "  0.11349999904632568,\n",
       "  0.11349999904632568,\n",
       "  0.11349999904632568,\n",
       "  0.11349999904632568,\n",
       "  0.11349999904632568,\n",
       "  0.11349999904632568]}"
      ]
     },
     "execution_count": 82,
     "metadata": {},
     "output_type": "execute_result"
    }
   ],
   "source": [
    "history.history"
   ]
  },
  {
   "cell_type": "code",
   "execution_count": 67,
   "metadata": {
    "colab": {
     "base_uri": "https://localhost:8080/",
     "height": 430
    },
    "id": "76ljdUc_4gYi",
    "outputId": "b3c0ab65-7b57-4085-c631-4a3a11eaf95d"
   },
   "outputs": [
    {
     "data": {
      "image/png": "[encoded data removed]",
      "text/plain": [
       "<Figure size 640x480 with 1 Axes>"
      ]
     },
     "metadata": {},
     "output_type": "display_data"
    }
   ],
   "source": [
    "plt.plot(history.history['accuracy'])\n",
    "plt.plot(history.history['val_accuracy'])\n",
    "plt.legend(['training','validation'])\n",
    "plt.show()"
   ]
  },
  {
   "cell_type": "code",
   "execution_count": 83,
   "metadata": {
    "colab": {
     "base_uri": "https://localhost:8080/"
    },
    "id": "DqwBKXry5YMO",
    "outputId": "701ee557-4d41-4452-ed64-0e23dece8dc9"
   },
   "outputs": [
    {
     "name": "stdout",
     "output_type": "stream",
     "text": [
      "1875/1875 [==============================] - 8s 4ms/step - loss: 0.3250 - accuracy: 0.1124\n"
     ]
    },
    {
     "data": {
      "text/plain": [
       "[0.32501429319381714, 0.11236666887998581]"
      ]
     },
     "execution_count": 83,
     "metadata": {},
     "output_type": "execute_result"
    }
   ],
   "source": [
    "model.evaluate(X_train, Y_train)"
   ]
  },
  {
   "cell_type": "code",
   "execution_count": 84,
   "metadata": {
    "colab": {
     "base_uri": "https://localhost:8080/"
    },
    "id": "bfFFM19j6G8k",
    "outputId": "7bf9fc02-33c2-46dc-c5fe-2c91d5cbf027"
   },
   "outputs": [
    {
     "name": "stdout",
     "output_type": "stream",
     "text": [
      "313/313 [==============================] - 1s 4ms/step - loss: 0.3250 - accuracy: 0.1135\n"
     ]
    },
    {
     "data": {
      "text/plain": [
       "[0.32496702671051025, 0.11349999904632568]"
      ]
     },
     "execution_count": 84,
     "metadata": {},
     "output_type": "execute_result"
    }
   ],
   "source": [
    "model.evaluate(X_test, Y_test)"
   ]
  },
  {
   "cell_type": "code",
   "execution_count": 84,
   "metadata": {
    "id": "tyskknGD6I1c"
   },
   "outputs": [],
   "source": []
  },
  {
   "cell_type": "code",
   "execution_count": null,
   "metadata": {
    "id": "_0nD_fIM6VLd"
   },
   "outputs": [],
   "source": []
  },
  {
   "cell_type": "code",
   "execution_count": null,
   "metadata": {
    "id": "rD5NuBAd6VOk"
   },
   "outputs": [],
   "source": []
  },
  {
   "cell_type": "markdown",
   "metadata": {
    "id": "gK6XVUch6VoL"
   },
   "source": [
    "# 2. Non saturating Activation Function"
   ]
  },
  {
   "cell_type": "code",
   "execution_count": null,
   "metadata": {
    "id": "Ui5koCDu6gtl"
   },
   "outputs": [],
   "source": []
  },
  {
   "cell_type": "code",
   "execution_count": 105,
   "metadata": {
    "id": "I5RlNX8n6mAR"
   },
   "outputs": [],
   "source": [
    "model = Sequential()"
   ]
  },
  {
   "cell_type": "code",
   "execution_count": 106,
   "metadata": {
    "id": "J5RuPVe26mAS"
   },
   "outputs": [],
   "source": [
    "model.add(Dense(32, input_shape = (X_train.shape[1],),activation = 'elu'))\n",
    "model.add(Dense(16,  activation = 'elu'))\n",
    "model.add(Dense(8 ,activation = 'elu'))\n",
    "model.add(Dense(4 ,activation = 'elu'))\n",
    "model.add(Dense(2 ,activation = 'elu'))\n",
    "model.add(Dense(10 ,activation = 'softmax'))"
   ]
  },
  {
   "cell_type": "code",
   "execution_count": 107,
   "metadata": {
    "id": "-HAb0Ub26mAS"
   },
   "outputs": [],
   "source": [
    "optim = SGD()\n",
    "model.compile(optimizer = optim, loss = 'binary_crossentropy', metrics = ['accuracy'] )"
   ]
  },
  {
   "cell_type": "code",
   "execution_count": 108,
   "metadata": {
    "colab": {
     "base_uri": "https://localhost:8080/"
    },
    "id": "kze7Ufx96mAS",
    "outputId": "ea97acd8-28f4-4ba5-ff25-f361401e6c0a"
   },
   "outputs": [
    {
     "name": "stdout",
     "output_type": "stream",
     "text": [
      "Model: \"sequential_11\"\n",
      "_________________________________________________________________\n",
      " Layer (type)                Output Shape              Param #   \n",
      "=================================================================\n",
      " dense_48 (Dense)            (None, 32)                25120     \n",
      "                                                                 \n",
      " dense_49 (Dense)            (None, 16)                528       \n",
      "                                                                 \n",
      " dense_50 (Dense)            (None, 8)                 136       \n",
      "                                                                 \n",
      " dense_51 (Dense)            (None, 4)                 36        \n",
      "                                                                 \n",
      " dense_52 (Dense)            (None, 2)                 10        \n",
      "                                                                 \n",
      " dense_53 (Dense)            (None, 10)                30        \n",
      "                                                                 \n",
      "=================================================================\n",
      "Total params: 25860 (101.02 KB)\n",
      "Trainable params: 25860 (101.02 KB)\n",
      "Non-trainable params: 0 (0.00 Byte)\n",
      "_________________________________________________________________\n"
     ]
    }
   ],
   "source": [
    "model.summary()"
   ]
  },
  {
   "cell_type": "code",
   "execution_count": 110,
   "metadata": {
    "colab": {
     "base_uri": "https://localhost:8080/"
    },
    "id": "sZ6Amtrk6mAT",
    "outputId": "c0893d6c-dca8-4672-b517-ef8c76a15523"
   },
   "outputs": [
    {
     "name": "stdout",
     "output_type": "stream",
     "text": [
      "Epoch 1/10\n",
      "3600/3600 - 13s - loss: 0.3249 - accuracy: 0.1142 - val_loss: 0.3249 - val_accuracy: 0.1135 - 13s/epoch - 4ms/step\n",
      "Epoch 2/10\n",
      "3600/3600 - 12s - loss: 0.3249 - accuracy: 0.1142 - val_loss: 0.3249 - val_accuracy: 0.1135 - 12s/epoch - 3ms/step\n",
      "Epoch 3/10\n",
      "3600/3600 - 12s - loss: 0.3249 - accuracy: 0.1142 - val_loss: 0.3249 - val_accuracy: 0.1135 - 12s/epoch - 3ms/step\n",
      "Epoch 4/10\n",
      "3600/3600 - 12s - loss: 0.3249 - accuracy: 0.1142 - val_loss: 0.3249 - val_accuracy: 0.1135 - 12s/epoch - 3ms/step\n",
      "Epoch 5/10\n",
      "3600/3600 - 13s - loss: 0.3249 - accuracy: 0.1142 - val_loss: 0.3249 - val_accuracy: 0.1135 - 13s/epoch - 4ms/step\n",
      "Epoch 6/10\n",
      "3600/3600 - 13s - loss: 0.3249 - accuracy: 0.1142 - val_loss: 0.3249 - val_accuracy: 0.1135 - 13s/epoch - 4ms/step\n",
      "Epoch 7/10\n",
      "3600/3600 - 12s - loss: 0.3249 - accuracy: 0.1142 - val_loss: 0.3249 - val_accuracy: 0.1135 - 12s/epoch - 3ms/step\n",
      "Epoch 8/10\n",
      "3600/3600 - 13s - loss: 0.3249 - accuracy: 0.1142 - val_loss: 0.3249 - val_accuracy: 0.1135 - 13s/epoch - 4ms/step\n",
      "Epoch 9/10\n",
      "3600/3600 - 12s - loss: 0.3249 - accuracy: 0.1142 - val_loss: 0.3249 - val_accuracy: 0.1135 - 12s/epoch - 3ms/step\n",
      "Epoch 10/10\n",
      "3600/3600 - 14s - loss: 0.3249 - accuracy: 0.1142 - val_loss: 0.3249 - val_accuracy: 0.1135 - 14s/epoch - 4ms/step\n"
     ]
    }
   ],
   "source": [
    "history = model.fit(X_train, Y_train, epochs = 10, batch_size = 10, verbose = 2, validation_split = 0.4)"
   ]
  },
  {
   "cell_type": "code",
   "execution_count": 112,
   "metadata": {
    "colab": {
     "base_uri": "https://localhost:8080/"
    },
    "id": "4Vdr8Iwy6mAT",
    "outputId": "1c963686-f32e-4405-ba9d-2ce14f924983"
   },
   "outputs": [
    {
     "data": {
      "text/plain": [
       "{'loss': [0.32493650913238525,\n",
       "  0.3249386250972748,\n",
       "  0.3249399960041046,\n",
       "  0.3249286413192749,\n",
       "  0.324935644865036,\n",
       "  0.3249266445636749,\n",
       "  0.3249283730983734,\n",
       "  0.32493826746940613,\n",
       "  0.3249303698539734,\n",
       "  0.32492804527282715],\n",
       " 'accuracy': [0.11424999684095383,\n",
       "  0.11424999684095383,\n",
       "  0.11424999684095383,\n",
       "  0.11424999684095383,\n",
       "  0.11424999684095383,\n",
       "  0.11424999684095383,\n",
       "  0.11424999684095383,\n",
       "  0.11424999684095383,\n",
       "  0.11424999684095383,\n",
       "  0.11424999684095383],\n",
       " 'val_loss': [0.3249163031578064,\n",
       "  0.3249109983444214,\n",
       "  0.32490307092666626,\n",
       "  0.324945330619812,\n",
       "  0.324916273355484,\n",
       "  0.32490843534469604,\n",
       "  0.3249254524707794,\n",
       "  0.3249262273311615,\n",
       "  0.32493650913238525,\n",
       "  0.3249228894710541],\n",
       " 'val_accuracy': [0.11349999904632568,\n",
       "  0.11349999904632568,\n",
       "  0.11349999904632568,\n",
       "  0.11349999904632568,\n",
       "  0.11349999904632568,\n",
       "  0.11349999904632568,\n",
       "  0.11349999904632568,\n",
       "  0.11349999904632568,\n",
       "  0.11349999904632568,\n",
       "  0.11349999904632568]}"
      ]
     },
     "execution_count": 112,
     "metadata": {},
     "output_type": "execute_result"
    }
   ],
   "source": [
    "history.history"
   ]
  },
  {
   "cell_type": "code",
   "execution_count": 113,
   "metadata": {
    "colab": {
     "base_uri": "https://localhost:8080/",
     "height": 430
    },
    "id": "nmvdKJbV6mAT",
    "outputId": "d208c510-3b66-4fb7-9e3f-3470567bff83"
   },
   "outputs": [
    {
     "data": {
      "image/png": "[encoded data removed]",
      "text/plain": [
       "<Figure size 640x480 with 1 Axes>"
      ]
     },
     "metadata": {},
     "output_type": "display_data"
    }
   ],
   "source": [
    "plt.plot(history.history['accuracy'])\n",
    "plt.plot(history.history['val_accuracy'])\n",
    "plt.legend(['training','validation'])\n",
    "plt.show()"
   ]
  },
  {
   "cell_type": "code",
   "execution_count": 114,
   "metadata": {
    "colab": {
     "base_uri": "https://localhost:8080/"
    },
    "id": "q-CQ8csO6mAT",
    "outputId": "c109f8cf-31c8-44c5-e778-6886514c3251"
   },
   "outputs": [
    {
     "name": "stdout",
     "output_type": "stream",
     "text": [
      "1875/1875 [==============================] - 6s 3ms/step - loss: 0.3250 - accuracy: 0.1124\n"
     ]
    },
    {
     "data": {
      "text/plain": [
       "[0.3249545395374298, 0.11236666887998581]"
      ]
     },
     "execution_count": 114,
     "metadata": {},
     "output_type": "execute_result"
    }
   ],
   "source": [
    "model.evaluate(X_train, Y_train)"
   ]
  },
  {
   "cell_type": "code",
   "execution_count": 115,
   "metadata": {
    "colab": {
     "base_uri": "https://localhost:8080/"
    },
    "id": "WEMoHMMe6mAT",
    "outputId": "a11865b5-9676-433a-a1ae-ef1fa73a081b"
   },
   "outputs": [
    {
     "name": "stdout",
     "output_type": "stream",
     "text": [
      "313/313 [==============================] - 1s 3ms/step - loss: 0.3249 - accuracy: 0.1135\n"
     ]
    },
    {
     "data": {
      "text/plain": [
       "[0.3249230980873108, 0.11349999904632568]"
      ]
     },
     "execution_count": 115,
     "metadata": {},
     "output_type": "execute_result"
    }
   ],
   "source": [
    "model.evaluate(X_test, Y_test)"
   ]
  },
  {
   "cell_type": "code",
   "execution_count": 104,
   "metadata": {
    "id": "vbjDDOen7EKj"
   },
   "outputs": [],
   "source": []
  },
  {
   "cell_type": "code",
   "execution_count": null,
   "metadata": {
    "id": "w_VbVqIL_taT"
   },
   "outputs": [],
   "source": []
  },
  {
   "cell_type": "markdown",
   "metadata": {
    "id": "HqASzyq4_tpA"
   },
   "source": [
    "# 3. Best Optimizers"
   ]
  },
  {
   "cell_type": "code",
   "execution_count": null,
   "metadata": {
    "id": "cDnSo_s8_tpA"
   },
   "outputs": [],
   "source": []
  },
  {
   "cell_type": "code",
   "execution_count": 116,
   "metadata": {
    "id": "g_YQtiRj_tpB"
   },
   "outputs": [],
   "source": [
    "model = Sequential()"
   ]
  },
  {
   "cell_type": "code",
   "execution_count": 117,
   "metadata": {
    "id": "RUBD-GmV_tpB"
   },
   "outputs": [],
   "source": [
    "model.add(Dense(32, input_shape = (X_train.shape[1],),activation = 'elu'))\n",
    "model.add(Dense(16,  activation = 'elu'))\n",
    "model.add(Dense(8 ,activation = 'elu'))\n",
    "model.add(Dense(4 ,activation = 'elu'))\n",
    "model.add(Dense(2 ,activation = 'elu'))\n",
    "model.add(Dense(10 ,activation = 'softmax'))"
   ]
  },
  {
   "cell_type": "code",
   "execution_count": 118,
   "metadata": {
    "id": "IsSYQkQb_tpB"
   },
   "outputs": [],
   "source": [
    "optim = Adam()\n",
    "model.compile(optimizer = optim, loss = 'binary_crossentropy', metrics = ['accuracy'] )"
   ]
  },
  {
   "cell_type": "code",
   "execution_count": 119,
   "metadata": {
    "colab": {
     "base_uri": "https://localhost:8080/"
    },
    "id": "II_vzmpY_tpB",
    "outputId": "59ba6957-a68b-4582-e439-9f756829c86b"
   },
   "outputs": [
    {
     "name": "stdout",
     "output_type": "stream",
     "text": [
      "Model: \"sequential_12\"\n",
      "_________________________________________________________________\n",
      " Layer (type)                Output Shape              Param #   \n",
      "=================================================================\n",
      " dense_54 (Dense)            (None, 32)                25120     \n",
      "                                                                 \n",
      " dense_55 (Dense)            (None, 16)                528       \n",
      "                                                                 \n",
      " dense_56 (Dense)            (None, 8)                 136       \n",
      "                                                                 \n",
      " dense_57 (Dense)            (None, 4)                 36        \n",
      "                                                                 \n",
      " dense_58 (Dense)            (None, 2)                 10        \n",
      "                                                                 \n",
      " dense_59 (Dense)            (None, 10)                30        \n",
      "                                                                 \n",
      "=================================================================\n",
      "Total params: 25860 (101.02 KB)\n",
      "Trainable params: 25860 (101.02 KB)\n",
      "Non-trainable params: 0 (0.00 Byte)\n",
      "_________________________________________________________________\n"
     ]
    }
   ],
   "source": [
    "model.summary()"
   ]
  },
  {
   "cell_type": "code",
   "execution_count": 120,
   "metadata": {
    "colab": {
     "base_uri": "https://localhost:8080/"
    },
    "id": "kH5Z6QGK_tpB",
    "outputId": "6426e1ed-b48d-4731-cf0f-98cefd2a9e63"
   },
   "outputs": [
    {
     "name": "stdout",
     "output_type": "stream",
     "text": [
      "Epoch 1/10\n",
      "3600/3600 - 18s - loss: 0.3479 - accuracy: 0.1927 - val_loss: 0.2853 - val_accuracy: 0.2908 - 18s/epoch - 5ms/step\n",
      "Epoch 2/10\n",
      "3600/3600 - 16s - loss: 0.2632 - accuracy: 0.3718 - val_loss: 0.2531 - val_accuracy: 0.3877 - 16s/epoch - 4ms/step\n",
      "Epoch 3/10\n",
      "3600/3600 - 15s - loss: 0.2494 - accuracy: 0.3927 - val_loss: 0.2486 - val_accuracy: 0.3918 - 15s/epoch - 4ms/step\n",
      "Epoch 4/10\n",
      "3600/3600 - 22s - loss: 0.2456 - accuracy: 0.3948 - val_loss: 0.2485 - val_accuracy: 0.3955 - 22s/epoch - 6ms/step\n",
      "Epoch 5/10\n",
      "3600/3600 - 18s - loss: 0.2418 - accuracy: 0.3981 - val_loss: 0.2471 - val_accuracy: 0.3960 - 18s/epoch - 5ms/step\n",
      "Epoch 6/10\n",
      "3600/3600 - 15s - loss: 0.2407 - accuracy: 0.3983 - val_loss: 0.2485 - val_accuracy: 0.3982 - 15s/epoch - 4ms/step\n",
      "Epoch 7/10\n",
      "3600/3600 - 21s - loss: 0.2420 - accuracy: 0.4003 - val_loss: 0.2475 - val_accuracy: 0.3940 - 21s/epoch - 6ms/step\n",
      "Epoch 8/10\n",
      "3600/3600 - 21s - loss: 0.2416 - accuracy: 0.4008 - val_loss: 0.2524 - val_accuracy: 0.3973 - 21s/epoch - 6ms/step\n",
      "Epoch 9/10\n",
      "3600/3600 - 21s - loss: 0.2389 - accuracy: 0.4039 - val_loss: 0.2541 - val_accuracy: 0.3843 - 21s/epoch - 6ms/step\n",
      "Epoch 10/10\n",
      "3600/3600 - 19s - loss: 0.2378 - accuracy: 0.4032 - val_loss: 0.2491 - val_accuracy: 0.3870 - 19s/epoch - 5ms/step\n"
     ]
    }
   ],
   "source": [
    "history = model.fit(X_train, Y_train, epochs = 10, batch_size = 10, verbose = 2, validation_split = 0.4)"
   ]
  },
  {
   "cell_type": "code",
   "execution_count": 122,
   "metadata": {
    "colab": {
     "base_uri": "https://localhost:8080/"
    },
    "id": "pZBAW3NC_tpB",
    "outputId": "d437c4b3-95f4-4f8f-acd3-2476fa6a84e4"
   },
   "outputs": [
    {
     "data": {
      "text/plain": [
       "{'loss': [0.3479008078575134,\n",
       "  0.26322272419929504,\n",
       "  0.2494017481803894,\n",
       "  0.24555885791778564,\n",
       "  0.24175558984279633,\n",
       "  0.2406967431306839,\n",
       "  0.24200493097305298,\n",
       "  0.2416423112154007,\n",
       "  0.2389335334300995,\n",
       "  0.23779842257499695],\n",
       " 'accuracy': [0.19272221624851227,\n",
       "  0.37183332443237305,\n",
       "  0.3926944434642792,\n",
       "  0.394777774810791,\n",
       "  0.3981388807296753,\n",
       "  0.398250013589859,\n",
       "  0.4002777636051178,\n",
       "  0.4008055627346039,\n",
       "  0.4039166569709778,\n",
       "  0.4032222330570221],\n",
       " 'val_loss': [0.2853088974952698,\n",
       "  0.2531398832798004,\n",
       "  0.24859479069709778,\n",
       "  0.24853388965129852,\n",
       "  0.24711301922798157,\n",
       "  0.24847489595413208,\n",
       "  0.247532457113266,\n",
       "  0.2524001896381378,\n",
       "  0.2541196644306183,\n",
       "  0.24910804629325867],\n",
       " 'val_accuracy': [0.29079166054725647,\n",
       "  0.3876666724681854,\n",
       "  0.3917500078678131,\n",
       "  0.3955416679382324,\n",
       "  0.3959999978542328,\n",
       "  0.3981666564941406,\n",
       "  0.39404165744781494,\n",
       "  0.3972916603088379,\n",
       "  0.3843333423137665,\n",
       "  0.3869583308696747]}"
      ]
     },
     "execution_count": 122,
     "metadata": {},
     "output_type": "execute_result"
    }
   ],
   "source": [
    "history.history"
   ]
  },
  {
   "cell_type": "code",
   "execution_count": 123,
   "metadata": {
    "colab": {
     "base_uri": "https://localhost:8080/",
     "height": 430
    },
    "id": "ReDY7aH5_tpC",
    "outputId": "e7ad98dd-572b-4b60-c0e6-938131225029"
   },
   "outputs": [
    {
     "data": {
      "image/png": "[encoded data removed]",
      "text/plain": [
       "<Figure size 640x480 with 1 Axes>"
      ]
     },
     "metadata": {},
     "output_type": "display_data"
    }
   ],
   "source": [
    "plt.plot(history.history['accuracy'])\n",
    "plt.plot(history.history['val_accuracy'])\n",
    "plt.legend(['training','validation'])\n",
    "plt.show()"
   ]
  },
  {
   "cell_type": "code",
   "execution_count": 124,
   "metadata": {
    "colab": {
     "base_uri": "https://localhost:8080/"
    },
    "id": "bJOr48N7_tpC",
    "outputId": "ee21d319-024a-4f21-9fd8-9fe935717435"
   },
   "outputs": [
    {
     "name": "stdout",
     "output_type": "stream",
     "text": [
      "1875/1875 [==============================] - 6s 3ms/step - loss: 0.2432 - accuracy: 0.3944\n"
     ]
    },
    {
     "data": {
      "text/plain": [
       "[0.24323923885822296, 0.3944000005722046]"
      ]
     },
     "execution_count": 124,
     "metadata": {},
     "output_type": "execute_result"
    }
   ],
   "source": [
    "model.evaluate(X_train, Y_train)"
   ]
  },
  {
   "cell_type": "code",
   "execution_count": 125,
   "metadata": {
    "colab": {
     "base_uri": "https://localhost:8080/"
    },
    "id": "pUFAvvB__tpC",
    "outputId": "0fbbef7b-d171-48f5-f654-6078e8e2bf63"
   },
   "outputs": [
    {
     "name": "stdout",
     "output_type": "stream",
     "text": [
      "313/313 [==============================] - 1s 3ms/step - loss: 0.2445 - accuracy: 0.3904\n"
     ]
    },
    {
     "data": {
      "text/plain": [
       "[0.24451065063476562, 0.3903999924659729]"
      ]
     },
     "execution_count": 125,
     "metadata": {},
     "output_type": "execute_result"
    }
   ],
   "source": [
    "model.evaluate(X_test, Y_test)"
   ]
  },
  {
   "cell_type": "code",
   "execution_count": null,
   "metadata": {
    "id": "h6jqQECD_tpC"
   },
   "outputs": [],
   "source": []
  },
  {
   "cell_type": "code",
   "execution_count": null,
   "metadata": {
    "id": "L4ExDx6C_tX1"
   },
   "outputs": [],
   "source": []
  },
  {
   "cell_type": "code",
   "execution_count": null,
   "metadata": {
    "id": "OwEx1i_pAOvp"
   },
   "outputs": [],
   "source": []
  },
  {
   "cell_type": "markdown",
   "metadata": {
    "id": "GqITcBEsAO_9"
   },
   "source": [
    "# 4. Batch Normalization"
   ]
  },
  {
   "cell_type": "code",
   "execution_count": 134,
   "metadata": {
    "id": "X3XBBWM_AO_9"
   },
   "outputs": [],
   "source": []
  },
  {
   "cell_type": "code",
   "execution_count": 126,
   "metadata": {
    "id": "WWo0CbFeAO_9"
   },
   "outputs": [],
   "source": [
    "model = Sequential()"
   ]
  },
  {
   "cell_type": "code",
   "execution_count": 127,
   "metadata": {
    "id": "uhWwXMA-AO_9"
   },
   "outputs": [],
   "source": [
    "model.add(Dense(32, input_shape = (X_train.shape[1],),activation = 'elu'))\n",
    "model.add(BatchNormalization())\n",
    "model.add(Dense(16,  activation = 'elu'))\n",
    "model.add(BatchNormalization())\n",
    "model.add(Dense(8 ,activation = 'elu'))\n",
    "model.add(BatchNormalization())\n",
    "model.add(Dense(4 ,activation = 'elu'))\n",
    "model.add(BatchNormalization())\n",
    "model.add(Dense(2 ,activation = 'elu'))\n",
    "model.add(BatchNormalization())\n",
    "model.add(Dense(10 ,activation = 'softmax'))"
   ]
  },
  {
   "cell_type": "code",
   "execution_count": 128,
   "metadata": {
    "id": "Mba0RtabAO_9"
   },
   "outputs": [],
   "source": [
    "optim = Adam()\n",
    "model.compile(optimizer = optim, loss = 'binary_crossentropy', metrics = ['accuracy'] )"
   ]
  },
  {
   "cell_type": "code",
   "execution_count": 129,
   "metadata": {
    "colab": {
     "base_uri": "https://localhost:8080/"
    },
    "id": "M18OLohwAO_9",
    "outputId": "0defe073-eba0-4967-f9e6-88b8a780c5b8"
   },
   "outputs": [
    {
     "name": "stdout",
     "output_type": "stream",
     "text": [
      "Model: \"sequential_13\"\n",
      "_________________________________________________________________\n",
      " Layer (type)                Output Shape              Param #   \n",
      "=================================================================\n",
      " dense_60 (Dense)            (None, 32)                25120     \n",
      "                                                                 \n",
      " batch_normalization (Batch  (None, 32)                128       \n",
      " Normalization)                                                  \n",
      "                                                                 \n",
      " dense_61 (Dense)            (None, 16)                528       \n",
      "                                                                 \n",
      " batch_normalization_1 (Bat  (None, 16)                64        \n",
      " chNormalization)                                                \n",
      "                                                                 \n",
      " dense_62 (Dense)            (None, 8)                 136       \n",
      "                                                                 \n",
      " batch_normalization_2 (Bat  (None, 8)                 32        \n",
      " chNormalization)                                                \n",
      "                                                                 \n",
      " dense_63 (Dense)            (None, 4)                 36        \n",
      "                                                                 \n",
      " batch_normalization_3 (Bat  (None, 4)                 16        \n",
      " chNormalization)                                                \n",
      "                                                                 \n",
      " dense_64 (Dense)            (None, 2)                 10        \n",
      "                                                                 \n",
      " batch_normalization_4 (Bat  (None, 2)                 8         \n",
      " chNormalization)                                                \n",
      "                                                                 \n",
      " dense_65 (Dense)            (None, 10)                30        \n",
      "                                                                 \n",
      "=================================================================\n",
      "Total params: 26108 (101.98 KB)\n",
      "Trainable params: 25984 (101.50 KB)\n",
      "Non-trainable params: 124 (496.00 Byte)\n",
      "_________________________________________________________________\n"
     ]
    }
   ],
   "source": [
    "model.summary()"
   ]
  },
  {
   "cell_type": "code",
   "execution_count": 130,
   "metadata": {
    "colab": {
     "base_uri": "https://localhost:8080/"
    },
    "id": "88rYjAoTAO_-",
    "outputId": "5ed79c07-5e63-4c3e-8fbe-2538e6f48fe6"
   },
   "outputs": [
    {
     "name": "stdout",
     "output_type": "stream",
     "text": [
      "Epoch 1/10\n",
      "3600/3600 - 33s - loss: 0.3313 - accuracy: 0.2368 - val_loss: 0.2521 - val_accuracy: 0.3314 - 33s/epoch - 9ms/step\n",
      "Epoch 2/10\n",
      "3600/3600 - 28s - loss: 0.2609 - accuracy: 0.3258 - val_loss: 0.2335 - val_accuracy: 0.4224 - 28s/epoch - 8ms/step\n",
      "Epoch 3/10\n",
      "3600/3600 - 27s - loss: 0.2534 - accuracy: 0.3602 - val_loss: 0.2271 - val_accuracy: 0.4947 - 27s/epoch - 8ms/step\n",
      "Epoch 4/10\n",
      "3600/3600 - 28s - loss: 0.2463 - accuracy: 0.3923 - val_loss: 0.2188 - val_accuracy: 0.5666 - 28s/epoch - 8ms/step\n",
      "Epoch 5/10\n",
      "3600/3600 - 31s - loss: 0.2426 - accuracy: 0.4249 - val_loss: 0.2185 - val_accuracy: 0.6065 - 31s/epoch - 9ms/step\n",
      "Epoch 6/10\n",
      "3600/3600 - 29s - loss: 0.2370 - accuracy: 0.4796 - val_loss: 0.2067 - val_accuracy: 0.6812 - 29s/epoch - 8ms/step\n",
      "Epoch 7/10\n",
      "3600/3600 - 28s - loss: 0.2286 - accuracy: 0.5374 - val_loss: 0.1964 - val_accuracy: 0.6947 - 28s/epoch - 8ms/step\n",
      "Epoch 8/10\n",
      "3600/3600 - 24s - loss: 0.2214 - accuracy: 0.5678 - val_loss: 0.1879 - val_accuracy: 0.7546 - 24s/epoch - 7ms/step\n",
      "Epoch 9/10\n",
      "3600/3600 - 28s - loss: 0.2154 - accuracy: 0.5929 - val_loss: 0.1815 - val_accuracy: 0.7537 - 28s/epoch - 8ms/step\n",
      "Epoch 10/10\n",
      "3600/3600 - 25s - loss: 0.2112 - accuracy: 0.6084 - val_loss: 0.1806 - val_accuracy: 0.7486 - 25s/epoch - 7ms/step\n"
     ]
    }
   ],
   "source": [
    "history = model.fit(X_train, Y_train, epochs = 10, batch_size = 10, verbose = 2, validation_split = 0.4)"
   ]
  },
  {
   "cell_type": "code",
   "execution_count": 136,
   "metadata": {
    "colab": {
     "base_uri": "https://localhost:8080/"
    },
    "id": "8KRKK9wFAO_-",
    "outputId": "894d6319-4260-4922-a9e9-69cb6052d94d"
   },
   "outputs": [
    {
     "data": {
      "text/plain": [
       "{'loss': [0.33125004172325134,\n",
       "  0.2608734369277954,\n",
       "  0.25339508056640625,\n",
       "  0.24629801511764526,\n",
       "  0.2426210194826126,\n",
       "  0.23701722919940948,\n",
       "  0.22859953343868256,\n",
       "  0.2213612198829651,\n",
       "  0.2153516411781311,\n",
       "  0.21115684509277344],\n",
       " 'accuracy': [0.23677778244018555,\n",
       "  0.3257777690887451,\n",
       "  0.36024999618530273,\n",
       "  0.39233332872390747,\n",
       "  0.42491665482521057,\n",
       "  0.4796110987663269,\n",
       "  0.5374166369438171,\n",
       "  0.5678333044052124,\n",
       "  0.5928611159324646,\n",
       "  0.6084444522857666],\n",
       " 'val_loss': [0.2521446645259857,\n",
       "  0.23354607820510864,\n",
       "  0.22705240547657013,\n",
       "  0.21875664591789246,\n",
       "  0.21851325035095215,\n",
       "  0.20673510432243347,\n",
       "  0.1963827759027481,\n",
       "  0.18792550265789032,\n",
       "  0.18151716887950897,\n",
       "  0.18056628108024597],\n",
       " 'val_accuracy': [0.33141666650772095,\n",
       "  0.42241665720939636,\n",
       "  0.4947083294391632,\n",
       "  0.5666249990463257,\n",
       "  0.6065416932106018,\n",
       "  0.6812083125114441,\n",
       "  0.6947083473205566,\n",
       "  0.7545833587646484,\n",
       "  0.7536666393280029,\n",
       "  0.7485833168029785]}"
      ]
     },
     "execution_count": 136,
     "metadata": {},
     "output_type": "execute_result"
    }
   ],
   "source": [
    "history.history"
   ]
  },
  {
   "cell_type": "code",
   "execution_count": 137,
   "metadata": {
    "colab": {
     "base_uri": "https://localhost:8080/",
     "height": 430
    },
    "id": "uRvIiVRvAO_-",
    "outputId": "566fa68a-d230-4ea9-b32f-9f5e4256811f"
   },
   "outputs": [
    {
     "data": {
      "image/png": "[encoded data removed]",
      "text/plain": [
       "<Figure size 640x480 with 1 Axes>"
      ]
     },
     "metadata": {},
     "output_type": "display_data"
    }
   ],
   "source": [
    "plt.plot(history.history['accuracy'])\n",
    "plt.plot(history.history['val_accuracy'])\n",
    "plt.legend(['training','validation'])\n",
    "plt.show()"
   ]
  },
  {
   "cell_type": "code",
   "execution_count": 133,
   "metadata": {
    "colab": {
     "base_uri": "https://localhost:8080/"
    },
    "id": "tfLtGQTqAO_-",
    "outputId": "e08b56ff-a530-4ebc-cc55-55162d3758b4"
   },
   "outputs": [
    {
     "name": "stdout",
     "output_type": "stream",
     "text": [
      "1875/1875 [==============================] - 7s 3ms/step - loss: 0.1793 - accuracy: 0.7522\n"
     ]
    },
    {
     "data": {
      "text/plain": [
       "[0.1792927235364914, 0.7521833181381226]"
      ]
     },
     "execution_count": 133,
     "metadata": {},
     "output_type": "execute_result"
    }
   ],
   "source": [
    "model.evaluate(X_train, Y_train)"
   ]
  },
  {
   "cell_type": "code",
   "execution_count": 134,
   "metadata": {
    "colab": {
     "base_uri": "https://localhost:8080/"
    },
    "id": "voQMD_x9AO_-",
    "outputId": "d99e44e7-f9a7-49f5-98ce-9c2f497cd3df"
   },
   "outputs": [
    {
     "name": "stdout",
     "output_type": "stream",
     "text": [
      "313/313 [==============================] - 1s 3ms/step - loss: 0.1793 - accuracy: 0.7479\n"
     ]
    },
    {
     "data": {
      "text/plain": [
       "[0.17926299571990967, 0.7479000091552734]"
      ]
     },
     "execution_count": 134,
     "metadata": {},
     "output_type": "execute_result"
    }
   ],
   "source": [
    "model.evaluate(X_test, Y_test)"
   ]
  },
  {
   "cell_type": "code",
   "execution_count": null,
   "metadata": {
    "id": "AGPiqlSOAO_-"
   },
   "outputs": [],
   "source": []
  },
  {
   "cell_type": "code",
   "execution_count": null,
   "metadata": {
    "id": "MSD554hyAOsw"
   },
   "outputs": [],
   "source": []
  },
  {
   "cell_type": "code",
   "execution_count": null,
   "metadata": {
    "id": "tt64EaYDAOp6"
   },
   "outputs": [],
   "source": []
  },
  {
   "cell_type": "code",
   "execution_count": null,
   "metadata": {
    "id": "rSEpdLh8BMui"
   },
   "outputs": [],
   "source": []
  },
  {
   "cell_type": "markdown",
   "metadata": {
    "id": "4XNLA3m-BOEv"
   },
   "source": [
    "# 5. Dropout"
   ]
  },
  {
   "cell_type": "code",
   "execution_count": 138,
   "metadata": {
    "id": "CyAi2eb8BMup"
   },
   "outputs": [],
   "source": [
    "model = Sequential()"
   ]
  },
  {
   "cell_type": "code",
   "execution_count": 139,
   "metadata": {
    "id": "CFxjxXlFBMup"
   },
   "outputs": [],
   "source": [
    "model.add(Dense(32, input_shape = (X_train.shape[1],),activation = 'elu'))\n",
    "model.add(Dropout(0.2))\n",
    "model.add(Dense(16,  activation = 'elu'))\n",
    "model.add(Dropout(0.2))\n",
    "model.add(Dense(8 ,activation = 'elu'))\n",
    "model.add(Dropout(0.2))\n",
    "model.add(Dense(4 ,activation = 'elu'))\n",
    "model.add(Dropout(0.2))\n",
    "model.add(Dense(2 ,activation = 'elu'))\n",
    "model.add(Dropout(0.2))\n",
    "model.add(Dense(10 ,activation = 'softmax'))"
   ]
  },
  {
   "cell_type": "code",
   "execution_count": 140,
   "metadata": {
    "id": "J0ptR-LnBMup"
   },
   "outputs": [],
   "source": [
    "optim = Adam()\n",
    "model.compile(optimizer = optim, loss = 'binary_crossentropy', metrics = ['accuracy'] )"
   ]
  },
  {
   "cell_type": "code",
   "execution_count": 141,
   "metadata": {
    "colab": {
     "base_uri": "https://localhost:8080/"
    },
    "id": "WqyfyHEgBMup",
    "outputId": "11d1c32b-e215-45fb-b541-8ec239affc74"
   },
   "outputs": [
    {
     "name": "stdout",
     "output_type": "stream",
     "text": [
      "Model: \"sequential_14\"\n",
      "_________________________________________________________________\n",
      " Layer (type)                Output Shape              Param #   \n",
      "=================================================================\n",
      " dense_66 (Dense)            (None, 32)                25120     \n",
      "                                                                 \n",
      " dropout (Dropout)           (None, 32)                0         \n",
      "                                                                 \n",
      " dense_67 (Dense)            (None, 16)                528       \n",
      "                                                                 \n",
      " dropout_1 (Dropout)         (None, 16)                0         \n",
      "                                                                 \n",
      " dense_68 (Dense)            (None, 8)                 136       \n",
      "                                                                 \n",
      " dropout_2 (Dropout)         (None, 8)                 0         \n",
      "                                                                 \n",
      " dense_69 (Dense)            (None, 4)                 36        \n",
      "                                                                 \n",
      " dropout_3 (Dropout)         (None, 4)                 0         \n",
      "                                                                 \n",
      " dense_70 (Dense)            (None, 2)                 10        \n",
      "                                                                 \n",
      " dropout_4 (Dropout)         (None, 2)                 0         \n",
      "                                                                 \n",
      " dense_71 (Dense)            (None, 10)                30        \n",
      "                                                                 \n",
      "=================================================================\n",
      "Total params: 25860 (101.02 KB)\n",
      "Trainable params: 25860 (101.02 KB)\n",
      "Non-trainable params: 0 (0.00 Byte)\n",
      "_________________________________________________________________\n"
     ]
    }
   ],
   "source": [
    "model.summary()"
   ]
  },
  {
   "cell_type": "code",
   "execution_count": 142,
   "metadata": {
    "colab": {
     "base_uri": "https://localhost:8080/"
    },
    "id": "R_RJ5q6YBMup",
    "outputId": "d42fa677-f86a-414d-9596-ca88f832d349"
   },
   "outputs": [
    {
     "name": "stdout",
     "output_type": "stream",
     "text": [
      "Epoch 1/10\n",
      "3600/3600 - 20s - loss: 0.3752 - accuracy: 0.1359 - val_loss: 0.3031 - val_accuracy: 0.1982 - 20s/epoch - 5ms/step\n",
      "Epoch 2/10\n",
      "3600/3600 - 17s - loss: 0.3113 - accuracy: 0.1890 - val_loss: 0.2892 - val_accuracy: 0.2384 - 17s/epoch - 5ms/step\n",
      "Epoch 3/10\n",
      "3600/3600 - 18s - loss: 0.2975 - accuracy: 0.2329 - val_loss: 0.2716 - val_accuracy: 0.3024 - 18s/epoch - 5ms/step\n",
      "Epoch 4/10\n",
      "3600/3600 - 16s - loss: 0.2882 - accuracy: 0.2567 - val_loss: 0.2668 - val_accuracy: 0.3282 - 16s/epoch - 5ms/step\n",
      "Epoch 5/10\n",
      "3600/3600 - 17s - loss: 0.2845 - accuracy: 0.2582 - val_loss: 0.2663 - val_accuracy: 0.3011 - 17s/epoch - 5ms/step\n",
      "Epoch 6/10\n",
      "3600/3600 - 17s - loss: 0.2819 - accuracy: 0.2586 - val_loss: 0.2637 - val_accuracy: 0.2947 - 17s/epoch - 5ms/step\n",
      "Epoch 7/10\n",
      "3600/3600 - 17s - loss: 0.2812 - accuracy: 0.2624 - val_loss: 0.2642 - val_accuracy: 0.3002 - 17s/epoch - 5ms/step\n",
      "Epoch 8/10\n",
      "3600/3600 - 16s - loss: 0.2719 - accuracy: 0.2985 - val_loss: 0.2406 - val_accuracy: 0.3892 - 16s/epoch - 5ms/step\n",
      "Epoch 9/10\n",
      "3600/3600 - 18s - loss: 0.2628 - accuracy: 0.3171 - val_loss: 0.2357 - val_accuracy: 0.4123 - 18s/epoch - 5ms/step\n",
      "Epoch 10/10\n",
      "3600/3600 - 17s - loss: 0.2595 - accuracy: 0.3248 - val_loss: 0.2368 - val_accuracy: 0.3885 - 17s/epoch - 5ms/step\n"
     ]
    }
   ],
   "source": [
    "history = model.fit(X_train, Y_train, epochs = 10, batch_size = 10, verbose = 2, validation_split = 0.4)"
   ]
  },
  {
   "cell_type": "code",
   "execution_count": 147,
   "metadata": {
    "colab": {
     "base_uri": "https://localhost:8080/"
    },
    "id": "5GO98s98BMup",
    "outputId": "df518cd0-ad42-4437-9751-35e9a5d026e2"
   },
   "outputs": [
    {
     "data": {
      "text/plain": [
       "{'loss': [0.37524276971817017,\n",
       "  0.311252236366272,\n",
       "  0.2975336015224457,\n",
       "  0.2882244884967804,\n",
       "  0.2845267653465271,\n",
       "  0.2819388210773468,\n",
       "  0.2812027037143707,\n",
       "  0.2719232738018036,\n",
       "  0.2627922594547272,\n",
       "  0.25951966643333435],\n",
       " 'accuracy': [0.1358611136674881,\n",
       "  0.18897221982479095,\n",
       "  0.23294444382190704,\n",
       "  0.2566944360733032,\n",
       "  0.25816667079925537,\n",
       "  0.2586388885974884,\n",
       "  0.2624444365501404,\n",
       "  0.29847222566604614,\n",
       "  0.31708332896232605,\n",
       "  0.32483333349227905],\n",
       " 'val_loss': [0.30313432216644287,\n",
       "  0.28918278217315674,\n",
       "  0.27164915204048157,\n",
       "  0.26680320501327515,\n",
       "  0.2662701904773712,\n",
       "  0.2636599838733673,\n",
       "  0.26420819759368896,\n",
       "  0.24060754477977753,\n",
       "  0.23565416038036346,\n",
       "  0.236811101436615],\n",
       " 'val_accuracy': [0.19824999570846558,\n",
       "  0.2383749932050705,\n",
       "  0.3024166524410248,\n",
       "  0.328208327293396,\n",
       "  0.3010833263397217,\n",
       "  0.29470834136009216,\n",
       "  0.30024999380111694,\n",
       "  0.3892083466053009,\n",
       "  0.41229167580604553,\n",
       "  0.38854166865348816]}"
      ]
     },
     "execution_count": 147,
     "metadata": {},
     "output_type": "execute_result"
    }
   ],
   "source": [
    "history.history"
   ]
  },
  {
   "cell_type": "code",
   "execution_count": 148,
   "metadata": {
    "colab": {
     "base_uri": "https://localhost:8080/",
     "height": 430
    },
    "id": "LzfXjfk1BMup",
    "outputId": "7e5fc55b-f92c-417b-e088-4fcd74c9b85a"
   },
   "outputs": [
    {
     "data": {
      "image/png": "[encoded data removed]",
      "text/plain": [
       "<Figure size 640x480 with 1 Axes>"
      ]
     },
     "metadata": {},
     "output_type": "display_data"
    }
   ],
   "source": [
    "plt.plot(history.history['accuracy'])\n",
    "plt.plot(history.history['val_accuracy'])\n",
    "plt.legend(['training','validation'])\n",
    "plt.show()"
   ]
  },
  {
   "cell_type": "code",
   "execution_count": 149,
   "metadata": {
    "colab": {
     "base_uri": "https://localhost:8080/"
    },
    "id": "PzPS9NE4BMup",
    "outputId": "c13244ea-8a59-4bb1-b42d-9d4ab327233b"
   },
   "outputs": [
    {
     "name": "stdout",
     "output_type": "stream",
     "text": [
      "1875/1875 [==============================] - 5s 3ms/step - loss: 0.2356 - accuracy: 0.3901\n"
     ]
    },
    {
     "data": {
      "text/plain": [
       "[0.23555207252502441, 0.3901166617870331]"
      ]
     },
     "execution_count": 149,
     "metadata": {},
     "output_type": "execute_result"
    }
   ],
   "source": [
    "model.evaluate(X_train, Y_train)"
   ]
  },
  {
   "cell_type": "code",
   "execution_count": 150,
   "metadata": {
    "colab": {
     "base_uri": "https://localhost:8080/"
    },
    "id": "VgsTT00_BMup",
    "outputId": "3afce2aa-b650-423b-caf8-efbce4f4c399"
   },
   "outputs": [
    {
     "name": "stdout",
     "output_type": "stream",
     "text": [
      "313/313 [==============================] - 1s 3ms/step - loss: 0.2359 - accuracy: 0.3916\n"
     ]
    },
    {
     "data": {
      "text/plain": [
       "[0.2358960211277008, 0.39160001277923584]"
      ]
     },
     "execution_count": 150,
     "metadata": {},
     "output_type": "execute_result"
    }
   ],
   "source": [
    "model.evaluate(X_test, Y_test)"
   ]
  },
  {
   "cell_type": "code",
   "execution_count": 150,
   "metadata": {
    "id": "NVQ6bIH7BMup"
   },
   "outputs": [],
   "source": []
  },
  {
   "cell_type": "code",
   "execution_count": null,
   "metadata": {
    "id": "FVVRb5v1BMup"
   },
   "outputs": [],
   "source": []
  },
  {
   "cell_type": "code",
   "execution_count": null,
   "metadata": {
    "id": "G3PrK3vuDTzx"
   },
   "outputs": [],
   "source": []
  },
  {
   "cell_type": "code",
   "execution_count": null,
   "metadata": {
    "id": "qEff4TPbDT6S"
   },
   "outputs": [],
   "source": []
  },
  {
   "cell_type": "markdown",
   "metadata": {
    "id": "q2VdYzdEDUFx"
   },
   "source": [
    "# 5. Consolidated Architechture"
   ]
  },
  {
   "cell_type": "code",
   "execution_count": 156,
   "metadata": {
    "id": "wKqGFrAfDUFx"
   },
   "outputs": [],
   "source": [
    "model = Sequential()"
   ]
  },
  {
   "cell_type": "code",
   "execution_count": 157,
   "metadata": {
    "id": "s_NnmNUdDUFy"
   },
   "outputs": [],
   "source": [
    "model.add(Dense(32, kernel_initializer = 'he_normal', input_shape = (X_train.shape[1],),activation = 'elu'))\n",
    "model.add(BatchNormalization())\n",
    "model.add(Dropout(0.2))\n",
    "model.add(Dense(16, kernel_initializer = 'he_normal', activation = 'elu'))\n",
    "model.add(BatchNormalization())\n",
    "model.add(Dropout(0.2))\n",
    "model.add(Dense(8 ,kernel_initializer = 'he_normal',activation = 'elu'))\n",
    "model.add(BatchNormalization())\n",
    "model.add(Dropout(0.2))\n",
    "model.add(Dense(4 ,kernel_initializer = 'he_normal', activation = 'elu'))\n",
    "model.add(BatchNormalization())\n",
    "model.add(Dropout(0.2))\n",
    "model.add(Dense(2 ,kernel_initializer = 'he_normal', activation = 'elu'))\n",
    "model.add(BatchNormalization())\n",
    "model.add(Dropout(0.2))\n",
    "model.add(Dense(10 ,kernel_initializer = 'he_normal', activation = 'softmax'))"
   ]
  },
  {
   "cell_type": "code",
   "execution_count": 158,
   "metadata": {
    "id": "kWKLWx8BDUFy"
   },
   "outputs": [],
   "source": [
    "optim = Adam()\n",
    "model.compile(optimizer = optim, loss = 'categorical_crossentropy', metrics = ['accuracy'] )"
   ]
  },
  {
   "cell_type": "code",
   "execution_count": 159,
   "metadata": {
    "colab": {
     "base_uri": "https://localhost:8080/"
    },
    "id": "Yytw_ZrnDUFy",
    "outputId": "1c3fb098-0bb2-4057-d740-f16d4c2bc576"
   },
   "outputs": [
    {
     "name": "stdout",
     "output_type": "stream",
     "text": [
      "Model: \"sequential_16\"\n",
      "_________________________________________________________________\n",
      " Layer (type)                Output Shape              Param #   \n",
      "=================================================================\n",
      " dense_78 (Dense)            (None, 32)                25120     \n",
      "                                                                 \n",
      " batch_normalization_10 (Ba  (None, 32)                128       \n",
      " tchNormalization)                                               \n",
      "                                                                 \n",
      " dropout_10 (Dropout)        (None, 32)                0         \n",
      "                                                                 \n",
      " dense_79 (Dense)            (None, 16)                528       \n",
      "                                                                 \n",
      " batch_normalization_11 (Ba  (None, 16)                64        \n",
      " tchNormalization)                                               \n",
      "                                                                 \n",
      " dropout_11 (Dropout)        (None, 16)                0         \n",
      "                                                                 \n",
      " dense_80 (Dense)            (None, 8)                 136       \n",
      "                                                                 \n",
      " batch_normalization_12 (Ba  (None, 8)                 32        \n",
      " tchNormalization)                                               \n",
      "                                                                 \n",
      " dropout_12 (Dropout)        (None, 8)                 0         \n",
      "                                                                 \n",
      " dense_81 (Dense)            (None, 4)                 36        \n",
      "                                                                 \n",
      " batch_normalization_13 (Ba  (None, 4)                 16        \n",
      " tchNormalization)                                               \n",
      "                                                                 \n",
      " dropout_13 (Dropout)        (None, 4)                 0         \n",
      "                                                                 \n",
      " dense_82 (Dense)            (None, 2)                 10        \n",
      "                                                                 \n",
      " batch_normalization_14 (Ba  (None, 2)                 8         \n",
      " tchNormalization)                                               \n",
      "                                                                 \n",
      " dropout_14 (Dropout)        (None, 2)                 0         \n",
      "                                                                 \n",
      " dense_83 (Dense)            (None, 10)                30        \n",
      "                                                                 \n",
      "=================================================================\n",
      "Total params: 26108 (101.98 KB)\n",
      "Trainable params: 25984 (101.50 KB)\n",
      "Non-trainable params: 124 (496.00 Byte)\n",
      "_________________________________________________________________\n"
     ]
    }
   ],
   "source": [
    "model.summary()"
   ]
  },
  {
   "cell_type": "code",
   "execution_count": 179,
   "metadata": {
    "colab": {
     "base_uri": "https://localhost:8080/"
    },
    "id": "pDtYEsRwDUFy",
    "outputId": "0bf41a47-9825-4b43-cde2-b59f95864814"
   },
   "outputs": [
    {
     "name": "stdout",
     "output_type": "stream",
     "text": [
      "Epoch 1/10\n",
      "3600/3600 - 25s - loss: 1.5402 - accuracy: 0.4072 - val_loss: 1.0047 - val_accuracy: 0.8040 - 25s/epoch - 7ms/step\n",
      "Epoch 2/10\n",
      "3600/3600 - 25s - loss: 1.5401 - accuracy: 0.4086 - val_loss: 1.0217 - val_accuracy: 0.8085 - 25s/epoch - 7ms/step\n",
      "Epoch 3/10\n",
      "3600/3600 - 25s - loss: 1.5346 - accuracy: 0.4126 - val_loss: 1.0431 - val_accuracy: 0.7790 - 25s/epoch - 7ms/step\n",
      "Epoch 4/10\n",
      "3600/3600 - 26s - loss: 1.5203 - accuracy: 0.4151 - val_loss: 0.9969 - val_accuracy: 0.7896 - 26s/epoch - 7ms/step\n",
      "Epoch 5/10\n",
      "3600/3600 - 25s - loss: 1.5126 - accuracy: 0.4207 - val_loss: 1.0023 - val_accuracy: 0.8022 - 25s/epoch - 7ms/step\n",
      "Epoch 6/10\n",
      "3600/3600 - 42s - loss: 1.5162 - accuracy: 0.4158 - val_loss: 1.0509 - val_accuracy: 0.7860 - 42s/epoch - 12ms/step\n",
      "Epoch 7/10\n",
      "3600/3600 - 28s - loss: 1.4954 - accuracy: 0.4198 - val_loss: 1.0524 - val_accuracy: 0.7970 - 28s/epoch - 8ms/step\n",
      "Epoch 8/10\n",
      "3600/3600 - 27s - loss: 1.5002 - accuracy: 0.4220 - val_loss: 1.0252 - val_accuracy: 0.8020 - 27s/epoch - 7ms/step\n",
      "Epoch 9/10\n",
      "3600/3600 - 30s - loss: 1.4910 - accuracy: 0.4253 - val_loss: 1.0713 - val_accuracy: 0.7475 - 30s/epoch - 8ms/step\n",
      "Epoch 10/10\n",
      "3600/3600 - 26s - loss: 1.4886 - accuracy: 0.4242 - val_loss: 1.0718 - val_accuracy: 0.7645 - 26s/epoch - 7ms/step\n"
     ]
    }
   ],
   "source": [
    "history = model.fit(X_train, Y_train, epochs = 10, batch_size = 10, verbose = 2, validation_split = 0.4)"
   ]
  },
  {
   "cell_type": "code",
   "execution_count": 180,
   "metadata": {
    "colab": {
     "base_uri": "https://localhost:8080/"
    },
    "id": "3sEAvGbADUFy",
    "outputId": "41fc83b5-d002-4c50-8f08-b441850c9a29"
   },
   "outputs": [
    {
     "data": {
      "text/plain": [
       "{'loss': [1.540231704711914,\n",
       "  1.540112018585205,\n",
       "  1.534611701965332,\n",
       "  1.5202970504760742,\n",
       "  1.5125908851623535,\n",
       "  1.5162456035614014,\n",
       "  1.4953837394714355,\n",
       "  1.5001895427703857,\n",
       "  1.4909981489181519,\n",
       "  1.4886105060577393],\n",
       " 'accuracy': [0.40716665983200073,\n",
       "  0.40861111879348755,\n",
       "  0.4125555455684662,\n",
       "  0.4150555431842804,\n",
       "  0.4206666648387909,\n",
       "  0.4157777726650238,\n",
       "  0.41983333230018616,\n",
       "  0.421999990940094,\n",
       "  0.4252777695655823,\n",
       "  0.42419445514678955],\n",
       " 'val_loss': [1.0046864748001099,\n",
       "  1.02167809009552,\n",
       "  1.0431479215621948,\n",
       "  0.9969482421875,\n",
       "  1.0022913217544556,\n",
       "  1.050926685333252,\n",
       "  1.052446961402893,\n",
       "  1.0251924991607666,\n",
       "  1.0712690353393555,\n",
       "  1.071803092956543],\n",
       " 'val_accuracy': [0.8040000200271606,\n",
       "  0.8084583282470703,\n",
       "  0.7789999842643738,\n",
       "  0.7895833253860474,\n",
       "  0.8021666407585144,\n",
       "  0.7860416769981384,\n",
       "  0.796958327293396,\n",
       "  0.8020416498184204,\n",
       "  0.7475416660308838,\n",
       "  0.7644583582878113]}"
      ]
     },
     "execution_count": 180,
     "metadata": {},
     "output_type": "execute_result"
    }
   ],
   "source": [
    "history.history"
   ]
  },
  {
   "cell_type": "code",
   "execution_count": 162,
   "metadata": {
    "colab": {
     "base_uri": "https://localhost:8080/",
     "height": 430
    },
    "id": "mI8BuVeZDUFy",
    "outputId": "22daaf21-4784-4248-ffe2-6495979a9648"
   },
   "outputs": [
    {
     "data": {
      "image/png": "[encoded data removed]",
      "text/plain": [
       "<Figure size 640x480 with 1 Axes>"
      ]
     },
     "metadata": {},
     "output_type": "display_data"
    }
   ],
   "source": [
    "plt.plot(history.history['accuracy'])\n",
    "plt.plot(history.history['val_accuracy'])\n",
    "plt.legend(['training','validation'])\n",
    "plt.show()"
   ]
  },
  {
   "cell_type": "code",
   "execution_count": 181,
   "metadata": {
    "colab": {
     "base_uri": "https://localhost:8080/",
     "height": 430
    },
    "id": "gaHfNb-SKFkE",
    "outputId": "75771aa5-3198-4d48-ce51-569d6aab6199"
   },
   "outputs": [
    {
     "data": {
      "image/png": "[encoded data removed]",
      "text/plain": [
       "<Figure size 640x480 with 1 Axes>"
      ]
     },
     "metadata": {},
     "output_type": "display_data"
    }
   ],
   "source": [
    "plt.plot(history.history['accuracy'])\n",
    "plt.plot(history.history['val_accuracy'])\n",
    "plt.legend(['training','validation'])\n",
    "plt.show()"
   ]
  },
  {
   "cell_type": "code",
   "execution_count": 182,
   "metadata": {
    "colab": {
     "base_uri": "https://localhost:8080/"
    },
    "id": "WeUuPTA6DUFy",
    "outputId": "55ee2518-e6f2-4758-8d43-f51f30f38dad"
   },
   "outputs": [
    {
     "name": "stdout",
     "output_type": "stream",
     "text": [
      "1875/1875 [==============================] - 8s 4ms/step - loss: 1.0590 - accuracy: 0.7689\n"
     ]
    },
    {
     "data": {
      "text/plain": [
       "[1.0589962005615234, 0.7689499855041504]"
      ]
     },
     "execution_count": 182,
     "metadata": {},
     "output_type": "execute_result"
    }
   ],
   "source": [
    "model.evaluate(X_train, Y_train)"
   ]
  },
  {
   "cell_type": "code",
   "execution_count": 183,
   "metadata": {
    "colab": {
     "base_uri": "https://localhost:8080/"
    },
    "id": "5ME3X11gDUFy",
    "outputId": "a755085b-0994-4c20-f6c1-1da082e73f38"
   },
   "outputs": [
    {
     "name": "stdout",
     "output_type": "stream",
     "text": [
      "313/313 [==============================] - 1s 4ms/step - loss: 1.0527 - accuracy: 0.7652\n"
     ]
    },
    {
     "data": {
      "text/plain": [
       "[1.052701473236084, 0.7652000188827515]"
      ]
     },
     "execution_count": 183,
     "metadata": {},
     "output_type": "execute_result"
    }
   ],
   "source": [
    "model.evaluate(X_test, Y_test)"
   ]
  },
  {
   "cell_type": "code",
   "execution_count": null,
   "metadata": {
    "id": "a3nXiLPjKNpR"
   },
   "outputs": [],
   "source": []
  },
  {
   "cell_type": "code",
   "execution_count": 184,
   "metadata": {
    "colab": {
     "base_uri": "https://localhost:8080/"
    },
    "id": "lrwCm2PrDUFy",
    "outputId": "f83ae187-04c1-416e-9a6f-df610037ed9c"
   },
   "outputs": [
    {
     "data": {
      "text/plain": [
       "[array([[ 0.0566983 ,  0.04238607,  0.01466978, ..., -0.07548036,\n",
       "         -0.01820346, -0.02901771],\n",
       "        [-0.0155519 ,  0.01029312, -0.00114875, ...,  0.04501508,\n",
       "          0.02343347, -0.11262857],\n",
       "        [-0.07429361,  0.06909569,  0.03897437, ..., -0.0485761 ,\n",
       "          0.04282059,  0.03840249],\n",
       "        ...,\n",
       "        [-0.00847867,  0.01822461, -0.00164912, ..., -0.02579606,\n",
       "          0.01501761,  0.03776801],\n",
       "        [ 0.01529966, -0.00926232,  0.06676662, ...,  0.0279997 ,\n",
       "          0.05511592, -0.09164606],\n",
       "        [ 0.01127373, -0.05899547,  0.0179991 , ...,  0.03863312,\n",
       "         -0.02238048, -0.02034775]], dtype=float32),\n",
       " array([-0.02202057,  0.02631227,  0.06324732, -0.30465674,  0.731933  ,\n",
       "         0.03947731, -0.60770935, -0.06461781,  0.7836849 , -0.01956519,\n",
       "        -0.12621772,  0.33959413,  0.08560267, -0.16740528, -0.17693159,\n",
       "        -0.04943925,  0.1368964 ,  0.5469944 ,  0.46644565,  0.02960907,\n",
       "        -0.05627716,  0.39369598,  0.17080805, -0.01311764,  0.08709099,\n",
       "        -0.05590852, -0.03485561,  0.600664  , -0.98497325,  0.25401276,\n",
       "        -0.77100873,  0.46800846], dtype=float32),\n",
       " array([0.8495311 , 0.9757189 , 1.0725582 , 0.89372385, 1.0350728 ,\n",
       "        1.1248606 , 0.91614556, 0.95507807, 0.92462105, 1.3018451 ,\n",
       "        0.9206149 , 1.0729957 , 1.0042567 , 1.2077032 , 0.7448619 ,\n",
       "        1.0017601 , 1.1242247 , 0.7815834 , 1.0140371 , 0.82988423,\n",
       "        0.83291006, 0.5867742 , 1.0287734 , 0.9994296 , 0.84896237,\n",
       "        0.8472058 , 1.2847856 , 1.0177191 , 1.0209143 , 1.052076  ,\n",
       "        1.149774  , 1.0867409 ], dtype=float32),\n",
       " array([ 0.25840694,  0.6580578 ,  0.48974174,  0.12940334,  0.4464912 ,\n",
       "         0.42854068,  0.16845085, -0.17921938,  0.04816044, -0.18297985,\n",
       "         0.15974149,  0.1089185 ,  0.38478515,  0.5840079 ,  0.25396684,\n",
       "        -0.21241497,  0.18276022,  0.10571058,  0.45520076,  0.22954302,\n",
       "        -0.05282909, -0.2383344 ,  0.42872256, -0.2964462 ,  0.10684802,\n",
       "        -0.17431092,  0.21120317,  0.5705739 ,  0.6771629 ,  0.40884414,\n",
       "         0.68988496,  0.48509058], dtype=float32),\n",
       " array([ -0.999997, 297.51    , 218.8161  , 372.92108 , 228.46841 ,\n",
       "         86.76916 , 205.06532 ,  -0.999997, 211.3774  ,  76.16079 ,\n",
       "         -0.999997, 201.32504 , 175.23665 , 261.78094 ,  -0.999997,\n",
       "         -0.999997,  64.78576 , 231.94649 , 344.87094 ,  -0.999997,\n",
       "         61.930477, 416.88412 , 820.5125  ,  -0.999997, 179.83832 ,\n",
       "         -0.999997,  11.539031, 269.6504  , 431.94867 , 185.1283  ,\n",
       "        424.002   , 324.07745 ], dtype=float32),\n",
       " array([1.1714330e-36, 1.8615911e+05, 1.6254867e+05, 4.0044156e+05,\n",
       "        1.5022088e+05, 5.2442238e+04, 2.2022259e+05, 1.1748583e-36,\n",
       "        1.8298145e+05, 4.5452398e+04, 1.2044804e-18, 1.0756915e+05,\n",
       "        1.2622301e+05, 1.9942761e+05, 1.1664802e-36, 1.1710873e-36,\n",
       "        4.3089383e+04, 1.8831402e+05, 2.9326131e+05, 5.3230248e-28,\n",
       "        3.2108559e+04, 4.8466416e+05, 5.9585294e+05, 1.1729398e-36,\n",
       "        1.5718639e+05, 1.1706924e-36, 9.5909502e+03, 1.9465012e+05,\n",
       "        3.3612166e+05, 1.4030378e+05, 3.2869022e+05, 3.5182997e+05],\n",
       "       dtype=float32),\n",
       " array([[ 1.48707315e-01, -1.03742972e-01,  4.37069744e-01,\n",
       "          3.06048274e-01,  2.95450002e-01,  6.27945289e-02,\n",
       "         -2.16997877e-01, -4.23565030e-01, -1.60251111e-01,\n",
       "         -3.56006324e-01, -2.77292076e-02, -5.82367420e-01,\n",
       "         -1.59646019e-01, -4.28591102e-01, -5.29597223e-01,\n",
       "         -9.11341459e-02],\n",
       "        [-1.72303751e-01,  2.62596868e-02, -1.97317362e-01,\n",
       "         -4.61563110e-01,  7.51909539e-02, -1.22029729e-01,\n",
       "          3.48268747e-01,  7.46475458e-02,  4.63533588e-02,\n",
       "          1.25214923e-02, -5.97258098e-02, -1.18838811e+00,\n",
       "         -9.44222435e-02, -1.16446197e+00,  1.50789052e-01,\n",
       "          1.96764559e-01],\n",
       "        [-2.54073888e-02,  4.56869788e-02, -4.46736276e-01,\n",
       "         -1.63634196e-01, -2.48653188e-01,  4.53164913e-02,\n",
       "         -2.35757977e-01, -9.17350709e-01, -1.03720844e+00,\n",
       "         -9.93338585e-01, -3.66080478e-02, -7.39528298e-01,\n",
       "          2.79400069e-02, -6.37329280e-01,  1.12180129e-01,\n",
       "          1.48357218e-02],\n",
       "        [ 6.24710023e-01,  3.36404026e-01, -1.27800703e-01,\n",
       "         -9.59922522e-02,  9.64128748e-02, -1.83117107e-01,\n",
       "          5.51125348e-01,  3.86671126e-02,  3.77064645e-02,\n",
       "         -8.35081264e-02,  2.30250016e-01, -1.86774760e-01,\n",
       "         -2.38706544e-01, -2.73321897e-01,  7.51787663e-01,\n",
       "          5.18382847e-01],\n",
       "        [-8.42099667e-01, -8.31178486e-01,  2.16667295e-01,\n",
       "          9.23465565e-03,  1.90417349e-01, -9.24889684e-01,\n",
       "          8.34053848e-04,  3.13919544e-01,  2.12495700e-01,\n",
       "          1.36379197e-01,  2.83254594e-01,  1.60610564e-02,\n",
       "         -6.62700057e-01, -7.00670353e-05, -2.95604825e-01,\n",
       "         -5.96764505e-01],\n",
       "        [ 2.30749659e-02,  8.89939023e-04, -8.09288919e-01,\n",
       "         -1.35370314e-01, -1.52377471e-01,  8.71868283e-02,\n",
       "         -2.14329399e-02, -9.02434349e-01, -1.10894358e+00,\n",
       "         -9.60620284e-01, -2.61394251e-02, -4.17802334e-01,\n",
       "         -4.79611717e-02, -3.47718775e-01, -1.94116067e-02,\n",
       "          9.23403818e-03],\n",
       "        [ 2.55174965e-01,  4.29229379e-01,  1.61754653e-01,\n",
       "          9.28037614e-02,  5.16002953e-01, -8.49906445e-01,\n",
       "         -6.95896596e-02,  3.25299859e-01,  3.98482233e-01,\n",
       "          1.29914463e-01,  4.84171808e-01, -3.89365554e-02,\n",
       "         -7.82651424e-01, -6.93445280e-02,  1.42621040e-01,\n",
       "          4.33986574e-01],\n",
       "        [ 3.17672849e-01,  6.33576572e-01,  2.95864463e-01,\n",
       "         -3.53828818e-02, -4.98709112e-01, -3.82785574e-02,\n",
       "          1.51159883e-01,  2.02054963e-01,  1.97277889e-02,\n",
       "          3.38542938e-01,  1.20968223e-01,  2.24448532e-01,\n",
       "          2.00530186e-01,  4.97509927e-01,  4.25866395e-01,\n",
       "          3.74745339e-01],\n",
       "        [-1.00088131e+00, -6.41718566e-01, -3.11441887e-02,\n",
       "          6.77234530e-02, -3.05152059e-01,  4.00024354e-01,\n",
       "         -1.57816663e-01, -1.07894391e-01,  9.15123373e-02,\n",
       "         -4.69278246e-01, -2.72300988e-01,  8.51718485e-02,\n",
       "          1.35993421e-01,  7.75389075e-02, -5.92466712e-01,\n",
       "         -6.53508782e-01],\n",
       "        [ 1.56128883e-01,  5.94478212e-02,  3.07282329e-01,\n",
       "          1.03433028e-01, -4.72439647e-01,  6.43490016e-01,\n",
       "         -9.96911228e-02,  8.56745988e-02, -2.01423258e-01,\n",
       "          1.83324859e-01, -5.13494849e-01,  1.01881176e-01,\n",
       "          2.75367379e-01,  1.37992248e-01,  1.81129128e-01,\n",
       "          1.20565569e+00],\n",
       "        [-2.32888177e-01, -1.36536419e-01,  1.01721220e-01,\n",
       "         -1.75997227e-01,  1.45938337e-01, -6.62821233e-02,\n",
       "         -2.17379361e-01,  1.67656034e-01,  1.62651137e-01,\n",
       "         -2.69077778e-01, -3.02262098e-01, -5.45239627e-01,\n",
       "         -1.44077629e-01, -4.32736695e-01, -2.09798202e-01,\n",
       "         -3.18502218e-01],\n",
       "        [ 4.54368815e-03,  2.74650276e-01,  7.04117179e-01,\n",
       "          8.03333819e-02, -1.05051830e-01,  5.25129259e-01,\n",
       "         -9.01891410e-01, -7.77542114e-01, -4.48277324e-01,\n",
       "         -2.83539474e-01,  2.51335114e-01,  1.20497830e-01,\n",
       "          3.16579714e-02,  1.48606896e-01, -1.20724350e-01,\n",
       "          4.02500719e-01],\n",
       "        [ 3.71980280e-01,  1.74739555e-01, -4.02469248e-01,\n",
       "         -4.36949134e-01,  6.12087362e-02,  3.10729332e-02,\n",
       "          7.11753964e-01, -3.39254588e-02, -6.15396770e-03,\n",
       "         -9.43423063e-02,  3.65935825e-03, -4.83687401e-01,\n",
       "         -1.05221145e-01, -7.42928088e-01,  5.04180014e-01,\n",
       "          3.43719214e-01],\n",
       "        [ 3.36214453e-01,  1.67910069e-01, -3.19363922e-02,\n",
       "         -7.66263068e-01,  4.41243984e-02,  3.73476073e-02,\n",
       "          5.16080678e-01,  7.62610808e-02,  1.38721958e-01,\n",
       "         -4.96306866e-02,  2.59778760e-02, -1.10053825e+00,\n",
       "         -1.38640329e-01, -1.13161659e+00,  4.94554996e-01,\n",
       "          2.84143180e-01],\n",
       "        [-1.63054943e-01,  2.32934788e-01, -3.88169251e-02,\n",
       "          1.53228819e-01, -8.54829699e-03, -4.48016375e-01,\n",
       "         -3.98557574e-01,  7.60947987e-02,  5.53386435e-02,\n",
       "         -1.72068894e-01,  2.72203594e-01, -3.90851378e-01,\n",
       "          1.37981161e-01, -7.07216740e-01, -4.22383361e-02,\n",
       "          5.00113294e-02],\n",
       "        [ 1.13367550e-02,  4.50861543e-01, -4.58233327e-01,\n",
       "         -1.97004303e-01, -3.53592217e-01,  2.83060130e-02,\n",
       "          2.67986655e-01,  2.73386300e-01,  2.02193007e-01,\n",
       "          2.82643110e-01, -1.35828853e-02,  5.53157687e-01,\n",
       "          1.71317264e-01,  5.28432488e-01, -1.13832243e-01,\n",
       "         -2.69714221e-02],\n",
       "        [-2.69580595e-02,  6.11673333e-02,  3.35275829e-01,\n",
       "         -6.56584263e-01,  4.36988801e-01, -2.99164146e-01,\n",
       "          2.77572244e-01,  3.10324937e-01,  2.63632327e-01,\n",
       "          1.22873768e-01, -7.81969056e-02, -9.15183604e-01,\n",
       "         -2.23200604e-01, -8.42747629e-01,  7.59630427e-02,\n",
       "          7.76071772e-02],\n",
       "        [-1.18923075e-01, -3.01040579e-02, -1.07913919e-01,\n",
       "          4.33256589e-02, -4.72879976e-01,  2.15786904e-01,\n",
       "         -2.56277084e-01, -6.48864329e-01, -4.26416516e-01,\n",
       "         -7.65563428e-01, -3.05169553e-01,  4.89867404e-02,\n",
       "          1.55374452e-01,  1.00334875e-01, -1.43550500e-01,\n",
       "          2.83220690e-03],\n",
       "        [-2.66561359e-01, -9.08068597e-01,  3.42449248e-01,\n",
       "          2.29663011e-02,  1.30462065e-01, -1.28011942e+00,\n",
       "          1.76776543e-01,  1.16475672e-01,  1.71516333e-02,\n",
       "         -1.50475889e-01,  4.62585807e-01, -4.13701944e-02,\n",
       "         -1.31733119e+00, -2.83487830e-02, -3.62661481e-01,\n",
       "         -2.47325227e-01],\n",
       "        [ 6.87215105e-02,  3.18885222e-02,  5.62674254e-02,\n",
       "          8.53236690e-02,  3.12439084e-01, -1.11586794e-01,\n",
       "         -1.76995263e-01, -4.04419661e-01, -1.57644838e-01,\n",
       "         -2.76323318e-01,  6.13608910e-03, -5.61375558e-01,\n",
       "         -4.65300269e-02, -6.30010903e-01, -1.56698257e-01,\n",
       "         -2.90084898e-01],\n",
       "        [-2.54005551e-01,  1.38645619e-01, -4.51857448e-01,\n",
       "          1.69773206e-01, -5.89514315e-01,  3.16350192e-01,\n",
       "         -4.76382762e-01, -2.48074919e-01, -3.16079319e-01,\n",
       "         -6.20937228e-01, -1.06534266e+00,  1.86857611e-01,\n",
       "          1.05535261e-01,  2.76346188e-02, -2.94413775e-01,\n",
       "          4.98539135e-02],\n",
       "        [-2.34956339e-01, -2.23054871e-01, -4.06232148e-01,\n",
       "          1.82538047e-01, -1.31564990e-01,  3.36238772e-01,\n",
       "         -7.86671281e-01,  3.12259972e-01,  1.29835799e-01,\n",
       "          3.80613685e-01, -2.76451051e-01,  2.80436188e-01,\n",
       "          2.94811696e-01,  2.97000706e-01, -1.64619982e-01,\n",
       "          2.66288161e-01],\n",
       "        [ 2.18134876e-02, -5.04443407e-01, -2.85086095e-01,\n",
       "         -9.97433513e-02, -2.21124887e-01, -1.01145264e-02,\n",
       "         -9.41507593e-02, -9.74408329e-01, -1.12296915e+00,\n",
       "         -8.40476692e-01, -5.60682304e-02, -3.33718210e-02,\n",
       "         -1.73126206e-01, -6.89179152e-02, -5.17845191e-02,\n",
       "         -3.56747925e-01],\n",
       "        [ 2.37272575e-01, -3.11629713e-01, -1.29096851e-01,\n",
       "         -1.35836944e-01, -2.21255407e-01,  3.42113525e-01,\n",
       "          4.81997728e-01,  1.32714540e-01,  9.08034965e-02,\n",
       "          3.92883271e-01, -3.48051786e-02,  4.81369346e-01,\n",
       "          8.25245976e-02,  4.19660002e-01,  5.16249359e-01,\n",
       "          4.02743459e-01],\n",
       "        [-1.00081362e-01, -5.25553860e-02,  1.92141414e-01,\n",
       "         -7.32417777e-02,  2.02822983e-01, -5.08341014e-01,\n",
       "          2.96058536e-01,  2.98012972e-01,  2.78595507e-01,\n",
       "          2.13939935e-01,  3.86956744e-02, -2.14222819e-02,\n",
       "         -3.47571224e-01, -9.97553468e-02, -2.08233550e-01,\n",
       "          5.45066670e-02],\n",
       "        [ 1.25678569e-01,  1.26166910e-01, -1.42834291e-01,\n",
       "         -3.51913385e-02, -2.54805416e-01,  1.72162801e-01,\n",
       "          4.07177627e-01,  4.07124251e-01,  1.34818509e-01,\n",
       "          2.94138432e-01,  1.97353780e-01,  4.43694144e-01,\n",
       "          1.96874171e-01,  6.00691378e-01,  3.53570580e-01,\n",
       "          1.17431507e-01],\n",
       "        [-2.79150635e-01, -4.00581837e-01, -1.25619575e-01,\n",
       "         -2.63198018e-01, -2.85596102e-01, -4.47034612e-02,\n",
       "         -2.73441106e-01, -1.36322871e-01, -1.74431622e-01,\n",
       "         -1.92146897e-01, -2.14447334e-01, -2.74615884e-01,\n",
       "         -3.79515328e-02, -1.20743491e-01, -3.06735247e-01,\n",
       "         -6.67163968e-01],\n",
       "        [ 8.08197483e-02,  6.16465658e-02,  1.05354816e-01,\n",
       "         -6.96083307e-01,  2.21516803e-01,  1.13062881e-01,\n",
       "          2.76369423e-01,  2.75894046e-01,  2.42808774e-01,\n",
       "          2.68666055e-02, -1.85313597e-01, -9.89486873e-01,\n",
       "         -1.10514134e-01, -9.46562767e-01,  2.20236257e-01,\n",
       "          2.43991300e-01],\n",
       "        [ 7.93951377e-03, -6.24506809e-02, -1.33471084e+00,\n",
       "         -3.56416821e-01, -6.91787899e-02,  3.21078300e-02,\n",
       "         -2.62764581e-02, -4.00104374e-03, -9.97731984e-02,\n",
       "         -3.85847837e-01,  7.77468979e-02, -1.09884858e+00,\n",
       "         -6.73852563e-02, -1.07165670e+00, -7.95421898e-02,\n",
       "          1.43225566e-01],\n",
       "        [-7.03492522e-01, -7.84665227e-01,  2.74637103e-01,\n",
       "          2.51695048e-02,  1.93848327e-01, -1.15901864e+00,\n",
       "         -2.35713273e-02,  1.93634674e-01,  1.04947716e-01,\n",
       "          1.62100762e-01,  3.00999284e-01,  1.11826947e-02,\n",
       "         -9.81675684e-01,  4.34400290e-02, -1.79083303e-01,\n",
       "         -5.06100953e-01],\n",
       "        [ 4.97978441e-02,  1.64611503e-01,  1.17465565e-02,\n",
       "         -7.10277081e-01,  2.64994018e-02, -1.17574073e-01,\n",
       "          3.21168393e-01,  9.45901498e-02,  1.92936271e-01,\n",
       "          7.70087540e-03,  1.01162881e-01, -1.17264056e+00,\n",
       "         -1.56055823e-01, -1.27501917e+00,  2.85629570e-01,\n",
       "          1.73031583e-01],\n",
       "        [-2.99782991e-01, -6.16438627e-01,  2.71773905e-01,\n",
       "          4.16322164e-02,  6.85925335e-02, -1.26894379e+00,\n",
       "         -1.94394663e-01,  1.44943804e-01,  9.88995954e-02,\n",
       "          6.66810870e-02,  4.53159511e-01,  1.09834746e-01,\n",
       "         -1.22493601e+00,  1.56487927e-01,  8.26656520e-02,\n",
       "         -1.21997166e+00]], dtype=float32),\n",
       " array([-0.57832736, -1.0054408 ,  0.4742588 , -1.9254824 ,  4.4390454 ,\n",
       "        -1.7932891 ,  0.01700886, -0.8179158 , -0.5307435 , -1.1513997 ,\n",
       "         0.92359304, -3.2460148 , -1.8503848 , -3.8410048 , -0.54753035,\n",
       "        -1.3165314 ], dtype=float32),\n",
       " array([0.57670516, 0.59785753, 0.5475472 , 0.7619672 , 0.5877038 ,\n",
       "        0.8396443 , 0.37855822, 0.6096239 , 0.50948143, 0.6054802 ,\n",
       "        0.48829627, 1.1128209 , 0.72327644, 0.97543675, 0.39468578,\n",
       "        0.47767332], dtype=float32),\n",
       " array([ 0.1369167 ,  0.1559847 ,  0.20930287,  0.30644482, -0.024208  ,\n",
       "         0.31039172,  0.05407355,  0.11688502,  0.03427194,  0.08522327,\n",
       "         0.19956824,  0.29449216,  0.26210633,  0.14744854,  0.13666694,\n",
       "         0.14554524], dtype=float32),\n",
       " array([ 0.08972834, -0.24099466,  0.84971786, -0.8644374 ,  5.2532563 ,\n",
       "        -0.49669018,  1.1302148 , -0.06462579,  0.10644312, -0.6461352 ,\n",
       "         1.9887342 , -0.9705642 , -0.8459893 , -0.98260725,  0.41523817,\n",
       "         0.14053313], dtype=float32),\n",
       " array([2.4107666e+00, 1.4348856e+00, 4.0874572e+00, 4.8355073e-02,\n",
       "        4.3180223e+00, 1.1735457e+00, 5.2347136e+00, 1.8416208e+00,\n",
       "        2.1788499e+00, 3.9062196e-01, 4.0750341e+00, 1.0085619e-02,\n",
       "        9.1540366e-02, 4.0428699e-03, 3.9529021e+00, 5.3599267e+00],\n",
       "       dtype=float32),\n",
       " array([[ 1.74500182e-01,  2.00914457e-01, -1.17191613e-01,\n",
       "         -6.05171993e-02,  1.53347366e-02, -3.82290274e-01,\n",
       "          1.57367885e-01, -1.01625435e-02],\n",
       "        [ 1.87679917e-01,  2.62013197e-01,  1.01216294e-01,\n",
       "          8.99098143e-02, -4.31193179e-03, -1.83610290e-01,\n",
       "          1.69234574e-01, -2.61954740e-02],\n",
       "        [-6.54848516e-02, -7.67390057e-02, -8.51123095e-01,\n",
       "          1.77696973e-01, -1.76904738e-01, -8.42935517e-02,\n",
       "         -9.56666097e-02, -1.29616603e-01],\n",
       "        [-3.55448365e-01, -4.04198617e-01,  1.20696314e-02,\n",
       "         -1.82622209e-01, -4.26622340e-03,  9.05181840e-02,\n",
       "         -4.06112522e-01, -1.98579784e-02],\n",
       "        [ 5.80912121e-02,  2.28958633e-02, -3.54508728e-01,\n",
       "          5.85935295e-01, -5.06719649e-01, -1.10917957e-02,\n",
       "          4.54613008e-02, -5.47954738e-01],\n",
       "        [ 4.86129709e-02,  2.62386240e-02,  3.25488061e-01,\n",
       "          5.78193255e-02,  7.43423104e-01, -1.82832521e-03,\n",
       "          1.41591281e-02,  7.37673581e-01],\n",
       "        [ 9.50518921e-02,  7.91539252e-02, -6.91450953e-01,\n",
       "         -3.52839865e-02,  2.69941241e-02, -3.68414581e-01,\n",
       "          8.65982026e-02,  1.59457158e-02],\n",
       "        [ 3.54652144e-02,  3.06037981e-02, -1.65716976e-01,\n",
       "          9.44011748e-01, -2.85796076e-01,  5.63116698e-03,\n",
       "          3.78386043e-02, -2.63316900e-01],\n",
       "        [ 2.22100075e-02,  4.48686816e-02, -1.35115355e-01,\n",
       "          1.08044851e+00, -3.07978898e-01,  4.46981564e-03,\n",
       "          2.18910463e-02, -2.70489097e-01],\n",
       "        [-1.60235283e-03, -2.73021962e-02, -3.96681949e-02,\n",
       "          9.98737156e-01, -3.47356647e-01,  4.26782779e-02,\n",
       "         -3.81211843e-03, -2.22958252e-01],\n",
       "        [-2.37116870e-02, -4.52609267e-03, -1.50224018e+00,\n",
       "         -1.92009553e-01, -2.50345208e-02,  4.99798618e-02,\n",
       "          2.35294021e-04, -2.71286815e-02],\n",
       "        [-5.80635846e-01, -5.66430688e-01, -8.23393390e-02,\n",
       "         -1.49156377e-01, -2.16563307e-02,  2.62635320e-01,\n",
       "         -4.60181832e-01,  6.98234513e-02],\n",
       "        [-5.14311679e-02, -4.83872034e-02,  1.22420393e-01,\n",
       "         -5.13074338e-01,  8.94622147e-01, -8.14362988e-03,\n",
       "         -7.73525536e-02,  7.51412034e-01],\n",
       "        [-7.69392431e-01, -7.60817528e-01, -1.18825316e-01,\n",
       "         -4.99360785e-02,  2.89793443e-02,  3.53701323e-01,\n",
       "         -6.40559733e-01, -4.75887470e-02],\n",
       "        [ 2.35559389e-01,  2.55167603e-01, -1.60379097e-01,\n",
       "         -5.82082123e-02, -4.77196164e-02, -5.26578307e-01,\n",
       "          2.39899874e-01,  6.31042421e-02],\n",
       "        [ 3.14032167e-01,  3.27378184e-01,  1.62363112e-01,\n",
       "          2.24546358e-01,  5.21978736e-02, -1.79200545e-01,\n",
       "          2.46062681e-01,  1.08672693e-01]], dtype=float32),\n",
       " array([ 6.518547 ,  6.7771087, -1.4913607,  0.400607 ,  3.894776 ,\n",
       "        -1.7829791,  5.6126256,  3.4819555], dtype=float32),\n",
       " array([0.5152699 , 0.46574786, 0.46628228, 0.5066249 , 0.48493615,\n",
       "        0.71367097, 0.43681487, 0.49948806], dtype=float32),\n",
       " array([-0.13011974, -0.10938986,  0.19132802,  0.05259881,  0.11426526,\n",
       "         0.22690697, -0.12255584,  0.14389986], dtype=float32),\n",
       " array([ 6.227112  ,  6.4890337 , -0.5459637 ,  0.67448   ,  4.2615476 ,\n",
       "        -0.75027776,  5.340549  ,  3.861636  ], dtype=float32),\n",
       " array([1.9873863 , 2.1724486 , 0.4682484 , 3.518345  , 3.5323179 ,\n",
       "        0.08996432, 1.5834225 , 2.9862177 ], dtype=float32),\n",
       " array([[-0.00101294, -0.6062155 , -0.6348217 ,  0.00323589],\n",
       "        [-0.01573461, -0.7616815 , -0.67200285,  0.00960435],\n",
       "        [-0.84835064,  0.03001814,  0.0184073 , -0.7902942 ],\n",
       "        [ 0.38075224, -0.04922873, -0.01498753,  0.28750408],\n",
       "        [-0.822684  ,  0.01559176, -0.02994307, -0.7281361 ],\n",
       "        [-0.02100067,  0.5637254 ,  0.55734485,  0.01675839],\n",
       "        [ 0.02064868, -0.6907913 , -0.6620575 ,  0.01387074],\n",
       "        [-0.6881247 , -0.00667108,  0.01077772, -0.648695  ]],\n",
       "       dtype=float32),\n",
       " array([4.714726 , 3.3934064, 3.3254824, 4.2494483], dtype=float32),\n",
       " array([0.8059294, 0.6901331, 0.7223705, 0.8436312], dtype=float32),\n",
       " array([-0.18812077,  0.1693268 ,  0.18253359, -0.19185248], dtype=float32),\n",
       " array([4.3666654, 3.7556143, 3.674457 , 3.9312038], dtype=float32),\n",
       " array([1.6454366, 1.9508908, 1.8255982, 1.3313465], dtype=float32),\n",
       " array([[ 0.4434129 , -0.00494905],\n",
       "        [ 0.01187333, -0.5813278 ],\n",
       "        [-0.00147497, -0.5328512 ],\n",
       "        [ 0.40773815, -0.00525603]], dtype=float32),\n",
       " array([-0.08050145, -0.22335139], dtype=float32),\n",
       " array([1.4743066, 2.0516827], dtype=float32),\n",
       " array([0.06414732, 0.2766139 ], dtype=float32),\n",
       " array([-0.08022673, -0.18014877], dtype=float32),\n",
       " array([0.21744001, 0.23996112], dtype=float32),\n",
       " array([[-1.1444169 , -1.2231629 ,  1.5487058 , -0.12259851,  1.1712543 ,\n",
       "         -0.82263047,  1.8940047 ,  1.8690585 , -0.26334423,  1.2062836 ],\n",
       "        [-1.5121943 ,  1.1498364 ,  1.1681088 ,  1.0186584 , -1.4065437 ,\n",
       "         -0.15667397, -1.3571781 ,  0.54893786,  0.5029166 , -1.1428008 ]],\n",
       "       dtype=float32),\n",
       " array([-0.65616965, -0.77185196, -0.4469747 ,  0.2900358 ,  0.13763073,\n",
       "         0.5845833 , -0.60103375,  0.07754407,  0.78650373,  0.4752254 ],\n",
       "       dtype=float32)]"
      ]
     },
     "execution_count": 184,
     "metadata": {},
     "output_type": "execute_result"
    }
   ],
   "source": [
    "model.get_weights()"
   ]
  },
  {
   "cell_type": "code",
   "execution_count": 170,
   "metadata": {
    "id": "tyNcT6LAGcLp"
   },
   "outputs": [],
   "source": [
    "model.save('consolidated_model.pkl')"
   ]
  },
  {
   "cell_type": "code",
   "execution_count": 171,
   "metadata": {
    "id": "nryhF1-6G70d"
   },
   "outputs": [],
   "source": [
    "from keras.saving import load_model"
   ]
  },
  {
   "cell_type": "code",
   "execution_count": 172,
   "metadata": {
    "id": "tco8gZ6MHi_u"
   },
   "outputs": [],
   "source": [
    "model_loaded =  load_model('consolidated_model.pkl')"
   ]
  },
  {
   "cell_type": "code",
   "execution_count": 173,
   "metadata": {
    "colab": {
     "base_uri": "https://localhost:8080/"
    },
    "id": "fU5wqt5uHpTM",
    "outputId": "9369b2b3-ce3f-4c0f-a24a-4ed8a8ebec4f"
   },
   "outputs": [
    {
     "name": "stdout",
     "output_type": "stream",
     "text": [
      "Model: \"sequential_16\"\n",
      "_________________________________________________________________\n",
      " Layer (type)                Output Shape              Param #   \n",
      "=================================================================\n",
      " dense_78 (Dense)            (None, 32)                25120     \n",
      "                                                                 \n",
      " batch_normalization_10 (Ba  (None, 32)                128       \n",
      " tchNormalization)                                               \n",
      "                                                                 \n",
      " dropout_10 (Dropout)        (None, 32)                0         \n",
      "                                                                 \n",
      " dense_79 (Dense)            (None, 16)                528       \n",
      "                                                                 \n",
      " batch_normalization_11 (Ba  (None, 16)                64        \n",
      " tchNormalization)                                               \n",
      "                                                                 \n",
      " dropout_11 (Dropout)        (None, 16)                0         \n",
      "                                                                 \n",
      " dense_80 (Dense)            (None, 8)                 136       \n",
      "                                                                 \n",
      " batch_normalization_12 (Ba  (None, 8)                 32        \n",
      " tchNormalization)                                               \n",
      "                                                                 \n",
      " dropout_12 (Dropout)        (None, 8)                 0         \n",
      "                                                                 \n",
      " dense_81 (Dense)            (None, 4)                 36        \n",
      "                                                                 \n",
      " batch_normalization_13 (Ba  (None, 4)                 16        \n",
      " tchNormalization)                                               \n",
      "                                                                 \n",
      " dropout_13 (Dropout)        (None, 4)                 0         \n",
      "                                                                 \n",
      " dense_82 (Dense)            (None, 2)                 10        \n",
      "                                                                 \n",
      " batch_normalization_14 (Ba  (None, 2)                 8         \n",
      " tchNormalization)                                               \n",
      "                                                                 \n",
      " dropout_14 (Dropout)        (None, 2)                 0         \n",
      "                                                                 \n",
      " dense_83 (Dense)            (None, 10)                30        \n",
      "                                                                 \n",
      "=================================================================\n",
      "Total params: 26108 (101.98 KB)\n",
      "Trainable params: 25984 (101.50 KB)\n",
      "Non-trainable params: 124 (496.00 Byte)\n",
      "_________________________________________________________________\n"
     ]
    }
   ],
   "source": [
    "model_loaded.summary()"
   ]
  },
  {
   "cell_type": "code",
   "execution_count": 176,
   "metadata": {
    "colab": {
     "base_uri": "https://localhost:8080/"
    },
    "id": "fl0f5jZ_Htlb",
    "outputId": "14bfe995-93e8-4ad6-e0f1-99b2952d4b6f"
   },
   "outputs": [
    {
     "name": "stdout",
     "output_type": "stream",
     "text": [
      "313/313 [==============================] - 1s 3ms/step\n"
     ]
    },
    {
     "data": {
      "text/plain": [
       "7"
      ]
     },
     "execution_count": 176,
     "metadata": {},
     "output_type": "execute_result"
    }
   ],
   "source": [
    "np.argmax(model_loaded.predict(X_test)[0])"
   ]
  },
  {
   "cell_type": "code",
   "execution_count": 185,
   "metadata": {
    "colab": {
     "base_uri": "https://localhost:8080/"
    },
    "id": "cDkgNTuPJT7Y",
    "outputId": "3e2dbede-20a0-4f39-e7d8-dd1c6e18ee85"
   },
   "outputs": [
    {
     "data": {
      "text/plain": [
       "7"
      ]
     },
     "execution_count": 185,
     "metadata": {},
     "output_type": "execute_result"
    }
   ],
   "source": [
    "y_test[0]"
   ]
  },
  {
   "cell_type": "code",
   "execution_count": 178,
   "metadata": {
    "colab": {
     "base_uri": "https://localhost:8080/",
     "height": 447
    },
    "id": "LbahOzcTHxXK",
    "outputId": "89464f80-3350-4ad4-ad3e-b60c7ef0f5f7"
   },
   "outputs": [
    {
     "data": {
      "text/plain": [
       "<matplotlib.image.AxesImage at 0x78de3f251810>"
      ]
     },
     "execution_count": 178,
     "metadata": {},
     "output_type": "execute_result"
    },
    {
     "data": {
      "image/png": "[encoded data removed]",
      "text/plain": [
       "<Figure size 640x480 with 1 Axes>"
      ]
     },
     "metadata": {},
     "output_type": "display_data"
    }
   ],
   "source": [
    "plt.imshow(x_test[0])"
   ]
  },
  {
   "cell_type": "code",
   "execution_count": 188,
   "metadata": {
    "colab": {
     "base_uri": "https://localhost:8080/"
    },
    "id": "mPafJ56BIDWb",
    "outputId": "56dad21e-40b7-4a4e-c299-ee7edb573476"
   },
   "outputs": [
    {
     "name": "stdout",
     "output_type": "stream",
     "text": [
      "313/313 [==============================] - 2s 6ms/step\n"
     ]
    }
   ],
   "source": [
    "test_pred = np.argmax(model_loaded.predict(X_test), axis = 1)"
   ]
  },
  {
   "cell_type": "code",
   "execution_count": 191,
   "metadata": {
    "id": "PFb-Q3s0KagO"
   },
   "outputs": [],
   "source": [
    "from sklearn.metrics import confusion_matrix, accuracy_score"
   ]
  },
  {
   "cell_type": "code",
   "execution_count": 193,
   "metadata": {
    "id": "lv_zDr0jKni6"
   },
   "outputs": [],
   "source": [
    "cnf = confusion_matrix(y_test,test_pred)"
   ]
  },
  {
   "cell_type": "code",
   "execution_count": 192,
   "metadata": {
    "colab": {
     "base_uri": "https://localhost:8080/"
    },
    "id": "hwJY2fQfKrEv",
    "outputId": "d758b091-0a4e-4a12-fcec-765546983639"
   },
   "outputs": [
    {
     "data": {
      "text/plain": [
       "0.7896"
      ]
     },
     "execution_count": 192,
     "metadata": {},
     "output_type": "execute_result"
    }
   ],
   "source": [
    "accuracy_score(y_test,test_pred)"
   ]
  },
  {
   "cell_type": "code",
   "execution_count": 210,
   "metadata": {
    "colab": {
     "base_uri": "https://localhost:8080/",
     "height": 1000
    },
    "id": "XLTMaz04K0GN",
    "outputId": "22eb5546-a2eb-4ed8-a5dc-679730155dbc"
   },
   "outputs": [
    {
     "data": {
      "text/plain": [
       "<Axes: >"
      ]
     },
     "execution_count": 210,
     "metadata": {},
     "output_type": "execute_result"
    },
    {
     "data": {
      "image/png": "[encoded data removed]",
      "text/plain": [
       "<Figure size 1200x1200 with 2 Axes>"
      ]
     },
     "metadata": {},
     "output_type": "display_data"
    }
   ],
   "source": [
    "import seaborn as sns\n",
    "plt.figure(figsize = (12,12))\n",
    "sns.heatmap(cnf, annot=True, fmt='g')"
   ]
  },
  {
   "cell_type": "code",
   "execution_count": 207,
   "metadata": {
    "colab": {
     "base_uri": "https://localhost:8080/",
     "height": 1000
    },
    "id": "Dyqwd2wfLIYE",
    "outputId": "372c3a30-9a0e-446a-e2d4-c2ae26d57b6a"
   },
   "outputs": [
    {
     "data": {
      "text/plain": [
       "<Axes: >"
      ]
     },
     "execution_count": 207,
     "metadata": {},
     "output_type": "execute_result"
    },
    {
     "data": {
      "image/png": "[encoded data removed]",
      "text/plain": [
       "<Figure size 1200x1200 with 2 Axes>"
      ]
     },
     "metadata": {},
     "output_type": "display_data"
    }
   ],
   "source": [
    "plt.figure(figsize = (12,12))\n",
    "sns.heatmap(cnf/np.sum(cnf), annot=True, fmt = '.2%')\n"
   ]
  },
  {
   "cell_type": "code",
   "execution_count": null,
   "metadata": {
    "id": "V742xrH2Ljjb"
   },
   "outputs": [],
   "source": []
  }
 ],
 "metadata": {
  "accelerator": "GPU",
  "colab": {
   "gpuType": "T4",
   "provenance": []
  },
  "kernelspec": {
   "display_name": "Python 3 (ipykernel)",
   "language": "python",
   "name": "python3"
  },
  "language_info": {
   "codemirror_mode": {
    "name": "ipython",
    "version": 3
   },
   "file_extension": ".py",
   "mimetype": "text/x-python",
   "name": "python",
   "nbconvert_exporter": "python",
   "pygments_lexer": "ipython3",
   "version": "3.9.13"
  }
 },
 "nbformat": 4,
 "nbformat_minor": 1
}
