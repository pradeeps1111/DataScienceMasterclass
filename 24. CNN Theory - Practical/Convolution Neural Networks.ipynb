{
 "cells": [
  {
   "cell_type": "code",
   "execution_count": 18,
   "id": "4f64bc7b",
   "metadata": {},
   "outputs": [],
   "source": [
    "from PIL import Image\n",
    "import numpy as np"
   ]
  },
  {
   "cell_type": "code",
   "execution_count": 22,
   "id": "e2a876c9",
   "metadata": {},
   "outputs": [],
   "source": [
    "img = Image.open(\"noor.jpeg\")"
   ]
  },
  {
   "cell_type": "code",
   "execution_count": 23,
   "id": "e54a5d9c",
   "metadata": {},
   "outputs": [
    {
     "data": {
      "text/plain": [
       "(800, 800, 3)"
      ]
     },
     "execution_count": 23,
     "metadata": {},
     "output_type": "execute_result"
    }
   ],
   "source": [
    "np.array(img).shape"
   ]
  },
  {
   "cell_type": "code",
   "execution_count": 25,
   "id": "68c164bc",
   "metadata": {},
   "outputs": [
    {
     "data": {
      "text/plain": [
       "array([[[ 56,  88,  99],\n",
       "        [ 64,  96, 107],\n",
       "        [ 73, 105, 116],\n",
       "        ...,\n",
       "        [ 41,  54,  71],\n",
       "        [ 41,  54,  71],\n",
       "        [ 42,  55,  72]],\n",
       "\n",
       "       [[ 65,  97, 108],\n",
       "        [ 70, 102, 113],\n",
       "        [ 76, 108, 119],\n",
       "        ...,\n",
       "        [ 42,  55,  72],\n",
       "        [ 42,  55,  72],\n",
       "        [ 42,  55,  72]],\n",
       "\n",
       "       [[ 72, 104, 115],\n",
       "        [ 74, 106, 117],\n",
       "        [ 77, 109, 120],\n",
       "        ...,\n",
       "        [ 42,  55,  72],\n",
       "        [ 42,  55,  72],\n",
       "        [ 42,  55,  72]],\n",
       "\n",
       "       ...,\n",
       "\n",
       "       [[ 27,  28,  46],\n",
       "        [ 27,  28,  46],\n",
       "        [ 27,  28,  46],\n",
       "        ...,\n",
       "        [ 25,  31,  45],\n",
       "        [ 23,  29,  43],\n",
       "        [ 24,  30,  44]],\n",
       "\n",
       "       [[ 27,  28,  46],\n",
       "        [ 27,  28,  46],\n",
       "        [ 27,  28,  46],\n",
       "        ...,\n",
       "        [ 25,  31,  45],\n",
       "        [ 24,  30,  44],\n",
       "        [ 24,  30,  42]],\n",
       "\n",
       "       [[ 27,  28,  46],\n",
       "        [ 27,  28,  46],\n",
       "        [ 27,  28,  46],\n",
       "        ...,\n",
       "        [ 25,  31,  45],\n",
       "        [ 24,  30,  44],\n",
       "        [ 24,  30,  42]]], dtype=uint8)"
      ]
     },
     "execution_count": 25,
     "metadata": {},
     "output_type": "execute_result"
    }
   ],
   "source": [
    "np.array(img)"
   ]
  },
  {
   "cell_type": "code",
   "execution_count": 32,
   "id": "d765f8a2",
   "metadata": {},
   "outputs": [],
   "source": [
    "import matplotlib.pyplot as plt\n",
    "from keras.utils import to_categorical\n",
    "\n",
    "from keras.models import Sequential\n",
    "from keras.layers import Dense, BatchNormalization, Dropout, Conv2D, MaxPooling2D, MaxPool2D, Flatten\n",
    "\n",
    "from keras.optimizers import SGD, Adam"
   ]
  },
  {
   "cell_type": "code",
   "execution_count": 2,
   "id": "36611949",
   "metadata": {},
   "outputs": [
    {
     "name": "stdout",
     "output_type": "stream",
     "text": [
      "Downloading data from https://storage.googleapis.com/tensorflow/tf-keras-datasets/mnist.npz\n",
      "11490434/11490434 [==============================] - 4s 0us/step\n"
     ]
    }
   ],
   "source": [
    "from keras.datasets import mnist\n",
    "\n",
    "(x_train, y_train), (x_test, y_test)  = mnist.load_data()"
   ]
  },
  {
   "cell_type": "code",
   "execution_count": 3,
   "id": "15dae7bf",
   "metadata": {},
   "outputs": [
    {
     "name": "stdout",
     "output_type": "stream",
     "text": [
      "Label =  5\n"
     ]
    },
    {
     "data": {
      "image/png": "[encoded data removed]",
      "text/plain": [
       "<Figure size 640x480 with 1 Axes>"
      ]
     },
     "metadata": {},
     "output_type": "display_data"
    }
   ],
   "source": [
    "plt.imshow(x_train[0])\n",
    "print(\"Label = \",y_train[0])"
   ]
  },
  {
   "cell_type": "code",
   "execution_count": 4,
   "id": "032466ef",
   "metadata": {},
   "outputs": [
    {
     "data": {
      "text/plain": [
       "((60000, 28, 28), (60000,))"
      ]
     },
     "execution_count": 4,
     "metadata": {},
     "output_type": "execute_result"
    }
   ],
   "source": [
    "x_train.shape, y_train.shape"
   ]
  },
  {
   "cell_type": "code",
   "execution_count": 5,
   "id": "ae96b6d3",
   "metadata": {},
   "outputs": [],
   "source": [
    "y_train = to_categorical(y_train)\n",
    "y_test = to_categorical(y_test)"
   ]
  },
  {
   "cell_type": "code",
   "execution_count": 34,
   "id": "39eb2447",
   "metadata": {},
   "outputs": [
    {
     "data": {
      "text/plain": [
       "(60000, 10)"
      ]
     },
     "execution_count": 34,
     "metadata": {},
     "output_type": "execute_result"
    }
   ],
   "source": [
    "y_train.shape"
   ]
  },
  {
   "cell_type": "code",
   "execution_count": 39,
   "id": "288f1711",
   "metadata": {},
   "outputs": [],
   "source": [
    "model = Sequential()"
   ]
  },
  {
   "cell_type": "code",
   "execution_count": 40,
   "id": "95fc6b6d",
   "metadata": {},
   "outputs": [],
   "source": [
    "model.add(Conv2D(input_shape = (28,28,1),filters = 16, kernel_size = (3,3), strides = (2,2),\n",
    "                padding='valid',kernel_initializer = 'he_normal',\n",
    "                activation = 'relu'))\n",
    "model.add(MaxPooling2D(pool_size=(2, 2),strides = (1,1)))\n",
    "\n",
    "model.add(Flatten())\n",
    "\n",
    "model.add(Dense(10, kernel_initializer = 'he_normal', activation = 'relu'))\n",
    "model.add(BatchNormalization())\n",
    "\n",
    "model.add(Dense(10, kernel_initializer = 'he_normal', activation = 'softmax'))\n"
   ]
  },
  {
   "cell_type": "code",
   "execution_count": 41,
   "id": "950dc9f7",
   "metadata": {},
   "outputs": [
    {
     "name": "stdout",
     "output_type": "stream",
     "text": [
      "Model: \"sequential_2\"\n",
      "_________________________________________________________________\n",
      " Layer (type)                Output Shape              Param #   \n",
      "=================================================================\n",
      " conv2d_2 (Conv2D)           (None, 13, 13, 16)        160       \n",
      "                                                                 \n",
      " max_pooling2d_2 (MaxPooling  (None, 12, 12, 16)       0         \n",
      " 2D)                                                             \n",
      "                                                                 \n",
      " flatten_1 (Flatten)         (None, 2304)              0         \n",
      "                                                                 \n",
      " dense_2 (Dense)             (None, 10)                23050     \n",
      "                                                                 \n",
      " batch_normalization_1 (Batc  (None, 10)               40        \n",
      " hNormalization)                                                 \n",
      "                                                                 \n",
      " dense_3 (Dense)             (None, 10)                110       \n",
      "                                                                 \n",
      "=================================================================\n",
      "Total params: 23,360\n",
      "Trainable params: 23,340\n",
      "Non-trainable params: 20\n",
      "_________________________________________________________________\n"
     ]
    }
   ],
   "source": [
    "model.summary()"
   ]
  },
  {
   "cell_type": "code",
   "execution_count": 42,
   "id": "287b7bcf",
   "metadata": {},
   "outputs": [],
   "source": [
    "optim = Adam()\n",
    "model.compile(optimizer = optim, loss = 'categorical_crossentropy', metrics = ['accuracy'] )"
   ]
  },
  {
   "cell_type": "code",
   "execution_count": 44,
   "id": "98044145",
   "metadata": {},
   "outputs": [
    {
     "name": "stdout",
     "output_type": "stream",
     "text": [
      "Epoch 1/10\n",
      "3600/3600 - 5s - loss: 0.4066 - accuracy: 0.8890 - val_loss: 0.1931 - val_accuracy: 0.9560 - 5s/epoch - 1ms/step\n",
      "Epoch 2/10\n",
      "3600/3600 - 4s - loss: 0.1665 - accuracy: 0.9513 - val_loss: 0.0964 - val_accuracy: 0.9701 - 4s/epoch - 1ms/step\n",
      "Epoch 3/10\n",
      "3600/3600 - 4s - loss: 0.1335 - accuracy: 0.9582 - val_loss: 0.0989 - val_accuracy: 0.9713 - 4s/epoch - 1ms/step\n",
      "Epoch 4/10\n",
      "3600/3600 - 4s - loss: 0.1181 - accuracy: 0.9646 - val_loss: 0.0963 - val_accuracy: 0.9708 - 4s/epoch - 1ms/step\n",
      "Epoch 5/10\n",
      "3600/3600 - 4s - loss: 0.1073 - accuracy: 0.9669 - val_loss: 0.0937 - val_accuracy: 0.9721 - 4s/epoch - 1ms/step\n",
      "Epoch 6/10\n",
      "3600/3600 - 4s - loss: 0.0991 - accuracy: 0.9693 - val_loss: 0.0980 - val_accuracy: 0.9707 - 4s/epoch - 1ms/step\n",
      "Epoch 7/10\n",
      "3600/3600 - 4s - loss: 0.0899 - accuracy: 0.9727 - val_loss: 0.0913 - val_accuracy: 0.9739 - 4s/epoch - 1ms/step\n",
      "Epoch 8/10\n",
      "3600/3600 - 4s - loss: 0.0854 - accuracy: 0.9737 - val_loss: 0.0930 - val_accuracy: 0.9729 - 4s/epoch - 1ms/step\n",
      "Epoch 9/10\n",
      "3600/3600 - 4s - loss: 0.0809 - accuracy: 0.9753 - val_loss: 0.0944 - val_accuracy: 0.9729 - 4s/epoch - 1ms/step\n",
      "Epoch 10/10\n",
      "3600/3600 - 4s - loss: 0.0756 - accuracy: 0.9761 - val_loss: 0.0937 - val_accuracy: 0.9740 - 4s/epoch - 1ms/step\n"
     ]
    }
   ],
   "source": [
    "history = model.fit(x_train, y_train, epochs = 10, batch_size = 10, verbose = 2, validation_split = 0.4)"
   ]
  },
  {
   "cell_type": "code",
   "execution_count": 45,
   "id": "aca30b81",
   "metadata": {},
   "outputs": [
    {
     "data": {
      "image/png": "[encoded data removed]",
      "text/plain": [
       "<Figure size 640x480 with 1 Axes>"
      ]
     },
     "metadata": {},
     "output_type": "display_data"
    }
   ],
   "source": [
    "plt.plot(history.history['accuracy'])\n",
    "plt.plot(history.history['val_accuracy'])\n",
    "plt.legend(['training', 'validation'])\n",
    "plt.show()"
   ]
  },
  {
   "cell_type": "code",
   "execution_count": 46,
   "id": "0f9e639c",
   "metadata": {},
   "outputs": [
    {
     "name": "stdout",
     "output_type": "stream",
     "text": [
      "1875/1875 [==============================] - 1s 743us/step - loss: 0.0522 - accuracy: 0.9850\n"
     ]
    },
    {
     "data": {
      "text/plain": [
       "[0.05219613388180733, 0.9850166440010071]"
      ]
     },
     "execution_count": 46,
     "metadata": {},
     "output_type": "execute_result"
    }
   ],
   "source": [
    "model.evaluate(x_train, y_train)"
   ]
  },
  {
   "cell_type": "code",
   "execution_count": 47,
   "id": "3fc47ce0",
   "metadata": {},
   "outputs": [
    {
     "name": "stdout",
     "output_type": "stream",
     "text": [
      "313/313 [==============================] - 0s 711us/step - loss: 0.0789 - accuracy: 0.9766\n"
     ]
    },
    {
     "data": {
      "text/plain": [
       "[0.07892560213804245, 0.9765999913215637]"
      ]
     },
     "execution_count": 47,
     "metadata": {},
     "output_type": "execute_result"
    }
   ],
   "source": [
    "model.evaluate(x_test, y_test)"
   ]
  },
  {
   "cell_type": "code",
   "execution_count": null,
   "id": "ff99260c",
   "metadata": {},
   "outputs": [],
   "source": []
  }
 ],
 "metadata": {
  "kernelspec": {
   "display_name": "Python 3 (ipykernel)",
   "language": "python",
   "name": "python3"
  },
  "language_info": {
   "codemirror_mode": {
    "name": "ipython",
    "version": 3
   },
   "file_extension": ".py",
   "mimetype": "text/x-python",
   "name": "python",
   "nbconvert_exporter": "python",
   "pygments_lexer": "ipython3",
   "version": "3.9.13"
  }
 },
 "nbformat": 4,
 "nbformat_minor": 5
}
