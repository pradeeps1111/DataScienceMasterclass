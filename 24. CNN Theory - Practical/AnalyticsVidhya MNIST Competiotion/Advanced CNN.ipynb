{
 "cells": [
  {
   "cell_type": "code",
   "execution_count": 66,
   "id": "6dfb291d",
   "metadata": {},
   "outputs": [],
   "source": [
    "# Importing Necessary Libraries\n",
    "import keras\n",
    "from keras.models import Sequential\n",
    "from keras.layers import Dense, Dropout, Flatten,BatchNormalization\n",
    "from keras.layers import Conv2D, MaxPooling2D,GlobalAveragePooling2D\n",
    "from keras.utils import to_categorical\n",
    "import keras.utils as image\n",
    "import numpy as np\n",
    "import pandas as pd\n",
    "import matplotlib.pyplot as plt\n",
    "from sklearn.model_selection import train_test_split\n",
    "from tqdm import tqdm\n",
    "from keras.optimizers import SGD, Adam\n",
    "from keras.callbacks import EarlyStopping\n",
    "from keras.callbacks import TensorBoard\n",
    "\n",
    "%matplotlib inline"
   ]
  },
  {
   "cell_type": "code",
   "execution_count": 2,
   "id": "470565b3",
   "metadata": {},
   "outputs": [
    {
     "data": {
      "text/plain": [
       "'/Users/mohamednoordeenalaudeen/Documents/PersonalGit/DataScienceMasterclass/24. CNN Theory - Practical/AnalyticsVidhya MNIST Competiotion'"
      ]
     },
     "execution_count": 2,
     "metadata": {},
     "output_type": "execute_result"
    }
   ],
   "source": [
    "pwd"
   ]
  },
  {
   "cell_type": "code",
   "execution_count": 3,
   "id": "fb96a15a",
   "metadata": {},
   "outputs": [],
   "source": [
    "path = '/Users/mohamednoordeenalaudeen/Documents/PersonalGit/DataScienceMasterclass/24. CNN Theory - Practical/AnalyticsVidhya MNIST Competiotion/Train_UQcUa52'\n"
   ]
  },
  {
   "cell_type": "code",
   "execution_count": 4,
   "id": "b40de313",
   "metadata": {},
   "outputs": [
    {
     "data": {
      "text/html": [
       "<div>\n",
       "<style scoped>\n",
       "    .dataframe tbody tr th:only-of-type {\n",
       "        vertical-align: middle;\n",
       "    }\n",
       "\n",
       "    .dataframe tbody tr th {\n",
       "        vertical-align: top;\n",
       "    }\n",
       "\n",
       "    .dataframe thead th {\n",
       "        text-align: right;\n",
       "    }\n",
       "</style>\n",
       "<table border=\"1\" class=\"dataframe\">\n",
       "  <thead>\n",
       "    <tr style=\"text-align: right;\">\n",
       "      <th></th>\n",
       "      <th>filename</th>\n",
       "      <th>label</th>\n",
       "    </tr>\n",
       "  </thead>\n",
       "  <tbody>\n",
       "    <tr>\n",
       "      <th>0</th>\n",
       "      <td>0.png</td>\n",
       "      <td>4</td>\n",
       "    </tr>\n",
       "    <tr>\n",
       "      <th>1</th>\n",
       "      <td>1.png</td>\n",
       "      <td>9</td>\n",
       "    </tr>\n",
       "    <tr>\n",
       "      <th>2</th>\n",
       "      <td>2.png</td>\n",
       "      <td>1</td>\n",
       "    </tr>\n",
       "    <tr>\n",
       "      <th>3</th>\n",
       "      <td>3.png</td>\n",
       "      <td>7</td>\n",
       "    </tr>\n",
       "    <tr>\n",
       "      <th>4</th>\n",
       "      <td>4.png</td>\n",
       "      <td>3</td>\n",
       "    </tr>\n",
       "  </tbody>\n",
       "</table>\n",
       "</div>"
      ],
      "text/plain": [
       "  filename  label\n",
       "0    0.png      4\n",
       "1    1.png      9\n",
       "2    2.png      1\n",
       "3    3.png      7\n",
       "4    4.png      3"
      ]
     },
     "execution_count": 4,
     "metadata": {},
     "output_type": "execute_result"
    }
   ],
   "source": [
    "train = pd.read_csv(path+\"/train.csv\")    # reading the csv file\n",
    "\n",
    "# printing first five rows of the file\n",
    "train.head()"
   ]
  },
  {
   "cell_type": "code",
   "execution_count": 18,
   "id": "e46ddf45",
   "metadata": {},
   "outputs": [],
   "source": [
    "y_train = to_categorical(train['label'])"
   ]
  },
  {
   "cell_type": "code",
   "execution_count": 19,
   "id": "339ca198",
   "metadata": {},
   "outputs": [
    {
     "data": {
      "text/plain": [
       "array([[0., 0., 0., ..., 0., 0., 0.],\n",
       "       [0., 0., 0., ..., 0., 0., 1.],\n",
       "       [0., 1., 0., ..., 0., 0., 0.],\n",
       "       ...,\n",
       "       [0., 0., 0., ..., 0., 0., 1.],\n",
       "       [0., 0., 0., ..., 0., 0., 0.],\n",
       "       [1., 0., 0., ..., 0., 0., 0.]], dtype=float32)"
      ]
     },
     "execution_count": 19,
     "metadata": {},
     "output_type": "execute_result"
    }
   ],
   "source": [
    "y_train"
   ]
  },
  {
   "cell_type": "code",
   "execution_count": 5,
   "id": "c5d3aaec",
   "metadata": {},
   "outputs": [
    {
     "data": {
      "text/plain": [
       "'/Users/mohamednoordeenalaudeen/Documents/PersonalGit/DataScienceMasterclass/24. CNN Theory - Practical/AnalyticsVidhya MNIST Competiotion/Train_UQcUa52images/0.png'"
      ]
     },
     "execution_count": 5,
     "metadata": {},
     "output_type": "execute_result"
    }
   ],
   "source": [
    "path+'images/'+train['filename'][0]"
   ]
  },
  {
   "cell_type": "code",
   "execution_count": 6,
   "id": "64d94e89",
   "metadata": {},
   "outputs": [
    {
     "data": {
      "text/plain": [
       "'0.png'"
      ]
     },
     "execution_count": 6,
     "metadata": {},
     "output_type": "execute_result"
    }
   ],
   "source": [
    "train['filename'][0]"
   ]
  },
  {
   "cell_type": "code",
   "execution_count": 7,
   "id": "4a3110cc",
   "metadata": {},
   "outputs": [
    {
     "data": {
      "text/plain": [
       "'/Users/mohamednoordeenalaudeen/Documents/PersonalGit/DataScienceMasterclass/24. CNN Theory - Practical/AnalyticsVidhya MNIST Competiotion/Train_UQcUa52/Images/train/0.png'"
      ]
     },
     "execution_count": 7,
     "metadata": {},
     "output_type": "execute_result"
    }
   ],
   "source": [
    "path+'/Images/train/'+train['filename'][0]"
   ]
  },
  {
   "cell_type": "code",
   "execution_count": 8,
   "id": "a34c19a8",
   "metadata": {},
   "outputs": [],
   "source": [
    "pic = image.load_img(path+'/Images/train/'+train['filename'][0],target_size=(28,28,1))\n"
   ]
  },
  {
   "cell_type": "code",
   "execution_count": 9,
   "id": "fa629928",
   "metadata": {},
   "outputs": [
    {
     "data": {
      "text/plain": [
       "array([[[0., 0., 0.],\n",
       "        [0., 0., 0.],\n",
       "        [0., 0., 0.],\n",
       "        ...,\n",
       "        [0., 0., 0.],\n",
       "        [0., 0., 0.],\n",
       "        [0., 0., 0.]],\n",
       "\n",
       "       [[0., 0., 0.],\n",
       "        [0., 0., 0.],\n",
       "        [0., 0., 0.],\n",
       "        ...,\n",
       "        [0., 0., 0.],\n",
       "        [0., 0., 0.],\n",
       "        [0., 0., 0.]],\n",
       "\n",
       "       [[0., 0., 0.],\n",
       "        [0., 0., 0.],\n",
       "        [0., 0., 0.],\n",
       "        ...,\n",
       "        [0., 0., 0.],\n",
       "        [0., 0., 0.],\n",
       "        [0., 0., 0.]],\n",
       "\n",
       "       ...,\n",
       "\n",
       "       [[0., 0., 0.],\n",
       "        [0., 0., 0.],\n",
       "        [0., 0., 0.],\n",
       "        ...,\n",
       "        [0., 0., 0.],\n",
       "        [0., 0., 0.],\n",
       "        [0., 0., 0.]],\n",
       "\n",
       "       [[0., 0., 0.],\n",
       "        [0., 0., 0.],\n",
       "        [0., 0., 0.],\n",
       "        ...,\n",
       "        [0., 0., 0.],\n",
       "        [0., 0., 0.],\n",
       "        [0., 0., 0.]],\n",
       "\n",
       "       [[0., 0., 0.],\n",
       "        [0., 0., 0.],\n",
       "        [0., 0., 0.],\n",
       "        ...,\n",
       "        [0., 0., 0.],\n",
       "        [0., 0., 0.],\n",
       "        [0., 0., 0.]]], dtype=float32)"
      ]
     },
     "execution_count": 9,
     "metadata": {},
     "output_type": "execute_result"
    }
   ],
   "source": [
    "image.img_to_array(pic)\n"
   ]
  },
  {
   "cell_type": "code",
   "execution_count": 10,
   "id": "88c84e24",
   "metadata": {},
   "outputs": [
    {
     "name": "stderr",
     "output_type": "stream",
     "text": [
      "100%|███████████████████████████████████| 49000/49000 [00:06<00:00, 7398.94it/s]\n",
      "Clipping input data to the valid range for imshow with RGB data ([0..1] for floats or [0..255] for integers).\n"
     ]
    },
    {
     "data": {
      "text/plain": [
       "<matplotlib.image.AxesImage at 0x7f93a1ac30d0>"
      ]
     },
     "execution_count": 10,
     "metadata": {},
     "output_type": "execute_result"
    },
    {
     "data": {
      "image/png": "[encoded data removed]",
      "text/plain": [
       "<Figure size 640x480 with 1 Axes>"
      ]
     },
     "metadata": {},
     "output_type": "display_data"
    }
   ],
   "source": [
    "train_image = []\n",
    "for i in tqdm(range(train.shape[0])):\n",
    "    img = image.load_img(path+'/Images/train/'+train['filename'][i],target_size=(28,28,3))\n",
    "    img = image.img_to_array(img)\n",
    "    #img = img/255\n",
    "    train_image.append(img)\n",
    "X = np.array(train_image)\n",
    "X.shape \n",
    "plt.imshow(X[1])"
   ]
  },
  {
   "cell_type": "code",
   "execution_count": 74,
   "id": "966ad34c",
   "metadata": {},
   "outputs": [
    {
     "data": {
      "text/plain": [
       "array([[[0., 0., 0.],\n",
       "        [0., 0., 0.],\n",
       "        [0., 0., 0.],\n",
       "        ...,\n",
       "        [0., 0., 0.],\n",
       "        [0., 0., 0.],\n",
       "        [0., 0., 0.]],\n",
       "\n",
       "       [[0., 0., 0.],\n",
       "        [0., 0., 0.],\n",
       "        [0., 0., 0.],\n",
       "        ...,\n",
       "        [0., 0., 0.],\n",
       "        [0., 0., 0.],\n",
       "        [0., 0., 0.]],\n",
       "\n",
       "       [[0., 0., 0.],\n",
       "        [0., 0., 0.],\n",
       "        [0., 0., 0.],\n",
       "        ...,\n",
       "        [0., 0., 0.],\n",
       "        [0., 0., 0.],\n",
       "        [0., 0., 0.]],\n",
       "\n",
       "       ...,\n",
       "\n",
       "       [[0., 0., 0.],\n",
       "        [0., 0., 0.],\n",
       "        [0., 0., 0.],\n",
       "        ...,\n",
       "        [0., 0., 0.],\n",
       "        [0., 0., 0.],\n",
       "        [0., 0., 0.]],\n",
       "\n",
       "       [[0., 0., 0.],\n",
       "        [0., 0., 0.],\n",
       "        [0., 0., 0.],\n",
       "        ...,\n",
       "        [0., 0., 0.],\n",
       "        [0., 0., 0.],\n",
       "        [0., 0., 0.]],\n",
       "\n",
       "       [[0., 0., 0.],\n",
       "        [0., 0., 0.],\n",
       "        [0., 0., 0.],\n",
       "        ...,\n",
       "        [0., 0., 0.],\n",
       "        [0., 0., 0.],\n",
       "        [0., 0., 0.]]], dtype=float32)"
      ]
     },
     "execution_count": 74,
     "metadata": {},
     "output_type": "execute_result"
    }
   ],
   "source": [
    "X[1]"
   ]
  },
  {
   "cell_type": "code",
   "execution_count": 11,
   "id": "8e8d11bd",
   "metadata": {},
   "outputs": [
    {
     "data": {
      "text/plain": [
       "(49000, 28, 28, 3)"
      ]
     },
     "execution_count": 11,
     "metadata": {},
     "output_type": "execute_result"
    }
   ],
   "source": [
    "X.shape"
   ]
  },
  {
   "cell_type": "code",
   "execution_count": 12,
   "id": "af367b6e",
   "metadata": {},
   "outputs": [
    {
     "data": {
      "text/plain": [
       "(28, 28, 3)"
      ]
     },
     "execution_count": 12,
     "metadata": {},
     "output_type": "execute_result"
    }
   ],
   "source": [
    "X[0].shape"
   ]
  },
  {
   "cell_type": "code",
   "execution_count": 13,
   "id": "31eddd2e",
   "metadata": {},
   "outputs": [],
   "source": [
    "path_test = '/Users/mohamednoordeenalaudeen/Documents/PersonalGit/DataScienceMasterclass/24. CNN Theory - Practical/AnalyticsVidhya MNIST Competiotion/'"
   ]
  },
  {
   "cell_type": "code",
   "execution_count": 14,
   "id": "2fb457ae",
   "metadata": {},
   "outputs": [
    {
     "name": "stderr",
     "output_type": "stream",
     "text": [
      "100%|███████████████████████████████████| 21000/21000 [00:03<00:00, 6381.15it/s]\n"
     ]
    }
   ],
   "source": [
    "test = pd.read_csv(path_test +\"/Test_fCbTej3_0j1gHmj.csv\")    # reading the csv file\n",
    "test_image = []\n",
    "for i in tqdm(range(test.shape[0])):\n",
    "    img = image.load_img(path+'/Images/test/'+test['filename'][i],target_size=(28,28,3))\n",
    "    img = image.img_to_array(img)\n",
    "    #img = img/255\n",
    "    test_image.append(img)\n",
    "X_test = np.array(test_image)\n"
   ]
  },
  {
   "cell_type": "code",
   "execution_count": 15,
   "id": "aa524360",
   "metadata": {},
   "outputs": [
    {
     "data": {
      "text/plain": [
       "(21000, 28, 28, 3)"
      ]
     },
     "execution_count": 15,
     "metadata": {},
     "output_type": "execute_result"
    }
   ],
   "source": [
    "X_test.shape"
   ]
  },
  {
   "cell_type": "code",
   "execution_count": 20,
   "id": "7b39800f",
   "metadata": {},
   "outputs": [
    {
     "data": {
      "text/plain": [
       "array([[0., 0., 0., ..., 0., 0., 0.],\n",
       "       [0., 0., 0., ..., 0., 0., 1.],\n",
       "       [0., 1., 0., ..., 0., 0., 0.],\n",
       "       ...,\n",
       "       [0., 0., 0., ..., 0., 0., 1.],\n",
       "       [0., 0., 0., ..., 0., 0., 0.],\n",
       "       [1., 0., 0., ..., 0., 0., 0.]], dtype=float32)"
      ]
     },
     "execution_count": 20,
     "metadata": {},
     "output_type": "execute_result"
    }
   ],
   "source": [
    "y_train"
   ]
  },
  {
   "cell_type": "code",
   "execution_count": 21,
   "id": "137cc4f3",
   "metadata": {},
   "outputs": [],
   "source": [
    "model = Sequential()\n",
    "\n",
    "model.add(Conv2D(input_shape = (28,28,3),filters = 16, kernel_size = (3,3), strides = (2,2),\n",
    "                padding='valid',kernel_initializer = 'he_normal',\n",
    "                activation = 'relu'))\n",
    "model.add(MaxPooling2D(pool_size=(2, 2),strides = (1,1)))\n",
    "\n",
    "model.add(Flatten())\n",
    "\n",
    "model.add(Dense(10, kernel_initializer = 'he_normal', activation = 'relu'))\n",
    "model.add(BatchNormalization())\n",
    "\n",
    "model.add(Dense(10, kernel_initializer = 'he_normal', activation = 'softmax'))\n"
   ]
  },
  {
   "cell_type": "code",
   "execution_count": 22,
   "id": "d579d757",
   "metadata": {},
   "outputs": [
    {
     "name": "stdout",
     "output_type": "stream",
     "text": [
      "Model: \"sequential\"\n",
      "_________________________________________________________________\n",
      " Layer (type)                Output Shape              Param #   \n",
      "=================================================================\n",
      " conv2d (Conv2D)             (None, 13, 13, 16)        448       \n",
      "                                                                 \n",
      " max_pooling2d (MaxPooling2D  (None, 12, 12, 16)       0         \n",
      " )                                                               \n",
      "                                                                 \n",
      " flatten (Flatten)           (None, 2304)              0         \n",
      "                                                                 \n",
      " dense (Dense)               (None, 10)                23050     \n",
      "                                                                 \n",
      " batch_normalization (BatchN  (None, 10)               40        \n",
      " ormalization)                                                   \n",
      "                                                                 \n",
      " dense_1 (Dense)             (None, 10)                110       \n",
      "                                                                 \n",
      "=================================================================\n",
      "Total params: 23,648\n",
      "Trainable params: 23,628\n",
      "Non-trainable params: 20\n",
      "_________________________________________________________________\n"
     ]
    }
   ],
   "source": [
    "model.summary()\n",
    "\n",
    "\n",
    "\n"
   ]
  },
  {
   "cell_type": "code",
   "execution_count": 23,
   "id": "0dca9869",
   "metadata": {},
   "outputs": [],
   "source": [
    "optim = Adam()\n",
    "model.compile(optimizer = optim, loss = 'categorical_crossentropy', metrics = ['accuracy'] )\n"
   ]
  },
  {
   "cell_type": "code",
   "execution_count": 24,
   "id": "353760fb",
   "metadata": {},
   "outputs": [
    {
     "name": "stdout",
     "output_type": "stream",
     "text": [
      "Epoch 1/10\n",
      "2940/2940 - 5s - loss: 0.5611 - accuracy: 0.8536 - val_loss: 0.2298 - val_accuracy: 0.9345 - 5s/epoch - 2ms/step\n",
      "Epoch 2/10\n",
      "2940/2940 - 5s - loss: 0.2989 - accuracy: 0.9132 - val_loss: 0.2194 - val_accuracy: 0.9365 - 5s/epoch - 2ms/step\n",
      "Epoch 3/10\n",
      "2940/2940 - 4s - loss: 0.2668 - accuracy: 0.9231 - val_loss: 0.1871 - val_accuracy: 0.9434 - 4s/epoch - 2ms/step\n",
      "Epoch 4/10\n",
      "2940/2940 - 4s - loss: 0.2388 - accuracy: 0.9301 - val_loss: 0.1809 - val_accuracy: 0.9462 - 4s/epoch - 2ms/step\n",
      "Epoch 5/10\n",
      "2940/2940 - 5s - loss: 0.2283 - accuracy: 0.9340 - val_loss: 0.1785 - val_accuracy: 0.9463 - 5s/epoch - 2ms/step\n",
      "Epoch 6/10\n",
      "2940/2940 - 5s - loss: 0.2150 - accuracy: 0.9390 - val_loss: 0.2024 - val_accuracy: 0.9389 - 5s/epoch - 2ms/step\n",
      "Epoch 7/10\n",
      "2940/2940 - 5s - loss: 0.2083 - accuracy: 0.9396 - val_loss: 0.1956 - val_accuracy: 0.9419 - 5s/epoch - 2ms/step\n",
      "Epoch 8/10\n",
      "2940/2940 - 4s - loss: 0.2020 - accuracy: 0.9428 - val_loss: 0.1565 - val_accuracy: 0.9541 - 4s/epoch - 2ms/step\n",
      "Epoch 9/10\n",
      "2940/2940 - 4s - loss: 0.1906 - accuracy: 0.9449 - val_loss: 0.1478 - val_accuracy: 0.9549 - 4s/epoch - 2ms/step\n",
      "Epoch 10/10\n",
      "2940/2940 - 4s - loss: 0.1870 - accuracy: 0.9452 - val_loss: 0.1524 - val_accuracy: 0.9551 - 4s/epoch - 1ms/step\n"
     ]
    }
   ],
   "source": [
    "\n",
    "history = model.fit(X, y_train, epochs = 10, batch_size = 10, verbose = 2, validation_split = 0.4)\n",
    "\n"
   ]
  },
  {
   "cell_type": "code",
   "execution_count": 25,
   "id": "50d62233",
   "metadata": {},
   "outputs": [
    {
     "data": {
      "image/png": "[encoded data removed]",
      "text/plain": [
       "<Figure size 640x480 with 1 Axes>"
      ]
     },
     "metadata": {},
     "output_type": "display_data"
    }
   ],
   "source": [
    "plt.plot(history.history['accuracy'])\n",
    "plt.plot(history.history['val_accuracy'])\n",
    "plt.legend(['training', 'validation'])\n",
    "plt.show()"
   ]
  },
  {
   "cell_type": "code",
   "execution_count": 26,
   "id": "5acdc1da",
   "metadata": {},
   "outputs": [
    {
     "name": "stdout",
     "output_type": "stream",
     "text": [
      "1532/1532 [==============================] - 1s 881us/step - loss: 0.1075 - accuracy: 0.9682\n"
     ]
    },
    {
     "data": {
      "text/plain": [
       "[0.10746611654758453, 0.968163251876831]"
      ]
     },
     "execution_count": 26,
     "metadata": {},
     "output_type": "execute_result"
    }
   ],
   "source": [
    "model.evaluate(X, y_train)\n",
    "\n"
   ]
  },
  {
   "cell_type": "code",
   "execution_count": null,
   "id": "5f550cea",
   "metadata": {},
   "outputs": [],
   "source": []
  },
  {
   "cell_type": "code",
   "execution_count": null,
   "id": "5f0037db",
   "metadata": {},
   "outputs": [],
   "source": []
  },
  {
   "cell_type": "code",
   "execution_count": 27,
   "id": "d4b0c7b2",
   "metadata": {},
   "outputs": [
    {
     "name": "stdout",
     "output_type": "stream",
     "text": [
      "657/657 [==============================] - 1s 799us/step\n"
     ]
    }
   ],
   "source": [
    "res = np.argmax(model.predict(X_test),axis = 1)"
   ]
  },
  {
   "cell_type": "code",
   "execution_count": 28,
   "id": "c579e570",
   "metadata": {},
   "outputs": [
    {
     "data": {
      "text/plain": [
       "array([4, 0, 9, ..., 6, 6, 2])"
      ]
     },
     "execution_count": 28,
     "metadata": {},
     "output_type": "execute_result"
    }
   ],
   "source": [
    "res"
   ]
  },
  {
   "cell_type": "code",
   "execution_count": 29,
   "id": "ca4c9708",
   "metadata": {},
   "outputs": [],
   "source": [
    "res_df = pd.read_csv('sample_submission_npBPSZB.csv')"
   ]
  },
  {
   "cell_type": "code",
   "execution_count": 30,
   "id": "59260ca8",
   "metadata": {},
   "outputs": [],
   "source": [
    "res_df['label'] = res"
   ]
  },
  {
   "cell_type": "code",
   "execution_count": 31,
   "id": "97a92cfe",
   "metadata": {},
   "outputs": [
    {
     "data": {
      "text/plain": [
       "1    2424\n",
       "9    2195\n",
       "3    2170\n",
       "7    2157\n",
       "6    2138\n",
       "0    2071\n",
       "2    2068\n",
       "4    2026\n",
       "8    1905\n",
       "5    1846\n",
       "Name: label, dtype: int64"
      ]
     },
     "execution_count": 31,
     "metadata": {},
     "output_type": "execute_result"
    }
   ],
   "source": [
    "res_df['label'].value_counts()"
   ]
  },
  {
   "cell_type": "code",
   "execution_count": 32,
   "id": "adf0d40c",
   "metadata": {},
   "outputs": [],
   "source": [
    "res_df.to_csv('mnist_cnn.csv', index= False)"
   ]
  },
  {
   "cell_type": "code",
   "execution_count": 33,
   "id": "9104f414",
   "metadata": {},
   "outputs": [
    {
     "data": {
      "text/html": [
       "<div>\n",
       "<style scoped>\n",
       "    .dataframe tbody tr th:only-of-type {\n",
       "        vertical-align: middle;\n",
       "    }\n",
       "\n",
       "    .dataframe tbody tr th {\n",
       "        vertical-align: top;\n",
       "    }\n",
       "\n",
       "    .dataframe thead th {\n",
       "        text-align: right;\n",
       "    }\n",
       "</style>\n",
       "<table border=\"1\" class=\"dataframe\">\n",
       "  <thead>\n",
       "    <tr style=\"text-align: right;\">\n",
       "      <th></th>\n",
       "      <th>filename</th>\n",
       "      <th>label</th>\n",
       "    </tr>\n",
       "  </thead>\n",
       "  <tbody>\n",
       "    <tr>\n",
       "      <th>0</th>\n",
       "      <td>49000.png</td>\n",
       "      <td>4</td>\n",
       "    </tr>\n",
       "    <tr>\n",
       "      <th>1</th>\n",
       "      <td>49001.png</td>\n",
       "      <td>0</td>\n",
       "    </tr>\n",
       "    <tr>\n",
       "      <th>2</th>\n",
       "      <td>49002.png</td>\n",
       "      <td>9</td>\n",
       "    </tr>\n",
       "    <tr>\n",
       "      <th>3</th>\n",
       "      <td>49003.png</td>\n",
       "      <td>7</td>\n",
       "    </tr>\n",
       "    <tr>\n",
       "      <th>4</th>\n",
       "      <td>49004.png</td>\n",
       "      <td>9</td>\n",
       "    </tr>\n",
       "    <tr>\n",
       "      <th>...</th>\n",
       "      <td>...</td>\n",
       "      <td>...</td>\n",
       "    </tr>\n",
       "    <tr>\n",
       "      <th>20995</th>\n",
       "      <td>69995.png</td>\n",
       "      <td>9</td>\n",
       "    </tr>\n",
       "    <tr>\n",
       "      <th>20996</th>\n",
       "      <td>69996.png</td>\n",
       "      <td>2</td>\n",
       "    </tr>\n",
       "    <tr>\n",
       "      <th>20997</th>\n",
       "      <td>69997.png</td>\n",
       "      <td>6</td>\n",
       "    </tr>\n",
       "    <tr>\n",
       "      <th>20998</th>\n",
       "      <td>69998.png</td>\n",
       "      <td>6</td>\n",
       "    </tr>\n",
       "    <tr>\n",
       "      <th>20999</th>\n",
       "      <td>69999.png</td>\n",
       "      <td>2</td>\n",
       "    </tr>\n",
       "  </tbody>\n",
       "</table>\n",
       "<p>21000 rows × 2 columns</p>\n",
       "</div>"
      ],
      "text/plain": [
       "        filename  label\n",
       "0      49000.png      4\n",
       "1      49001.png      0\n",
       "2      49002.png      9\n",
       "3      49003.png      7\n",
       "4      49004.png      9\n",
       "...          ...    ...\n",
       "20995  69995.png      9\n",
       "20996  69996.png      2\n",
       "20997  69997.png      6\n",
       "20998  69998.png      6\n",
       "20999  69999.png      2\n",
       "\n",
       "[21000 rows x 2 columns]"
      ]
     },
     "execution_count": 33,
     "metadata": {},
     "output_type": "execute_result"
    }
   ],
   "source": [
    "res_df"
   ]
  },
  {
   "cell_type": "markdown",
   "id": "04ad0137",
   "metadata": {},
   "source": [
    "# Advanced CNN"
   ]
  },
  {
   "cell_type": "code",
   "execution_count": 47,
   "id": "b9df1ff2",
   "metadata": {},
   "outputs": [],
   "source": [
    "model = Sequential()\n",
    "\n",
    "model.add(Conv2D(input_shape = (28,28,3),filters = 16, kernel_size = (3,3), strides = (2,2),\n",
    "                padding='valid',kernel_initializer = 'he_normal',\n",
    "                activation = 'relu'))\n",
    "\n",
    "model.add(MaxPooling2D(pool_size=(2, 2),strides = (1,1)))\n",
    "\n",
    "model.add(Conv2D(input_shape = (28,28,3),filters = 16, kernel_size = (3,3), strides = (2,2),\n",
    "                padding='valid',kernel_initializer = 'he_normal',\n",
    "                activation = 'relu'))\n",
    "model.add(MaxPooling2D(pool_size=(2, 2),strides = (1,1)))\n",
    "\n",
    "\n",
    "model.add(Flatten())\n",
    "\n",
    "model.add(Dense(10, kernel_initializer = 'he_normal', activation = 'relu'))\n",
    "model.add(BatchNormalization())\n",
    "\n",
    "model.add(Dense(10, kernel_initializer = 'he_normal', activation = 'relu'))\n",
    "model.add(BatchNormalization())\n",
    "\n",
    "model.add(Dense(10, kernel_initializer = 'he_normal', activation = 'softmax'))\n"
   ]
  },
  {
   "cell_type": "code",
   "execution_count": 48,
   "id": "9661f7e8",
   "metadata": {},
   "outputs": [
    {
     "name": "stdout",
     "output_type": "stream",
     "text": [
      "Model: \"sequential_11\"\n",
      "_________________________________________________________________\n",
      " Layer (type)                Output Shape              Param #   \n",
      "=================================================================\n",
      " conv2d_27 (Conv2D)          (None, 13, 13, 16)        448       \n",
      "                                                                 \n",
      " max_pooling2d_17 (MaxPoolin  (None, 12, 12, 16)       0         \n",
      " g2D)                                                            \n",
      "                                                                 \n",
      " conv2d_28 (Conv2D)          (None, 5, 5, 16)          2320      \n",
      "                                                                 \n",
      " max_pooling2d_18 (MaxPoolin  (None, 4, 4, 16)         0         \n",
      " g2D)                                                            \n",
      "                                                                 \n",
      " flatten_8 (Flatten)         (None, 256)               0         \n",
      "                                                                 \n",
      " dense_22 (Dense)            (None, 10)                2570      \n",
      "                                                                 \n",
      " batch_normalization_14 (Bat  (None, 10)               40        \n",
      " chNormalization)                                                \n",
      "                                                                 \n",
      " dense_23 (Dense)            (None, 10)                110       \n",
      "                                                                 \n",
      " batch_normalization_15 (Bat  (None, 10)               40        \n",
      " chNormalization)                                                \n",
      "                                                                 \n",
      " dense_24 (Dense)            (None, 10)                110       \n",
      "                                                                 \n",
      "=================================================================\n",
      "Total params: 5,638\n",
      "Trainable params: 5,598\n",
      "Non-trainable params: 40\n",
      "_________________________________________________________________\n"
     ]
    }
   ],
   "source": [
    "model.summary()\n"
   ]
  },
  {
   "cell_type": "code",
   "execution_count": 49,
   "id": "a31b4600",
   "metadata": {},
   "outputs": [],
   "source": [
    "optim = Adam()\n",
    "model.compile(optimizer = optim, loss = 'categorical_crossentropy', metrics = ['accuracy'] )\n"
   ]
  },
  {
   "cell_type": "code",
   "execution_count": 52,
   "id": "2de3c1dd",
   "metadata": {},
   "outputs": [
    {
     "name": "stdout",
     "output_type": "stream",
     "text": [
      "Epoch 1/20\n",
      "2940/2940 - 5s - loss: 0.1043 - accuracy: 0.9692 - val_loss: 0.1244 - val_accuracy: 0.9635 - 5s/epoch - 2ms/step\n",
      "Epoch 2/20\n",
      "2940/2940 - 5s - loss: 0.0998 - accuracy: 0.9698 - val_loss: 0.0772 - val_accuracy: 0.9769 - 5s/epoch - 2ms/step\n",
      "Epoch 3/20\n",
      "2940/2940 - 5s - loss: 0.0976 - accuracy: 0.9704 - val_loss: 0.0860 - val_accuracy: 0.9756 - 5s/epoch - 2ms/step\n",
      "Epoch 4/20\n",
      "2940/2940 - 5s - loss: 0.0951 - accuracy: 0.9702 - val_loss: 0.0823 - val_accuracy: 0.9761 - 5s/epoch - 2ms/step\n",
      "Epoch 5/20\n",
      "2940/2940 - 5s - loss: 0.0908 - accuracy: 0.9719 - val_loss: 0.1388 - val_accuracy: 0.9589 - 5s/epoch - 2ms/step\n",
      "Epoch 6/20\n",
      "2940/2940 - 5s - loss: 0.0848 - accuracy: 0.9747 - val_loss: 0.0806 - val_accuracy: 0.9774 - 5s/epoch - 2ms/step\n",
      "Epoch 7/20\n",
      "2940/2940 - 5s - loss: 0.0845 - accuracy: 0.9738 - val_loss: 0.0867 - val_accuracy: 0.9754 - 5s/epoch - 2ms/step\n",
      "Epoch 8/20\n",
      "2940/2940 - 5s - loss: 0.0791 - accuracy: 0.9768 - val_loss: 0.0779 - val_accuracy: 0.9778 - 5s/epoch - 2ms/step\n",
      "Epoch 9/20\n",
      "2940/2940 - 5s - loss: 0.0816 - accuracy: 0.9754 - val_loss: 0.0880 - val_accuracy: 0.9756 - 5s/epoch - 2ms/step\n",
      "Epoch 10/20\n",
      "2940/2940 - 6s - loss: 0.0759 - accuracy: 0.9761 - val_loss: 0.0718 - val_accuracy: 0.9777 - 6s/epoch - 2ms/step\n",
      "Epoch 11/20\n",
      "2940/2940 - 5s - loss: 0.0758 - accuracy: 0.9769 - val_loss: 0.0625 - val_accuracy: 0.9817 - 5s/epoch - 2ms/step\n",
      "Epoch 12/20\n",
      "2940/2940 - 5s - loss: 0.0802 - accuracy: 0.9746 - val_loss: 0.0811 - val_accuracy: 0.9759 - 5s/epoch - 2ms/step\n",
      "Epoch 13/20\n",
      "2940/2940 - 5s - loss: 0.0738 - accuracy: 0.9774 - val_loss: 0.0923 - val_accuracy: 0.9735 - 5s/epoch - 2ms/step\n",
      "Epoch 14/20\n",
      "2940/2940 - 5s - loss: 0.0710 - accuracy: 0.9784 - val_loss: 0.0876 - val_accuracy: 0.9765 - 5s/epoch - 2ms/step\n",
      "Epoch 15/20\n",
      "2940/2940 - 5s - loss: 0.0748 - accuracy: 0.9781 - val_loss: 0.0808 - val_accuracy: 0.9774 - 5s/epoch - 2ms/step\n",
      "Epoch 16/20\n",
      "2940/2940 - 5s - loss: 0.0716 - accuracy: 0.9777 - val_loss: 0.0627 - val_accuracy: 0.9818 - 5s/epoch - 2ms/step\n",
      "Epoch 17/20\n",
      "2940/2940 - 5s - loss: 0.0669 - accuracy: 0.9786 - val_loss: 0.1038 - val_accuracy: 0.9720 - 5s/epoch - 2ms/step\n",
      "Epoch 18/20\n",
      "2940/2940 - 5s - loss: 0.0694 - accuracy: 0.9792 - val_loss: 0.0825 - val_accuracy: 0.9765 - 5s/epoch - 2ms/step\n",
      "Epoch 19/20\n",
      "2940/2940 - 5s - loss: 0.0656 - accuracy: 0.9799 - val_loss: 0.0757 - val_accuracy: 0.9775 - 5s/epoch - 2ms/step\n",
      "Epoch 20/20\n",
      "2940/2940 - 5s - loss: 0.0645 - accuracy: 0.9804 - val_loss: 0.0640 - val_accuracy: 0.9809 - 5s/epoch - 2ms/step\n"
     ]
    }
   ],
   "source": [
    "history = model.fit(X, y_train, epochs = 20, batch_size = 10, verbose = 2, validation_split = 0.4)\n"
   ]
  },
  {
   "cell_type": "code",
   "execution_count": 53,
   "id": "391b6bf7",
   "metadata": {},
   "outputs": [
    {
     "data": {
      "image/png": "[encoded data removed]",
      "text/plain": [
       "<Figure size 640x480 with 1 Axes>"
      ]
     },
     "metadata": {},
     "output_type": "display_data"
    }
   ],
   "source": [
    "plt.plot(history.history['accuracy'])\n",
    "plt.plot(history.history['val_accuracy'])\n",
    "plt.legend(['training', 'validation'])\n",
    "plt.show()"
   ]
  },
  {
   "cell_type": "code",
   "execution_count": 54,
   "id": "83dd63a6",
   "metadata": {},
   "outputs": [
    {
     "name": "stdout",
     "output_type": "stream",
     "text": [
      "1532/1532 [==============================] - 2s 963us/step - loss: 0.0363 - accuracy: 0.9891\n"
     ]
    },
    {
     "data": {
      "text/plain": [
       "[0.036261703819036484, 0.989081621170044]"
      ]
     },
     "execution_count": 54,
     "metadata": {},
     "output_type": "execute_result"
    }
   ],
   "source": [
    "model.evaluate(X, y_train)\n"
   ]
  },
  {
   "cell_type": "code",
   "execution_count": 55,
   "id": "ca32ffac",
   "metadata": {},
   "outputs": [
    {
     "name": "stdout",
     "output_type": "stream",
     "text": [
      "657/657 [==============================] - 1s 915us/step\n"
     ]
    }
   ],
   "source": [
    "res_advanced_cnn = np.argmax(model.predict(X_test),axis = 1)"
   ]
  },
  {
   "cell_type": "code",
   "execution_count": 56,
   "id": "d35f5f81",
   "metadata": {},
   "outputs": [
    {
     "data": {
      "text/plain": [
       "array([4, 0, 9, ..., 6, 6, 2])"
      ]
     },
     "execution_count": 56,
     "metadata": {},
     "output_type": "execute_result"
    }
   ],
   "source": [
    "res_advanced_cnn"
   ]
  },
  {
   "cell_type": "code",
   "execution_count": 57,
   "id": "12d322f3",
   "metadata": {},
   "outputs": [],
   "source": [
    "res_df['label'] = res_advanced_cnn"
   ]
  },
  {
   "cell_type": "code",
   "execution_count": 58,
   "id": "1020bbac",
   "metadata": {},
   "outputs": [],
   "source": [
    "res_df.to_csv('mnist_advanced_cnn.csv', index= False)"
   ]
  },
  {
   "cell_type": "code",
   "execution_count": null,
   "id": "bec9331c",
   "metadata": {},
   "outputs": [],
   "source": []
  },
  {
   "cell_type": "code",
   "execution_count": 61,
   "id": "77159b32",
   "metadata": {},
   "outputs": [],
   "source": [
    "model = Sequential()\n",
    "\n",
    "model.add(Conv2D(input_shape = (28,28,3),filters = 16, kernel_size = (3,3), strides = (2,2),\n",
    "                padding='valid',kernel_initializer = 'he_normal',\n",
    "                activation = 'relu'))\n",
    "model.add(BatchNormalization())\n",
    "model.add(MaxPooling2D(pool_size=(2, 2),strides = (1,1)))\n",
    "\n",
    "model.add(Conv2D(input_shape = (28,28,3),filters = 16, kernel_size = (3,3), strides = (2,2),\n",
    "                padding='valid',kernel_initializer = 'he_normal',\n",
    "                activation = 'relu'))\n",
    "model.add(BatchNormalization())\n",
    "model.add(MaxPooling2D(pool_size=(2, 2),strides = (1,1)))\n",
    "\n",
    "\n",
    "model.add(Flatten())\n",
    "\n",
    "model.add(Dense(10, kernel_initializer = 'he_normal', activation = 'relu'))\n",
    "model.add(BatchNormalization())\n",
    "\n",
    "model.add(Dense(10, kernel_initializer = 'he_normal', activation = 'relu'))\n",
    "model.add(BatchNormalization())\n",
    "\n",
    "model.add(Dense(10, kernel_initializer = 'he_normal', activation = 'softmax'))\n"
   ]
  },
  {
   "cell_type": "code",
   "execution_count": 62,
   "id": "d3e20529",
   "metadata": {},
   "outputs": [],
   "source": [
    "optim = Adam()\n",
    "model.compile(optimizer = optim, loss = 'categorical_crossentropy', metrics = ['accuracy'] )\n"
   ]
  },
  {
   "cell_type": "code",
   "execution_count": 63,
   "id": "971f50b6",
   "metadata": {},
   "outputs": [
    {
     "name": "stdout",
     "output_type": "stream",
     "text": [
      "Epoch 1/20\n",
      "2940/2940 - 6s - loss: 0.6922 - accuracy: 0.7876 - val_loss: 0.2103 - val_accuracy: 0.9374 - 6s/epoch - 2ms/step\n",
      "Epoch 2/20\n",
      "2940/2940 - 6s - loss: 0.2782 - accuracy: 0.9182 - val_loss: 0.1654 - val_accuracy: 0.9493 - 6s/epoch - 2ms/step\n",
      "Epoch 3/20\n",
      "2940/2940 - 7s - loss: 0.2066 - accuracy: 0.9366 - val_loss: 0.1128 - val_accuracy: 0.9653 - 7s/epoch - 2ms/step\n",
      "Epoch 4/20\n",
      "2940/2940 - 6s - loss: 0.1836 - accuracy: 0.9446 - val_loss: 0.1140 - val_accuracy: 0.9660 - 6s/epoch - 2ms/step\n",
      "Epoch 5/20\n",
      "2940/2940 - 6s - loss: 0.1602 - accuracy: 0.9517 - val_loss: 0.1214 - val_accuracy: 0.9646 - 6s/epoch - 2ms/step\n",
      "Epoch 6/20\n",
      "2940/2940 - 6s - loss: 0.1488 - accuracy: 0.9539 - val_loss: 0.0997 - val_accuracy: 0.9696 - 6s/epoch - 2ms/step\n",
      "Epoch 7/20\n",
      "2940/2940 - 6s - loss: 0.1420 - accuracy: 0.9571 - val_loss: 0.0958 - val_accuracy: 0.9721 - 6s/epoch - 2ms/step\n",
      "Epoch 8/20\n",
      "2940/2940 - 6s - loss: 0.1364 - accuracy: 0.9589 - val_loss: 0.0973 - val_accuracy: 0.9710 - 6s/epoch - 2ms/step\n",
      "Epoch 9/20\n",
      "2940/2940 - 6s - loss: 0.1278 - accuracy: 0.9602 - val_loss: 0.0976 - val_accuracy: 0.9711 - 6s/epoch - 2ms/step\n",
      "Epoch 10/20\n",
      "2940/2940 - 6s - loss: 0.1230 - accuracy: 0.9624 - val_loss: 0.0949 - val_accuracy: 0.9701 - 6s/epoch - 2ms/step\n",
      "Epoch 11/20\n",
      "2940/2940 - 6s - loss: 0.1195 - accuracy: 0.9633 - val_loss: 0.0868 - val_accuracy: 0.9742 - 6s/epoch - 2ms/step\n",
      "Epoch 12/20\n",
      "2940/2940 - 6s - loss: 0.1147 - accuracy: 0.9655 - val_loss: 0.0940 - val_accuracy: 0.9717 - 6s/epoch - 2ms/step\n",
      "Epoch 13/20\n",
      "2940/2940 - 7s - loss: 0.1133 - accuracy: 0.9654 - val_loss: 0.0947 - val_accuracy: 0.9725 - 7s/epoch - 2ms/step\n",
      "Epoch 14/20\n",
      "2940/2940 - 7s - loss: 0.1085 - accuracy: 0.9657 - val_loss: 0.0765 - val_accuracy: 0.9779 - 7s/epoch - 2ms/step\n",
      "Epoch 15/20\n",
      "2940/2940 - 6s - loss: 0.1046 - accuracy: 0.9670 - val_loss: 0.0820 - val_accuracy: 0.9758 - 6s/epoch - 2ms/step\n",
      "Epoch 16/20\n",
      "2940/2940 - 6s - loss: 0.1016 - accuracy: 0.9685 - val_loss: 0.0893 - val_accuracy: 0.9739 - 6s/epoch - 2ms/step\n",
      "Epoch 17/20\n",
      "2940/2940 - 6s - loss: 0.1029 - accuracy: 0.9691 - val_loss: 0.0923 - val_accuracy: 0.9726 - 6s/epoch - 2ms/step\n",
      "Epoch 18/20\n",
      "2940/2940 - 6s - loss: 0.1017 - accuracy: 0.9684 - val_loss: 0.0880 - val_accuracy: 0.9753 - 6s/epoch - 2ms/step\n",
      "Epoch 19/20\n",
      "2940/2940 - 6s - loss: 0.0972 - accuracy: 0.9714 - val_loss: 0.0762 - val_accuracy: 0.9765 - 6s/epoch - 2ms/step\n",
      "Epoch 20/20\n",
      "2940/2940 - 6s - loss: 0.0934 - accuracy: 0.9716 - val_loss: 0.0834 - val_accuracy: 0.9743 - 6s/epoch - 2ms/step\n"
     ]
    }
   ],
   "source": [
    "history = model.fit(X, y_train, epochs = 20, batch_size = 10, verbose = 2, validation_split = 0.4)\n"
   ]
  },
  {
   "cell_type": "code",
   "execution_count": 64,
   "id": "aa444430",
   "metadata": {},
   "outputs": [
    {
     "name": "stdout",
     "output_type": "stream",
     "text": [
      "1532/1532 [==============================] - 2s 1ms/step - loss: 0.0563 - accuracy: 0.9826\n"
     ]
    },
    {
     "data": {
      "text/plain": [
       "[0.056330639868974686, 0.9825714230537415]"
      ]
     },
     "execution_count": 64,
     "metadata": {},
     "output_type": "execute_result"
    }
   ],
   "source": [
    "model.evaluate(X, y_train)"
   ]
  },
  {
   "cell_type": "code",
   "execution_count": 65,
   "id": "d6193958",
   "metadata": {},
   "outputs": [],
   "source": []
  },
  {
   "cell_type": "code",
   "execution_count": 68,
   "id": "024fa432",
   "metadata": {},
   "outputs": [],
   "source": [
    "callback = EarlyStopping(monitor='loss', patience=3)"
   ]
  },
  {
   "cell_type": "code",
   "execution_count": 69,
   "id": "0b329163",
   "metadata": {},
   "outputs": [
    {
     "name": "stdout",
     "output_type": "stream",
     "text": [
      "Epoch 1/20\n",
      "2940/2940 - 6s - loss: 0.0901 - accuracy: 0.9730 - val_loss: 0.0750 - val_accuracy: 0.9779 - 6s/epoch - 2ms/step\n",
      "Epoch 2/20\n",
      "2940/2940 - 6s - loss: 0.0935 - accuracy: 0.9713 - val_loss: 0.0715 - val_accuracy: 0.9783 - 6s/epoch - 2ms/step\n",
      "Epoch 3/20\n",
      "2940/2940 - 6s - loss: 0.0901 - accuracy: 0.9729 - val_loss: 0.0745 - val_accuracy: 0.9780 - 6s/epoch - 2ms/step\n",
      "Epoch 4/20\n",
      "2940/2940 - 6s - loss: 0.0896 - accuracy: 0.9716 - val_loss: 0.0777 - val_accuracy: 0.9767 - 6s/epoch - 2ms/step\n",
      "Epoch 5/20\n",
      "2940/2940 - 6s - loss: 0.0894 - accuracy: 0.9729 - val_loss: 0.0688 - val_accuracy: 0.9799 - 6s/epoch - 2ms/step\n",
      "Epoch 6/20\n",
      "2940/2940 - 7s - loss: 0.0882 - accuracy: 0.9733 - val_loss: 0.0701 - val_accuracy: 0.9795 - 7s/epoch - 2ms/step\n",
      "Epoch 7/20\n",
      "2940/2940 - 6s - loss: 0.0823 - accuracy: 0.9748 - val_loss: 0.0801 - val_accuracy: 0.9781 - 6s/epoch - 2ms/step\n",
      "Epoch 8/20\n",
      "2940/2940 - 6s - loss: 0.0861 - accuracy: 0.9732 - val_loss: 0.0695 - val_accuracy: 0.9787 - 6s/epoch - 2ms/step\n",
      "Epoch 9/20\n",
      "2940/2940 - 6s - loss: 0.0849 - accuracy: 0.9734 - val_loss: 0.0781 - val_accuracy: 0.9775 - 6s/epoch - 2ms/step\n",
      "Epoch 10/20\n",
      "2940/2940 - 6s - loss: 0.0814 - accuracy: 0.9750 - val_loss: 0.0750 - val_accuracy: 0.9778 - 6s/epoch - 2ms/step\n",
      "Epoch 11/20\n",
      "2940/2940 - 6s - loss: 0.0789 - accuracy: 0.9752 - val_loss: 0.0750 - val_accuracy: 0.9782 - 6s/epoch - 2ms/step\n",
      "Epoch 12/20\n",
      "2940/2940 - 6s - loss: 0.0782 - accuracy: 0.9749 - val_loss: 0.0758 - val_accuracy: 0.9773 - 6s/epoch - 2ms/step\n",
      "Epoch 13/20\n",
      "2940/2940 - 6s - loss: 0.0718 - accuracy: 0.9777 - val_loss: 0.0759 - val_accuracy: 0.9782 - 6s/epoch - 2ms/step\n",
      "Epoch 14/20\n",
      "2940/2940 - 6s - loss: 0.0778 - accuracy: 0.9755 - val_loss: 0.0746 - val_accuracy: 0.9783 - 6s/epoch - 2ms/step\n",
      "Epoch 15/20\n",
      "2940/2940 - 7s - loss: 0.0791 - accuracy: 0.9755 - val_loss: 0.0748 - val_accuracy: 0.9770 - 7s/epoch - 2ms/step\n",
      "Epoch 16/20\n",
      "2940/2940 - 7s - loss: 0.0771 - accuracy: 0.9763 - val_loss: 0.0781 - val_accuracy: 0.9781 - 7s/epoch - 2ms/step\n"
     ]
    }
   ],
   "source": [
    "history = model.fit(X, y_train, epochs = 20, batch_size = 10, \n",
    "                    verbose = 2, validation_split = 0.4,\n",
    "                    callbacks=[callback])"
   ]
  },
  {
   "cell_type": "code",
   "execution_count": 70,
   "id": "8e96c3fa",
   "metadata": {},
   "outputs": [
    {
     "name": "stdout",
     "output_type": "stream",
     "text": [
      "1532/1532 [==============================] - 2s 1ms/step - loss: 0.0464 - accuracy: 0.9864\n"
     ]
    },
    {
     "data": {
      "text/plain": [
       "[0.04641835764050484, 0.9863673448562622]"
      ]
     },
     "execution_count": 70,
     "metadata": {},
     "output_type": "execute_result"
    }
   ],
   "source": [
    "model.evaluate(X, y_train)\n"
   ]
  },
  {
   "cell_type": "code",
   "execution_count": 71,
   "id": "b1642079",
   "metadata": {},
   "outputs": [],
   "source": []
  },
  {
   "cell_type": "code",
   "execution_count": 72,
   "id": "662941fa",
   "metadata": {},
   "outputs": [],
   "source": [
    "tensorboard_callback = TensorBoard(log_dir=\"./logs\")\n"
   ]
  },
  {
   "cell_type": "code",
   "execution_count": null,
   "id": "19d6a75b",
   "metadata": {},
   "outputs": [],
   "source": []
  },
  {
   "cell_type": "code",
   "execution_count": 73,
   "id": "13f095ee",
   "metadata": {},
   "outputs": [
    {
     "name": "stdout",
     "output_type": "stream",
     "text": [
      "Epoch 1/20\n",
      "2940/2940 - 6s - loss: 0.0731 - accuracy: 0.9766 - val_loss: 0.0753 - val_accuracy: 0.9784 - 6s/epoch - 2ms/step\n",
      "Epoch 2/20\n",
      "2940/2940 - 6s - loss: 0.0727 - accuracy: 0.9771 - val_loss: 0.0741 - val_accuracy: 0.9784 - 6s/epoch - 2ms/step\n",
      "Epoch 3/20\n",
      "2940/2940 - 6s - loss: 0.0710 - accuracy: 0.9778 - val_loss: 0.0801 - val_accuracy: 0.9776 - 6s/epoch - 2ms/step\n",
      "Epoch 4/20\n",
      "2940/2940 - 6s - loss: 0.0729 - accuracy: 0.9767 - val_loss: 0.0730 - val_accuracy: 0.9787 - 6s/epoch - 2ms/step\n",
      "Epoch 5/20\n",
      "2940/2940 - 7s - loss: 0.0693 - accuracy: 0.9784 - val_loss: 0.0713 - val_accuracy: 0.9789 - 7s/epoch - 2ms/step\n",
      "Epoch 6/20\n",
      "2940/2940 - 7s - loss: 0.0722 - accuracy: 0.9772 - val_loss: 0.0732 - val_accuracy: 0.9786 - 7s/epoch - 2ms/step\n",
      "Epoch 7/20\n",
      "2940/2940 - 6s - loss: 0.0702 - accuracy: 0.9774 - val_loss: 0.0809 - val_accuracy: 0.9765 - 6s/epoch - 2ms/step\n",
      "Epoch 8/20\n",
      "2940/2940 - 6s - loss: 0.0682 - accuracy: 0.9785 - val_loss: 0.0713 - val_accuracy: 0.9791 - 6s/epoch - 2ms/step\n",
      "Epoch 9/20\n",
      "2940/2940 - 6s - loss: 0.0659 - accuracy: 0.9788 - val_loss: 0.0782 - val_accuracy: 0.9772 - 6s/epoch - 2ms/step\n",
      "Epoch 10/20\n",
      "2940/2940 - 6s - loss: 0.0647 - accuracy: 0.9794 - val_loss: 0.0720 - val_accuracy: 0.9793 - 6s/epoch - 2ms/step\n",
      "Epoch 11/20\n",
      "2940/2940 - 6s - loss: 0.0645 - accuracy: 0.9799 - val_loss: 0.0765 - val_accuracy: 0.9773 - 6s/epoch - 2ms/step\n",
      "Epoch 12/20\n",
      "2940/2940 - 7s - loss: 0.0640 - accuracy: 0.9804 - val_loss: 0.0717 - val_accuracy: 0.9794 - 7s/epoch - 2ms/step\n",
      "Epoch 13/20\n",
      "2940/2940 - 6s - loss: 0.0650 - accuracy: 0.9796 - val_loss: 0.0771 - val_accuracy: 0.9779 - 6s/epoch - 2ms/step\n",
      "Epoch 14/20\n",
      "2940/2940 - 7s - loss: 0.0631 - accuracy: 0.9803 - val_loss: 0.1116 - val_accuracy: 0.9688 - 7s/epoch - 2ms/step\n",
      "Epoch 15/20\n",
      "2940/2940 - 7s - loss: 0.0650 - accuracy: 0.9793 - val_loss: 0.0700 - val_accuracy: 0.9795 - 7s/epoch - 2ms/step\n",
      "Epoch 16/20\n",
      "2940/2940 - 6s - loss: 0.0656 - accuracy: 0.9800 - val_loss: 0.0706 - val_accuracy: 0.9802 - 6s/epoch - 2ms/step\n",
      "Epoch 17/20\n",
      "2940/2940 - 6s - loss: 0.0605 - accuracy: 0.9808 - val_loss: 0.0771 - val_accuracy: 0.9772 - 6s/epoch - 2ms/step\n",
      "Epoch 18/20\n",
      "2940/2940 - 6s - loss: 0.0630 - accuracy: 0.9808 - val_loss: 0.0763 - val_accuracy: 0.9788 - 6s/epoch - 2ms/step\n",
      "Epoch 19/20\n",
      "2940/2940 - 6s - loss: 0.0599 - accuracy: 0.9814 - val_loss: 0.0772 - val_accuracy: 0.9778 - 6s/epoch - 2ms/step\n",
      "Epoch 20/20\n",
      "2940/2940 - 7s - loss: 0.0643 - accuracy: 0.9796 - val_loss: 0.0748 - val_accuracy: 0.9782 - 7s/epoch - 2ms/step\n"
     ]
    }
   ],
   "source": [
    "history = model.fit(X, y_train, epochs = 20, batch_size = 10, \n",
    "                    verbose = 2, validation_split = 0.4,\n",
    "                    callbacks=[callback,tensorboard_callback ])"
   ]
  },
  {
   "cell_type": "code",
   "execution_count": null,
   "id": "825240ee",
   "metadata": {},
   "outputs": [],
   "source": []
  },
  {
   "cell_type": "code",
   "execution_count": null,
   "id": "9c5ead50",
   "metadata": {},
   "outputs": [],
   "source": []
  },
  {
   "cell_type": "code",
   "execution_count": null,
   "id": "7853e808",
   "metadata": {},
   "outputs": [],
   "source": []
  },
  {
   "cell_type": "code",
   "execution_count": null,
   "id": "b688e109",
   "metadata": {},
   "outputs": [],
   "source": []
  }
 ],
 "metadata": {
  "kernelspec": {
   "display_name": "Python 3 (ipykernel)",
   "language": "python",
   "name": "python3"
  },
  "language_info": {
   "codemirror_mode": {
    "name": "ipython",
    "version": 3
   },
   "file_extension": ".py",
   "mimetype": "text/x-python",
   "name": "python",
   "nbconvert_exporter": "python",
   "pygments_lexer": "ipython3",
   "version": "3.9.13"
  }
 },
 "nbformat": 4,
 "nbformat_minor": 5
}
